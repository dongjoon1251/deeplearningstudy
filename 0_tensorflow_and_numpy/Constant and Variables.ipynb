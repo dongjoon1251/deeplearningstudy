{
 "cells": [
  {
   "cell_type": "markdown",
   "metadata": {},
   "source": [
    "시작하기에 앞서\n",
    "잠깐 파이썬의 함수에 대해서 짚고 넘어가면\n",
    "\n",
    "```\n",
    "def func(a, b):\n",
    "    print(a)\n",
    "    print(b)\n",
    "```\n",
    "\n",
    "파이썬의 함수는 위와 같이 정의할수 있다.\n",
    "\n",
    "```\n",
    "def 함수이름(입력 argument 리스트):\n",
    "    함수 본문\n",
    "```\n",
    "\n",
    "의 형태인데    \n",
    "\n",
    "argument 리스트는\n",
    "\n",
    "```\n",
    "(a, b, c)\n",
    "```\n",
    "와 같은 식으로 준다\n"
   ]
  },
  {
   "cell_type": "code",
   "execution_count": null,
   "metadata": {},
   "outputs": [],
   "source": [
    "def my_function(x, y):\n",
    "    print('x', x, 'y', y)"
   ]
  },
  {
   "cell_type": "markdown",
   "metadata": {},
   "source": [
    "함수를 실행시켜 보자"
   ]
  },
  {
   "cell_type": "code",
   "execution_count": null,
   "metadata": {},
   "outputs": [],
   "source": [
    "my_function(10, 5)"
   ]
  },
  {
   "cell_type": "markdown",
   "metadata": {},
   "source": [
    "정의한대로 수행이 된다.\n",
    "\n",
    "만약 y인자를 주지 않고 함수를 호출하면 y는 자동으로 10이 들어간다고 해보자\n",
    "\n",
    "파이썬에서는 다음과 같이 인자를 주지 않았을때의 기본값을 정해줄 수 있다."
   ]
  },
  {
   "cell_type": "code",
   "execution_count": null,
   "metadata": {},
   "outputs": [],
   "source": [
    "def my_function(x, y=10):\n",
    "    print('x', x, 'y', y)\n",
    "    \n",
    "my_function(1)\n",
    "my_function(15, 10)"
   ]
  },
  {
   "cell_type": "markdown",
   "metadata": {},
   "source": [
    "c 나 java에서는 함수의 인자는 순서대로 정의된 위치로 들어갔지만,\n",
    "\n",
    "다음과 같이 함수의 인자를 명시해줄 수 있다"
   ]
  },
  {
   "cell_type": "code",
   "execution_count": null,
   "metadata": {},
   "outputs": [],
   "source": [
    "my_function(x=10, y=5)"
   ]
  },
  {
   "cell_type": "markdown",
   "metadata": {},
   "source": [
    "당연하게도 기본값이 없는 인자를 넘겨주지 않으면 에러가 발생한다"
   ]
  },
  {
   "cell_type": "code",
   "execution_count": null,
   "metadata": {},
   "outputs": [],
   "source": [
    "my_function(y = 10)"
   ]
  },
  {
   "cell_type": "markdown",
   "metadata": {},
   "source": [
    "# Tensorflow 와 numpy import"
   ]
  },
  {
   "cell_type": "code",
   "execution_count": null,
   "metadata": {},
   "outputs": [],
   "source": [
    "import tensorflow as tf\n",
    "import numpy as np"
   ]
  },
  {
   "cell_type": "markdown",
   "metadata": {},
   "source": [
    "Tensorflow의 constant는 tf.constant 함수로 만든다"
   ]
  },
  {
   "cell_type": "code",
   "execution_count": null,
   "metadata": {},
   "outputs": [],
   "source": [
    "a = tf.constant(5)\n",
    "b = tf.constant(10)\n",
    "\n",
    "c = tf.add(a, b)\n",
    "# c = a + b 도 같음"
   ]
  },
  {
   "cell_type": "markdown",
   "metadata": {},
   "source": [
    "c에는 15가 들어 있을까?"
   ]
  },
  {
   "cell_type": "code",
   "execution_count": null,
   "metadata": {},
   "outputs": [],
   "source": [
    "print(a)\n",
    "print(b)\n",
    "print(c)\n",
    "\n",
    "print(type(c))"
   ]
  },
  {
   "cell_type": "markdown",
   "metadata": {},
   "source": [
    "Tensor라고 찍힐뿐 결과는 나오지 않는다.\n",
    "\n",
    "Tensorflow에서는 어떻게 연산할지를 정의하고,\n",
    "\n",
    "실제 연산은 session 을 통해서 이뤄진다\n",
    "\n",
    "session은 tf.Session() 으로 만들수 있고,\n",
    "\n",
    "sess.run 함수에 값을 계산하고 싶은 Tensor를 주면 계산해준다."
   ]
  },
  {
   "cell_type": "code",
   "execution_count": null,
   "metadata": {},
   "outputs": [],
   "source": [
    "sess = tf.Session()\n",
    "print(sess.run(c))"
   ]
  },
  {
   "cell_type": "markdown",
   "metadata": {},
   "source": [
    "Session 에는 한번에 여러 값을 알려달라고 할 수도 있다.\n",
    "\n",
    "이때 list의 형태로 인자를 넘겨줘야 해서 \\[ \\] 가 붙음에 유의하자"
   ]
  },
  {
   "cell_type": "code",
   "execution_count": null,
   "metadata": {},
   "outputs": [],
   "source": [
    "result = sess.run([a, b, c])\n",
    "\n",
    "print(result)"
   ]
  },
  {
   "cell_type": "markdown",
   "metadata": {},
   "source": [
    "정리하면,\n",
    "\n",
    "c = tf.add(a, b) 를 수행하면, 실제 연산 (5 + 10) 이 일어나는게 아니라\n",
    "\n",
    "c는 a 와 b의 값을 더해서 연산할 것이라는 정보만 기록이 되고,\n",
    "\n",
    "실제 연산은 session에게 넘겨줘야 수행된다.\n",
    "\n",
    "constant는 스칼라 벡터 행렬 텐서등 다양한 형태가 가능하다.\n",
    "\n",
    "tensorflow에서도 numpy에서와 같이 broadcasting이 일어 난다.\n",
    "\n",
    "그리고 constant는 numpy array로 초기화도 가능하다.\n"
   ]
  },
  {
   "cell_type": "code",
   "execution_count": null,
   "metadata": {},
   "outputs": [],
   "source": [
    "a = tf.constant([1, 2, 3])\n",
    "b = tf.constant(np.arange(3).reshape([3, 1]))\n",
    "\n",
    "c = a + b\n",
    "\n",
    "print('a', a)\n",
    "print('b', b)\n",
    "print('c', c)\n",
    "\n",
    "print(sess.run(c))"
   ]
  },
  {
   "cell_type": "markdown",
   "metadata": {},
   "source": [
    "\n",
    "다음 링크에서 api 를 확인해보자\n",
    "\n",
    "https://www.tensorflow.org/api_docs/python/tf/constant\n",
    "\n",
    "\n",
    "```\n",
    "tf.constant(\n",
    "    value,\n",
    "    dtype=None,\n",
    "    shape=None,\n",
    "    name='Const',\n",
    "    verify_shape=False\n",
    ")\n",
    "```\n",
    "\n",
    "constant 함수는 총 5가지의 입력을 받게 되어 있으나 \n",
    "첫번째 인자를 빼고는 모두 초기 값이 있으므로 주지 않아도 잘 실행됨을 볼 수 있다.\n",
    "\n",
    "두번째 인자는 데이터 타입을 명시해준다.\n",
    "\n",
    "데이터 타입에는\n",
    "\n",
    "tf.int64<br>\n",
    "tf.int32<br>\n",
    "tf.float32<br>\n",
    "tf.float64<br>\n",
    "\n",
    "등등이 있다\n",
    "\n",
    "네번째 인자인 name은 디버깅에 유용하게 쓰인다.\n",
    "\n",
    "앞으로 구현하면서 버그를 잡을때 살펴보도록 하자"
   ]
  },
  {
   "cell_type": "code",
   "execution_count": null,
   "metadata": {},
   "outputs": [],
   "source": [
    "a = tf.constant(5, dtype=tf.float32)\n",
    "\n",
    "print(a)\n",
    "print(sess.run(a))"
   ]
  },
  {
   "cell_type": "markdown",
   "metadata": {},
   "source": [
    "프로그래밍을 해보면, \n",
    "\n",
    "상수뿐만이 아니라 변수도 필요하다.\n",
    "\n",
    "https://www.tensorflow.org/api_docs/python/tf/Variable\n",
    "\n",
    "```\n",
    "__init__(\n",
    "    initial_value=None,\n",
    "    trainable=True,\n",
    "    collections=None,\n",
    "    validate_shape=True,\n",
    "    caching_device=None,\n",
    "    name=None,\n",
    "    variable_def=None,\n",
    "    dtype=None,\n",
    "    expected_shape=None,\n",
    "    import_scope=None,\n",
    "    constraint=None,\n",
    "    use_resource=None,\n",
    "    synchronization=tf.VariableSynchronization.AUTO,\n",
    "    aggregation=tf.VariableAggregation.NONE\n",
    ")\n",
    "```\n",
    "\n",
    "파이썬의 class는 일반적으로 첫글자를 대문자로 이름을 붙이며 (함수는 소문자)\n",
    "\n",
    "\\_\\_init\\_\\_() 함수는 class의 생성자이다\n",
    "\n",
    "첫번째 인자는 초기값이라는 것을 염두에 두자"
   ]
  },
  {
   "cell_type": "code",
   "execution_count": null,
   "metadata": {},
   "outputs": [],
   "source": [
    "x = tf.Variable([3, 4])\n",
    "\n",
    "print(x)"
   ]
  },
  {
   "cell_type": "markdown",
   "metadata": {},
   "source": [
    "variable도 sess을 거치지 않으면 단지 어떻게 값을 저장하고 있을 것인지-초기화는 어떤식으로 할것이고, dtype은 뭐고 생김새는 어떻고-만을 정의해둔 것이다.\n",
    "\n",
    "따라서 그 값을 보고 싶으면 sess.run 함수에 넣어주자"
   ]
  },
  {
   "cell_type": "code",
   "execution_count": null,
   "metadata": {},
   "outputs": [],
   "source": [
    "sess.run(x)"
   ]
  },
  {
   "cell_type": "markdown",
   "metadata": {},
   "source": [
    "길고 아름다운 에러가 발생했다.\n",
    "\n",
    "겁먹지 말고, \n",
    "\n",
    "맨 마지막을 보자\n",
    "\n",
    "```\n",
    "FailedPreconditionError: Attempting to use uninitialized value Variable\n",
    "\t [[{{node _retval_Variable_0_0}} = _Retval[T=DT_INT32, index=0, _device=\"/job:localhost/replica:0/task:0/device:CPU:0\"](Variable)]]\n",
    "```\n",
    "\n",
    "초기화되지 않은 변수를 사용하려고 했다라고 되어 있다.\n",
    "\n",
    "앞에서 변수도 어떻게 값을 들고 있을 건지만을 정의되어 있지 실제로 초기화는 이루어 지지 않은 상황이다.\n",
    "\n",
    "초기화를 해주는 방법은\n",
    "\n",
    "sess.run에 \n",
    "\n",
    "tf.global_variables_initializer() 를 돌려주는 것이다\n"
   ]
  },
  {
   "cell_type": "code",
   "execution_count": null,
   "metadata": {},
   "outputs": [],
   "source": [
    "sess.run(tf.global_variables_initializer())\n",
    "\n",
    "print(sess.run(x))"
   ]
  },
  {
   "cell_type": "markdown",
   "metadata": {},
   "source": [
    "변수와 상수가 다른 점은 변수에는 값을 할당 할 수 있다는 것이다.\n",
    "\n",
    "값의 할당은 tf.assign을 통해서 일어난다"
   ]
  },
  {
   "cell_type": "code",
   "execution_count": null,
   "metadata": {},
   "outputs": [],
   "source": [
    "assign = tf.assign(x, x + tf.constant(1))"
   ]
  },
  {
   "cell_type": "markdown",
   "metadata": {},
   "source": [
    "x + tf.constant(1) 을 수행 한 결과는 무엇일까?\n",
    "\n",
    "broadcasting이 일어남에 주의해서 따져보자\n",
    "\n",
    "그렇다면 \n",
    "\n",
    "x의 값은 그 값으로 변해 있을까?\n"
   ]
  },
  {
   "cell_type": "code",
   "execution_count": null,
   "metadata": {},
   "outputs": [],
   "source": [
    "print(sess.run(x))"
   ]
  },
  {
   "cell_type": "markdown",
   "metadata": {},
   "source": [
    "값이 변하지 않는다.\n",
    "\n",
    "왜냐면, tf.assign은 이렇게 assign을 하겠다 라고 정의한 것이지\n",
    "\n",
    "실제 assign을 수행하는것이 아니기 때문이다.\n",
    "\n",
    "생각해보자 x + tf.constant(1) 값은 sess만이 구해줄 수 있다 tf.assign(x, x + tf.constant(1)) 이 수행되는 시점에서는 그 값이 어느 값인지 모르는 상황이다.\n",
    "\n",
    "따라서 tf.assign도 sess에게 넘겨줘서 명시적으로 수행시켜야 한다\n",
    "\n",
    "\n",
    "이러한 점이 헷갈린다면, tensorflow은 매우 게을러서 명시적으로 하라고 하기 전에는 하지 않는다!\n",
    "\n",
    "라는 것을 기억해두면 좋다"
   ]
  },
  {
   "cell_type": "code",
   "execution_count": null,
   "metadata": {},
   "outputs": [],
   "source": [
    "sess.run(assign)\n",
    "\n",
    "print(sess.run(x))"
   ]
  },
  {
   "cell_type": "markdown",
   "metadata": {},
   "source": [
    "이렇게 어떻게 연산할 것인지를 정의 해두는 것과\n",
    "\n",
    "실행 하는 것이 구분되어 있음에 유의하자\n",
    "\n",
    "이렇게 구분이 되어 있음으로써\n",
    "\n",
    "다음과 같이 한번 정의한걸 반복해서 사용할 수도 있다"
   ]
  },
  {
   "cell_type": "code",
   "execution_count": null,
   "metadata": {},
   "outputs": [],
   "source": [
    "sess.run(assign)\n",
    "\n",
    "print(sess.run(x))\n",
    "\n",
    "sess.run(assign)\n",
    "\n",
    "print(sess.run(x))\n",
    "\n",
    "sess.run(assign)\n",
    "\n",
    "print(sess.run(x))\n",
    "\n",
    "sess.run(assign)\n",
    "\n",
    "print(sess.run(x))"
   ]
  }
 ],
 "metadata": {
  "kernelspec": {
   "display_name": "Python 3",
   "language": "python",
   "name": "python3"
  },
  "language_info": {
   "codemirror_mode": {
    "name": "ipython",
    "version": 3
   },
   "file_extension": ".py",
   "mimetype": "text/x-python",
   "name": "python",
   "nbconvert_exporter": "python",
   "pygments_lexer": "ipython3",
   "version": "3.6.5"
  }
 },
 "nbformat": 4,
 "nbformat_minor": 2
}
