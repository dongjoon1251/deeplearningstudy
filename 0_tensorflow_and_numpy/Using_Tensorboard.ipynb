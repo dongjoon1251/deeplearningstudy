{
  "nbformat": 4,
  "nbformat_minor": 0,
  "metadata": {
    "colab": {
      "name": "Using Tensorboard.ipynb",
      "version": "0.3.2",
      "provenance": [],
      "private_outputs": true,
      "collapsed_sections": [],
      "include_colab_link": true
    },
    "kernelspec": {
      "name": "python3",
      "display_name": "Python 3"
    }
  },
  "cells": [
    {
      "cell_type": "markdown",
      "metadata": {
        "id": "view-in-github",
        "colab_type": "text"
      },
      "source": [
        "<a href=\"https://colab.research.google.com/github/paryoja/deeplearningstudy/blob/master/Using_Tensorboard.ipynb\" target=\"_parent\"><img src=\"https://colab.research.google.com/assets/colab-badge.svg\" alt=\"Open In Colab\"/></a>"
      ]
    },
    {
      "metadata": {
        "id": "9sbFGuUy96Ry",
        "colab_type": "text"
      },
      "cell_type": "markdown",
      "source": [
        "# Tensorboard를 써보자\n",
        "\n",
        "Tensorboard는 tensorflow의 그래프를 쉽게 보고,\n",
        "\n",
        "중간의 학습결과의 변화를 쉽게 알 수 있게 보여주는 툴입니다.\n",
        "\n",
        "개인 컴퓨터에 tensorflow를 설치하면 쉽게 사용할 수 있지만,\n",
        "\n",
        "colab 환경에서는 사용하기 쉽지 않습니다.\n",
        "\n",
        "\n",
        "다음의 코드를 수행하면 tensorboard를 ./log 디렉토리를 기준으로 실행됩니다.\n",
        "\n",
        "출처: https://stackoverflow.com/questions/47818822/can-i-use-tensorboard-with-google-colab\n",
        "\n",
        "\n",
        "\n"
      ]
    },
    {
      "metadata": {
        "id": "_-5bbk-_9J1C",
        "colab_type": "code",
        "colab": {}
      },
      "cell_type": "code",
      "source": [
        "!wget https://bin.equinox.io/c/4VmDzA7iaHb/ngrok-stable-linux-amd64.zip\n",
        "!unzip ngrok-stable-linux-amd64.zip\n",
        "\n",
        "LOG_DIR = './log'\n",
        "get_ipython().system_raw(\n",
        "    'tensorboard --logdir {} --host 0.0.0.0 --port 6006 &'\n",
        "    .format(LOG_DIR)\n",
        ")\n",
        "\n",
        "get_ipython().system_raw('./ngrok http 6006 &')\n",
        "\n",
        "! curl -s http://localhost:4040/api/tunnels | python3 -c \\\n",
        "    \"import sys, json; print(json.load(sys.stdin)['tunnels'][0]['public_url'])\""
      ],
      "execution_count": 0,
      "outputs": []
    },
    {
      "metadata": {
        "id": "AKgPJxIN-fj2",
        "colab_type": "text"
      },
      "cell_type": "markdown",
      "source": [
        "위에 나오는 링크를 누르면 colab 환경에서의 텐서보드를 접속할 수 있습니다.\n",
        "\n",
        "\n",
        "\n",
        "당장은\n",
        "```\n",
        "No dashboards are active for the current data set.\n",
        "Probable causes:\n",
        "\n",
        "You haven’t written any data to your event files.\n",
        "TensorBoard can’t find your event files.\n",
        "If you’re new to using TensorBoard, and want to find out how to add data and set up your event files, check out the README and perhaps the TensorBoard tutorial.\n",
        "If you think TensorBoard is configured properly, please see the section of the README devoted to missing data problems and consider filing an issue on GitHub.\n",
        "\n",
        "Last reload: Mon Oct 29 2018 22:18:50 GMT+0900 (한국 표준시)\n",
        "Data location: ./log\n",
        "```\n",
        "와 같은 메시지만 뜰 것입니다.\n",
        "\n",
        "간단한 그래프를 만들어 보고 그것을 보겠습니다."
      ]
    },
    {
      "metadata": {
        "id": "rLXm8ryD-fZN",
        "colab_type": "code",
        "colab": {}
      },
      "cell_type": "code",
      "source": [
        "import tensorflow as tf\n",
        "\n",
        "# variable \n",
        "x = tf.Variable(0, dtype=tf.float32, name=\"my_variable\")\n",
        "\n",
        "# constant\n",
        "a = tf.constant(2, dtype=tf.float32, name=\"first_const\")\n",
        "b = tf.constant(1.5, dtype=tf.float32, name=\"second_const\")\n",
        "\n",
        "# 연산\n",
        "c = tf.add(x, a, name=\"my_add\")\n",
        "d = tf.multiply(c, b, name=\"my_mul\")\n",
        "\n",
        "# assign 연산\n",
        "my_assign = tf.assign(x, d, name=\"assign_to_my_variable\")\n",
        "\n",
        "# 세션을 하나 만들고\n",
        "sess = tf.Session()\n",
        "\n",
        "# 그 세션의 graph를 ./log/simple_graph 밑에 저장합니다\n",
        "summary_writer = tf.summary.FileWriter('./log/simple_graph', sess.graph)"
      ],
      "execution_count": 0,
      "outputs": []
    },
    {
      "metadata": {
        "id": "BW1jqcQEBCck",
        "colab_type": "text"
      },
      "cell_type": "markdown",
      "source": [
        "# 결과 보기\n",
        "\n",
        "![그림](https://i.imgur.com/CoSwB0El.png) \n",
        "\n",
        "\n",
        "과 같은 결과나 나왔나요?\n",
        "\n",
        "\n",
        "\n",
        "몇몇분은 저런 모양이 두개나 세개일수도 있습니다.\n",
        "\n",
        "그것은 위 셀을 몇번이나 호출했는지에 따라 달라집니다.\n",
        "\n",
        "\n",
        "보시다시비 텐서플로우의 그래프는 계속 누적이 되므로\n",
        "\n",
        "처음부터 다시 시작하고 싶을 수 있습니다.\n",
        "\n",
        "\n",
        "\n",
        "그 경우 메뉴의 런타임 -> 런타임 다시 시작을 눌러주시고 \n",
        "\n",
        "그래프 그리는 부분을 다시 실행하고,\n",
        "\n",
        "텐서보드의 새로고침을 누르면 딱 하나만 그려져 있을 겁니다.\n",
        "\n",
        "(텐서보드를 실행시키는 코드 - 맨처음 코드 - 는  다시 수행하지 않아도 됩니다)\n",
        "\n",
        "\n",
        "\n",
        "\n",
        "그림을 보면 제가 짠 코드를 잘 보여주고 있습니다.\n",
        "\n",
        "my_variable 이라는 것과 first_const를 더하고 그걸 my_add라 했으며,\n",
        "\n",
        "이에 second_const를 곱하여 my_mul이라고 이름 붙였습니다.\n",
        "\n",
        "그리고 assign_to_my_variable 도 보이네요. (비록 이름이 잘리긴 했지만 ㅠ)"
      ]
    },
    {
      "metadata": {
        "id": "XWBv9dhWB6mB",
        "colab_type": "text"
      },
      "cell_type": "markdown",
      "source": [
        "# 값의 변화 보기\n",
        "\n",
        "텐서보드의 용도는 제가 구현한 그래프를 확인하는데 그치지 않습니다.\n",
        "\n",
        "다음과 같이 세션마다 변화하는 값을 추적하기에도 좋습니다.\n",
        "\n",
        "x 의 값은 0으로 초기화 되고, 3 -> 7.5 -> ... 식으로 증가하는 수열을 이룹니다."
      ]
    },
    {
      "metadata": {
        "id": "gACE0k7W9j5m",
        "colab_type": "code",
        "colab": {}
      },
      "cell_type": "code",
      "source": [
        "# 여기서 x는 scalar 값입니다.\n",
        "\n",
        "tf.summary.scalar('watch_my_variable', x)\n",
        "\n",
        "# 앞서 정의한 summary를 모두 모으는 역할을 합니다.\n",
        "merged = tf.summary.merge_all()\n",
        "\n",
        "# 변수를 사용하니 초기화를 하고\n",
        "sess.run(tf.global_variables_initializer())\n",
        "\n",
        "for i in range(100):\n",
        "  # 100번을 돌면서 값을 기록합니다.\n",
        "  summary, _ = sess.run([merged, my_assign])\n",
        "  summary_writer.add_summary(summary, i)"
      ],
      "execution_count": 0,
      "outputs": []
    },
    {
      "metadata": {
        "id": "X1LelYS_FRwV",
        "colab_type": "text"
      },
      "cell_type": "markdown",
      "source": [
        "![대체 텍스트](https://i.imgur.com/APDrkjP.png)\n",
        "\n",
        "위에 탭을 보면 scalars 라고 있습니다.\n",
        "\n",
        "이를 누르면 다음과 같이 그래프가 그려져 있습니다.\n",
        "\n",
        "나중에는 너무 켜져서 보이지 않는데 그래프 영역을 움직이면 보실 수 있습니다.\n",
        "\n",
        "\n",
        "\n",
        "\n",
        "# 히스토그램\n"
      ]
    },
    {
      "metadata": {
        "id": "wmF18G41Fy_y",
        "colab_type": "text"
      },
      "cell_type": "markdown",
      "source": [
        "텐서플로우에서는 일반적으로 텐서를 다룹니다.\n",
        "\n",
        "\n",
        "그렇다면 tf.summary.scalar와 같이 하나의 값의 변화를 보기보다는\n",
        "\n",
        "전체적인 값의 분포의 변화를 보고 싶을 수 있습니다.\n",
        "\n",
        "그 경우에는 histogram을 사용할 수 있습니다.\n",
        "\n"
      ]
    },
    {
      "metadata": {
        "id": "2Ca7i0yS9oPR",
        "colab_type": "code",
        "colab": {}
      },
      "cell_type": "code",
      "source": [
        "import tensorflow as tf\n",
        "\n",
        "# 지금 그려져 있는 그래프를 초기화 합니다.\n",
        "tf.reset_default_graph()\n",
        "\n",
        "# x는 100, 100 행렬입니다.\n",
        "x = tf.Variable(tf.random_normal([100, 100]), dtype=tf.float32, name=\"my_variable\")\n",
        "a = tf.constant(2, dtype=tf.float32, name=\"first_const\") \n",
        "\n",
        "# (100, 100) 에 () 의 scalar를 더하므로,\n",
        "# broadcasting에 의해서 scalar가 (100, 100)으로 뻥튀기 된 후 더해집니다.\n",
        "c = tf.add(x, a, name=\"my_add\")\n",
        "\n",
        "my_assign = tf.assign(x, c, name=\"assign_to_my_variable\")\n",
        "\n",
        "sess = tf.Session()\n",
        "\n",
        "summary_writer = tf.summary.FileWriter('./log/simple_graph_0', sess.graph)\n",
        "\n",
        "tf.summary.histogram('watch_my_variable', x)\n",
        "merged = tf.summary.merge_all()\n",
        "\n",
        "sess.run(tf.global_variables_initializer())\n",
        "\n",
        "for i in range(100):\n",
        "  summary, _ = sess.run([merged, my_assign])\n",
        "  summary_writer.add_summary(summary, i)"
      ],
      "execution_count": 0,
      "outputs": []
    },
    {
      "metadata": {
        "id": "NHCuCSKiHv1U",
        "colab_type": "text"
      },
      "cell_type": "markdown",
      "source": [
        "![대체 텍스트](https://i.imgur.com/1UvFIgp.png)\n",
        "\n",
        "\n",
        "와 같은 그래프를 보실 수 있습니다.\n",
        "\n",
        "\n",
        "히스토그램은 중학교때 배운 도수분포표입니다.\n",
        "\n",
        "\n",
        "국어 점수 60~70 사이 5명, 70~80 사이 7명, ... 이런 데이터를 그림으로 나타낸 것입니다.\n",
        "\n",
        "다만 여기서는 점수 구간을 알고리즘에 의해 나누고,\n",
        "\n",
        "데이터 사용량을 줄이기 위해 sampling을 수행해서 그림이 정확하지는 않습니다.\n",
        "\n",
        "\n",
        "하지만 값의 분포의 변화를 보기에는 나쁘지 않습니다.\n",
        "\n",
        "\n",
        "https://www.tensorflow.org/guide/summaries_and_tensorboard\n",
        "\n",
        "에서 좀 더 자세한 내용을 확인하세요!\n",
        "\n",
        "\n"
      ]
    },
    {
      "metadata": {
        "id": "ZRPUxPFNJnMZ",
        "colab_type": "code",
        "colab": {}
      },
      "cell_type": "code",
      "source": [
        ""
      ],
      "execution_count": 0,
      "outputs": []
    }
  ]
}