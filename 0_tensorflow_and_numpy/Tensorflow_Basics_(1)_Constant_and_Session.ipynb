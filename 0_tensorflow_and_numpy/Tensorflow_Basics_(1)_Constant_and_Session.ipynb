{
  "nbformat": 4,
  "nbformat_minor": 0,
  "metadata": {
    "colab": {
      "name": "Tensorflow Basics (1) - Constant and Session.ipynb",
      "version": "0.3.2",
      "provenance": [],
      "collapsed_sections": [],
      "include_colab_link": true
    },
    "kernelspec": {
      "display_name": "Python 3",
      "language": "python",
      "name": "python3"
    }
  },
  "cells": [
    {
      "cell_type": "markdown",
      "metadata": {
        "id": "view-in-github",
        "colab_type": "text"
      },
      "source": [
        "<a href=\"https://colab.research.google.com/github/paryoja/deeplearningstudy/blob/master/Tensorflow_Basics_(1)_Constant_and_Session.ipynb\" target=\"_parent\"><img src=\"https://colab.research.google.com/assets/colab-badge.svg\" alt=\"Open In Colab\"/></a>"
      ]
    },
    {
      "metadata": {
        "id": "kotOOStOpgW5",
        "colab_type": "text"
      },
      "cell_type": "markdown",
      "source": [
        "# Tensorflow의 기초\n",
        "\n",
        "Tensorflow를 사용하기 위해서는 명시적으로 사용한다고 표현해주어야 합니다.\n",
        "\n",
        "\n",
        "Python에서 이미 구현되어 있는 모듈을 불러올 때는 import 문을 사용합니다.\n",
        "\n",
        "\n",
        "불러온 모듈의 이름이 길때는, 타이핑 하기 쉽게 별칭을 붙여 줍니다.\n",
        "\n",
        "별칭 앞에는 as를 사용합니다."
      ]
    },
    {
      "metadata": {
        "id": "NUGP9JYNp4Dc",
        "colab_type": "code",
        "colab": {}
      },
      "cell_type": "code",
      "source": [
        "import tensorflow as tf  # tensorflow의 별칭은 tf\n",
        "import numpy as np       # numpy의 별칭은 np"
      ],
      "execution_count": 0,
      "outputs": []
    },
    {
      "metadata": {
        "id": "2eWbp2zupgXe",
        "colab_type": "text"
      },
      "cell_type": "markdown",
      "source": [
        "Tensorflow에서의 상수는  tf.constant 함수로 만든다.\n",
        "\n",
        "상수의 값은 프로그램이 종료될 때 까지 변경되지 않습니다."
      ]
    },
    {
      "metadata": {
        "id": "lfjxjJizpgXg",
        "colab_type": "code",
        "colab": {}
      },
      "cell_type": "code",
      "source": [
        "a = tf.constant(5, name=\"my_a\")\n",
        "b = tf.constant(10, name=\"my_b\")\n",
        "\n",
        "c = tf.add(a, b, name=\"a_plus_b\")\n",
        "# c = a + b 도 같음"
      ],
      "execution_count": 0,
      "outputs": []
    },
    {
      "metadata": {
        "id": "zAn8Iv3KpgXi",
        "colab_type": "text"
      },
      "cell_type": "markdown",
      "source": [
        "마치 \n",
        "\n",
        "```\n",
        "a = 5\n",
        "b = 10\n",
        "\n",
        "c = a + b\n",
        "```\n",
        "가 연상됩니다.\n",
        "\n",
        "위의 파이썬 코드가 수행되면 c에는 15가 들어 있고,\n",
        "\n",
        "print(c)를 수행하면 15가 나옵니다.\n",
        "\n",
        "그렇다면 tensorflow에서도 과연 c에는 15가 들어 있을까요?"
      ]
    },
    {
      "metadata": {
        "id": "X72ZS2jApgXj",
        "colab_type": "code",
        "colab": {}
      },
      "cell_type": "code",
      "source": [
        "print(a)\n",
        "print(b)\n",
        "print(c)\n",
        "\n",
        "print(type(c))"
      ],
      "execution_count": 0,
      "outputs": []
    },
    {
      "metadata": {
        "id": "2xxYrRpZpgXm",
        "colab_type": "text"
      },
      "cell_type": "markdown",
      "source": [
        "생각과는 다르게 결과는 나오지 않고,\n",
        "\n",
        "```\n",
        "Tensor(\"my_a:0\", shape=(), dtype=int32)\n",
        "Tensor(\"my_b:0\", shape=(), dtype=int32)\n",
        "Tensor(\"a_plus_b:0\", shape=(), dtype=int32)\n",
        "<class 'tensorflow.python.framework.ops.Tensor'>\n",
        "```\n",
        "\n",
        "가 출력됨을 볼 수 있습니다.\n",
        "\n",
        "여기서 알 수 있는 정보는 파이썬의 변수 a가 지칭하는 객체는\n",
        "\n",
        "클래스가 Tensor이고, 이름은 my_a:0, 모양은 () 이므로 스칼라 (numpy에서의 shape 보기를 참고하세요),\n",
        "\n",
        "데이터 타입은 32비트 정수형임만을 알 수 있습니다.\n",
        "\n",
        "<br>\n",
        "\n",
        "\n",
        "일반적으로 + 연산이 되면서 바로 계산되는 것과는 다르게,\n",
        "\n",
        "Tensorflow에서는 어떻게 연산할지를 정의하는 부분과 \n",
        "\n",
        "실제 연산이 수행되는 부분이 나눠져 있습니다. (이러한 특성이 주는 잇점은 나중에 살펴보도록 하겠습니다.)\n",
        "\n",
        "<br>\n",
        "\n",
        "a + b 혹은 tf.add(a, b) 는 연산을 정의하는 부분이고,\n",
        "\n",
        "실제 연산을 수행하기 위해서는 Session 을 통해서 이뤄집니다.\n",
        "\n",
        "Session은 tf.Session() 으로 만들수 있고,\n",
        "\n",
        "만들어진 session의 run() 함수가 실제 Tensor의 값을 계산해줍니다."
      ]
    },
    {
      "metadata": {
        "id": "oiXaXIk_pgXn",
        "colab_type": "code",
        "colab": {}
      },
      "cell_type": "code",
      "source": [
        "sess = tf.Session()\n",
        "print(sess.run(c))"
      ],
      "execution_count": 0,
      "outputs": []
    },
    {
      "metadata": {
        "id": "e0PjfwmFpgXp",
        "colab_type": "text"
      },
      "cell_type": "markdown",
      "source": [
        "Session 에는 한번에 여러 값을 알려달라고 할 수도 있습니다.\n",
        "\n",
        "이때, list의 형태로 인자를 넘겨줘야 해서 \\[ \\] 가 붙음에 유의하세요.\n",
        "\n",
        "(sess.run(a, b, c) 가 아님에 유의하세요)"
      ]
    },
    {
      "metadata": {
        "id": "3d-qgx_1pgXq",
        "colab_type": "code",
        "colab": {}
      },
      "cell_type": "code",
      "source": [
        "result = sess.run([a, b, c])\n",
        "\n",
        "print(result)"
      ],
      "execution_count": 0,
      "outputs": []
    },
    {
      "metadata": {
        "id": "gbhngtKjpgXt",
        "colab_type": "text"
      },
      "cell_type": "markdown",
      "source": [
        "다시말해서, \n",
        "\n",
        "c = tf.add(a, b) 를 수행하면, 실제 연산 (5 + 10) 이 일어나는게 아니라\n",
        "\n",
        "c는 a 와 b의 값을 더해서 연산할 것이라는 정보만 기록이 됩니다.\n",
        "\n",
        "<br>\n",
        "\n",
        "<b>실제 연산은 반드시 session을 통해서 이루어집니다.</b>\n",
        "\n",
        "<strike>사실 eager execution이 있긴합니다만... 헷갈리니깐, 없다 칩시다.</strike>\n",
        "\n",
        "<br>\n",
        "\n",
        "쉽게 계산하기 위해서 스칼라를 가지고 예를 만들었지만,\n",
        "\n",
        "constant는 벡터 행렬 텐서등 다양한 형태가 가능합니다.\n",
        "\n",
        "<br>\n",
        "\n",
        "또한 tensorflow에서도 numpy에서와 같이 broadcasting이 일어나므로 연산시에 텐서의 shape을 잘 확인하세요.\n",
        "\n",
        "<br>\n",
        "\n",
        "constant를 초기화 하는데는, python의 list를 쓸 수 도 있지만,\n",
        "\n",
        "np.ndarray를 사용할 수도 있습니다.\n"
      ]
    },
    {
      "metadata": {
        "id": "xOSWsYIIpgXu",
        "colab_type": "code",
        "colab": {}
      },
      "cell_type": "code",
      "source": [
        "a = tf.constant([1, 2, 3])                    # list를 이용하여 초기화\n",
        "b = tf.constant(np.arange(3).reshape([3, 1])) # numpy.ndarray를 이용하여 초기화\n",
        "\n",
        "c = a + b # 에러 발생"
      ],
      "execution_count": 0,
      "outputs": []
    },
    {
      "metadata": {
        "id": "gdDZ5SiVtz4N",
        "colab_type": "text"
      },
      "cell_type": "markdown",
      "source": [
        "에러는 항상 맨 마지막 줄이나 중간을 보시면 힌트를 얻을 수 있습니다.\n",
        "\n",
        "```\n",
        "TypeError: Input 'y' of 'Add' Op has type int64 that does not match type int32 of argument 'x'.\n",
        "```\n",
        "\n",
        "처음 이 에러를 보게 되면 쌩뚱맞게도 'y'와 'x' 가 나옵니다.\n",
        "\n",
        "일단 'Add' 함수 즉 a + b 에서 에러가 난 것은 확실하고,\n",
        "\n",
        "add 함수 에러 메시지에서는 좌변을 'x' 우변을 'y'라고 지칭합니다.\n",
        "\n",
        "즉, \"b는 int64 타입을 갖고 있는데 이는  int32 타입을 갖고 있는 a와 맞지 않는다\"\n",
        "\n",
        "라고 적혀 있네요.\n",
        "\n",
        "<br>\n",
        "\n",
        "언뜻 봐서는 왜 에러가 났다는 건지 와닿지 않습니다.\n",
        "\n",
        "약간의 내막을 알아야 제대로 해석 할 수 있습니다.\n",
        "\n",
        "Tensorflow에서는 같은 integer 형 타입이라도 사용하는 bit 수가 다르면 더해주지 않습니다.\n",
        "\n",
        "그래서 저 에러를 없애기 위해서는\n",
        "\n",
        "b를 int32로 만들던가, a를 int64로 만들어 줘야합니다.\n",
        "\n",
        "<br>\n",
        "\n",
        "까다롭다고 생각했던 c 조차도 int 를 float로 암묵적으로 캐스팅해주는데,\n",
        "\n",
        "너무 까다로운거 아닌가? 라는 생각도 들지만,\n",
        "\n",
        "Tensorflow를 사용하다 보면 나도 모르는 버그를 만들어 내는 경우가 굉장히 많은데,\n",
        "\n",
        "이를 방지하기 위한 안전장치라고 보시면 됩니다.\n",
        "\n",
        "casting을 명시적으로 하기 위해서 tf.cast 함수를 써봅시다.\n"
      ]
    },
    {
      "metadata": {
        "id": "kLwLItQ_t0E9",
        "colab_type": "code",
        "colab": {}
      },
      "cell_type": "code",
      "source": [
        "c = tf.cast(a, tf.int64) + b\n",
        "\n",
        "print('a', a)\n",
        "print('b', b)\n",
        "print('c', c)\n",
        "\n",
        "print(sess.run(c))"
      ],
      "execution_count": 0,
      "outputs": []
    },
    {
      "metadata": {
        "id": "ZWtE3tTApgXw",
        "colab_type": "text"
      },
      "cell_type": "markdown",
      "source": [
        "다음 링크는 tensorflow의 constant 함수의  api 문서입니다.\n",
        "\n",
        "https://www.tensorflow.org/api_docs/python/tf/constant\n",
        "\n",
        "여기에 보면\n",
        "\n",
        "```\n",
        "tf.constant(\n",
        "    value,\n",
        "    dtype=None,\n",
        "    shape=None,\n",
        "    name='Const',\n",
        "    verify_shape=False\n",
        ")\n",
        "```\n",
        "와 같이 constant 함수는 총 5가지의 입력을 받게 되어 있습니다.\n",
        "\n",
        "첫번째 인자를 빼고는 모두 초기 값이 있으므로 주지 않아도 잘 실행됩니다.\n",
        "\n",
        "두번째 인자는 데이터 타입을 명시해줄수 있는데, \n",
        "\n",
        "데이터 타입에는\n",
        "\n",
        "tf.int64<br>\n",
        "tf.int32<br>\n",
        "tf.float32<br>\n",
        "tf.float64<br>\n",
        "\n",
        "등등이 있습니다.\n",
        "\n",
        "https://www.tensorflow.org/api_docs/python/tf/DType\n",
        "\n",
        "에서 모든 타입을 확인 할 수 있습니다.\n",
        "\n",
        "<br>\n",
        "\n",
        "네번째 인자인 name은 버그가 발생했을때, name이 찍힘으로써, 버그를 잡는데 도움이 됩니다.\n",
        "\n",
        "<br>\n",
        "\n",
        "dtype을 명시적으로 주면 다음과 같이 초기값을 casting해서 만들 수도 있습니다."
      ]
    },
    {
      "metadata": {
        "id": "Flw27r-6pgXz",
        "colab_type": "code",
        "colab": {}
      },
      "cell_type": "code",
      "source": [
        "a = tf.constant(5, dtype=tf.float32)\n",
        "\n",
        "print(a)\n",
        "print(sess.run(a))"
      ],
      "execution_count": 0,
      "outputs": []
    },
    {
      "metadata": {
        "id": "NfjbMzKnoc7-",
        "colab_type": "text"
      },
      "cell_type": "markdown",
      "source": [
        ""
      ]
    }
  ]
}