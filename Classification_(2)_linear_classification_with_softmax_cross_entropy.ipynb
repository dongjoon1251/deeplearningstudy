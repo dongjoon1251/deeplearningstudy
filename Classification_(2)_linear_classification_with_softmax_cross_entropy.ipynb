{
  "nbformat": 4,
  "nbformat_minor": 0,
  "metadata": {
    "colab": {
      "name": "Classification (2) - linear classification with softmax cross entropy.ipynb",
      "version": "0.3.2",
      "provenance": [],
      "private_outputs": true,
      "collapsed_sections": [],
      "include_colab_link": true
    },
    "kernelspec": {
      "name": "python3",
      "display_name": "Python 3"
    }
  },
  "cells": [
    {
      "cell_type": "markdown",
      "metadata": {
        "id": "view-in-github",
        "colab_type": "text"
      },
      "source": [
        "<a href=\"https://colab.research.google.com/github/paryoja/deeplearningstudy/blob/master/Classification_(2)_linear_classification_with_softmax_cross_entropy.ipynb\" target=\"_parent\"><img src=\"https://colab.research.google.com/assets/colab-badge.svg\" alt=\"Open In Colab\"/></a>"
      ]
    },
    {
      "metadata": {
        "id": "9W-paRAO69wl",
        "colab_type": "text"
      },
      "cell_type": "markdown",
      "source": [
        "다음 데이터를 다시 사용해서 \n",
        "\n",
        "이번에는 linear classification 을 수행해봅시다. "
      ]
    },
    {
      "metadata": {
        "id": "v8gSOyLN6s8U",
        "colab_type": "code",
        "colab": {}
      },
      "cell_type": "code",
      "source": [
        "from sklearn.datasets import make_blobs\n",
        "\n",
        "dx, dy = make_blobs(600, centers=4, cluster_std=1.0, random_state=0)\n",
        "\n",
        "import matplotlib.pyplot as plt\n",
        "%matplotlib inline \n",
        "\n",
        "fig = plt.figure(figsize=(30, 10))\n",
        "plt.subplot(131)\n",
        "\n",
        "\n",
        "plt.title('All data')\n",
        "plt.scatter(dx[:, 0], dx[:, 1], c=dy, cmap='viridis')\n",
        "plt.xlim(-6, 6)\n",
        "plt.ylim(-3, 12)\n",
        "\n",
        "train_dx = dx[:400]\n",
        "train_dy = dy[:400]\n",
        "\n",
        "test_dx = dx[400:]\n",
        "test_dy = dy[400:]\n",
        "\n",
        "\n",
        "plt.subplot(132)\n",
        "plt.title('Train data')\n",
        "plt.scatter(train_dx[:, 0], train_dx[:, 1], c=train_dy, cmap='viridis')\n",
        "plt.xlim(-6, 6)\n",
        "plt.ylim(-3, 12)\n",
        "\n",
        "plt.subplot(133)\n",
        "\n",
        "plt.title('Test data')\n",
        "plt.scatter(test_dx[:, 0], test_dx[:, 1], c=test_dy, cmap='viridis')\n",
        "plt.xlim(-6, 6)\n",
        "plt.ylim(-3, 12)\n"
      ],
      "execution_count": 0,
      "outputs": []
    },
    {
      "metadata": {
        "id": "iF2DwgBS_DHm",
        "colab_type": "text"
      },
      "cell_type": "markdown",
      "source": [
        "Linear classification을 하려면 각 point 마다 class 개수 만큼의 점수를 만들어야 합니다.\n",
        "\n",
        "각 point는 2개고 이를 4개의 점수로 만들어야 하므로\n",
        "\n",
        "w는 \\[2, 4\\] 가 필요합니다.\n",
        "\n",
        "bias는 class마다 필요하므로 \\[4\\] 개 입니다."
      ]
    },
    {
      "metadata": {
        "id": "smFQO47o68__",
        "colab_type": "code",
        "colab": {}
      },
      "cell_type": "code",
      "source": [
        "import tensorflow as tf\n",
        "\n",
        "\n",
        "n_classes = 4\n",
        "\n",
        "W = tf.Variable(tf.random_normal([2, 4]), dtype=tf.float32)\n",
        "b = tf.Variable(tf.zeros(4), dtype=tf.float32)\n",
        "\n",
        "\n",
        "x = tf.placeholder(tf.float32, shape=[None, 2])\n",
        "y = tf.placeholder(tf.int32, shape=[None])\n",
        "\n",
        "\n",
        "score = tf.matmul(x, W) + b\n",
        "\n",
        "\n",
        "loss = tf.losses.softmax_cross_entropy(onehot_labels=tf.one_hot(y, n_classes), logits=score)\n",
        "\n",
        "optimizer = tf.train.GradientDescentOptimizer(learning_rate = 0.01)\n",
        "\n",
        "train_op = optimizer.minimize(loss)\n",
        "\n",
        "sess = tf.Session()\n",
        "sess.run(tf.global_variables_initializer())"
      ],
      "execution_count": 0,
      "outputs": []
    },
    {
      "metadata": {
        "id": "RZOplcu_A4va",
        "colab_type": "code",
        "colab": {}
      },
      "cell_type": "code",
      "source": [
        "for i in range(10000):\n",
        "  _, l = sess.run([train_op, loss], feed_dict={x: train_dx, y: train_dy})\n",
        "  if i % 1000 == 0:\n",
        "    print(l)"
      ],
      "execution_count": 0,
      "outputs": []
    },
    {
      "metadata": {
        "id": "YeIkL6ObBWCG",
        "colab_type": "code",
        "colab": {}
      },
      "cell_type": "code",
      "source": [
        "import numpy as np\n",
        "\n",
        "pred = tf.argmax(score, axis=1)\n",
        "\n",
        "prediction = sess.run(pred, feed_dict={x: test_dx})\n",
        "\n",
        "print(np.shape(prediction))\n",
        "\n",
        "fig = plt.figure(figsize=(30, 10))\n",
        "plt.subplot(131)\n",
        "\n",
        "\n",
        "plt.title('Test data')\n",
        "plt.scatter(test_dx[:, 0], test_dx[:, 1], c=test_dy, cmap='viridis')\n",
        "plt.xlim(-6, 6)\n",
        "plt.ylim(-3, 12)\n",
        "\n",
        "train_dx = dx[:400]\n",
        "train_dy = dy[:400]\n",
        "\n",
        "test_dx = dx[400:]\n",
        "test_dy = dy[400:]\n",
        "\n",
        "\n",
        "plt.subplot(132)\n",
        "plt.title('Prediction data')\n",
        "\n",
        "plt.scatter(test_dx[:, 0], test_dx[:, 1], c=prediction, cmap='viridis')\n",
        "plt.xlim(-6, 6)\n",
        "plt.ylim(-3, 12)\n",
        "\n",
        "plt.subplot(133)\n",
        "\n",
        "\n",
        "\n",
        "\n",
        "background_x = np.linspace(-4, 5, 100)\n",
        "background_y = np.linspace(-2, 11, 100)\n",
        "\n",
        "background = []\n",
        "\n",
        "for i in background_x:\n",
        "  for j in background_y:\n",
        "    background.append([i, j])\n",
        "    \n",
        "background = np.array(background)\n",
        "\n",
        "background_prediction = sess.run(pred, feed_dict={x: background})\n",
        "\n",
        "plt.title('Decision boundary')\n",
        "plt.scatter(test_dx[:, 0], test_dx[:, 1], c=prediction, cmap='viridis')\n",
        "plt.scatter(background[:, 0], background[:, 1], c=background_prediction, alpha=0.5, cmap='viridis')\n",
        "plt.xlim(-6, 6)\n",
        "plt.ylim(-3, 12)\n",
        "\n",
        "\n",
        "correct = 0\n",
        "\n",
        "for p, a in zip(prediction, test_dy):\n",
        "  if p == a:\n",
        "    correct += 1\n",
        "    \n",
        "print('accuracy', correct/len(test_dy))"
      ],
      "execution_count": 0,
      "outputs": []
    },
    {
      "metadata": {
        "id": "_KeY6TFPEWYp",
        "colab_type": "text"
      },
      "cell_type": "markdown",
      "source": [
        "# 해보기 - (1)\n",
        "\n",
        "다음을 linear regression 해봅시다.\n",
        "\n",
        "힌트! \n",
        "\n",
        "basis function을 쓰세요!\n"
      ]
    },
    {
      "metadata": {
        "id": "k9YJJ28yExjj",
        "colab_type": "code",
        "colab": {}
      },
      "cell_type": "code",
      "source": [
        "count_1 = 100\n",
        "count_2 = 100\n",
        "\n",
        "r1 = np.random.normal(5, 1, count_1)\n",
        "t1 = np.random.uniform(0, 2*np.pi, count_1)\n",
        "\n",
        "dx11 = r1 * np.cos(t1)\n",
        "dx12 = r1 * np.sin(t1)\n",
        "\n",
        "r2 = np.random.normal(7, 1, count_1)\n",
        "t2 = np.random.uniform(0, 2*np.pi, count_1)\n",
        "\n",
        "dx21 = r2 * np.cos(t2)\n",
        "dx22 = r2 * np.sin(t2)\n",
        "\n",
        "dx1 = np.append(dx11, dx21)\n",
        "dx2 = np.append(dx12, dx22)\n",
        "\n",
        "dy = [0] * count_1 + [1] * count_2\n",
        "\n",
        "plt.scatter(dx1, dx2, c=dy, cmap='viridis')"
      ],
      "execution_count": 0,
      "outputs": []
    },
    {
      "metadata": {
        "id": "v0QLge8kEx-m",
        "colab_type": "text"
      },
      "cell_type": "markdown",
      "source": [
        "# 해보기 - (2)\n",
        "\n",
        "다음을 linear regression 해봅시다."
      ]
    },
    {
      "metadata": {
        "id": "gJ7FeVRrBv8P",
        "colab_type": "code",
        "colab": {}
      },
      "cell_type": "code",
      "source": [
        "dx = np.array([[1, 1], [-1, -1], [-1, 1], [1, -1]])\n",
        "dy = np.array([0, 0, 1, 1])\n",
        "\n",
        "\n",
        "plt.scatter(dx[:, 0], dx[:, 1], c=dy, cmap='viridis')\n",
        "\n",
        "plt.xlim(-2, 2)\n",
        "plt.ylim(-2, 2)\n",
        "\n"
      ],
      "execution_count": 0,
      "outputs": []
    },
    {
      "metadata": {
        "id": "xU8bTFsOEkmc",
        "colab_type": "code",
        "colab": {}
      },
      "cell_type": "code",
      "source": [
        ""
      ],
      "execution_count": 0,
      "outputs": []
    }
  ]
}