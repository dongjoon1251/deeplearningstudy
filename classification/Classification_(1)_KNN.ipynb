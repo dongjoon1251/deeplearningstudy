{
  "nbformat": 4,
  "nbformat_minor": 0,
  "metadata": {
    "colab": {
      "name": "Classification (1) - KNN.ipynb",
      "version": "0.3.2",
      "provenance": [],
      "private_outputs": true,
      "collapsed_sections": [],
      "include_colab_link": true
    },
    "kernelspec": {
      "name": "python3",
      "display_name": "Python 3"
    }
  },
  "cells": [
    {
      "cell_type": "markdown",
      "metadata": {
        "id": "view-in-github",
        "colab_type": "text"
      },
      "source": [
        "<a href=\"https://colab.research.google.com/github/paryoja/deeplearningstudy/blob/master/classification/Classification_(1)_KNN.ipynb\" target=\"_parent\"><img src=\"https://colab.research.google.com/assets/colab-badge.svg\" alt=\"Open In Colab\"/></a>"
      ]
    },
    {
      "metadata": {
        "id": "jS-jfFrcAKYq",
        "colab_type": "text"
      },
      "cell_type": "markdown",
      "source": [
        "sklearn (http://scikit-learn.org/stable/) 은 scikit learn에서 제공하는 패키지 명입니다.\n",
        "\n",
        "여기에는 다양한 데이터 마이닝용 알고리즘들이 구현되어 있으며,\n",
        "\n",
        "synthetic data 생성용 코드도 들어 있습니다."
      ]
    },
    {
      "metadata": {
        "id": "_S4Xvewe9OGW",
        "colab_type": "code",
        "colab": {}
      },
      "cell_type": "code",
      "source": [
        "from sklearn.datasets import make_moons\n",
        "\n",
        "dx, dy = make_moons(100, noise=0.1)\n",
        "\n",
        "import matplotlib.pyplot as plt\n",
        "%matplotlib inline \n",
        "\n",
        "plt.scatter(dx[:, 0], dx[:, 1], c=dy, cmap='viridis')"
      ],
      "execution_count": 0,
      "outputs": []
    },
    {
      "metadata": {
        "id": "DcgZ-axsBMKX",
        "colab_type": "text"
      },
      "cell_type": "markdown",
      "source": [
        "위 그림을 보면 달모양 데이터를 만들어 줍니다.\n",
        "\n",
        "make_blobs은 동그란 데이터를 만들어줍니다.\n",
        "\n",
        "600개의 point를 만들고 \n",
        "\n",
        "처음 500개는 학습용\n",
        "\n",
        "뒤의 100개는 테스트용으로 쓰겠습니다."
      ]
    },
    {
      "metadata": {
        "id": "oNqwMzuT_4v_",
        "colab_type": "code",
        "colab": {}
      },
      "cell_type": "code",
      "source": [
        "from sklearn.datasets import make_blobs\n",
        "\n",
        "dx, dy = make_blobs(600, centers=2, cluster_std=1.2, random_state=0)\n",
        "\n",
        "import matplotlib.pyplot as plt\n",
        "%matplotlib inline \n",
        "\n",
        "fig = plt.figure(figsize=(30, 10))\n",
        "plt.subplot(131)\n",
        "\n",
        "\n",
        "plt.title('All data')\n",
        "plt.scatter(dx[:, 0], dx[:, 1], c=dy, cmap='viridis')\n",
        "plt.xlim(-3, 6)\n",
        "plt.ylim(-3, 7)\n",
        "\n",
        "train_dx = dx[:400]\n",
        "train_dy = dy[:400]\n",
        "\n",
        "test_dx = dx[400:]\n",
        "test_dy = dy[400:]\n",
        "\n",
        "\n",
        "plt.subplot(132)\n",
        "plt.title('Train data')\n",
        "plt.scatter(train_dx[:, 0], train_dx[:, 1], c=train_dy, cmap='viridis')\n",
        "plt.xlim(-3, 6)\n",
        "plt.ylim(-3, 7)\n",
        "\n",
        "plt.subplot(133)\n",
        "\n",
        "plt.title('Test data')\n",
        "plt.scatter(test_dx[:, 0], test_dx[:, 1], c=test_dy, cmap='viridis')\n",
        "plt.xlim(-3, 6)\n",
        "plt.ylim(-3, 7)\n",
        "\n",
        "\n",
        "\n",
        "\n"
      ],
      "execution_count": 0,
      "outputs": []
    },
    {
      "metadata": {
        "id": "QiZdj9YSB2m3",
        "colab_type": "text"
      },
      "cell_type": "markdown",
      "source": [
        "실습은 make_blobs로 진행하지만, make moon 에서도 돌려보세요.\n",
        "\n",
        "먼저 k nearest classification 구현에 앞서 \n",
        "\n",
        "nearest classification 구현을 해보겠습니다."
      ]
    },
    {
      "metadata": {
        "id": "4svJAYYMBeZJ",
        "colab_type": "code",
        "colab": {}
      },
      "cell_type": "code",
      "source": [
        "import numpy as np\n",
        "\n",
        "class NearestClassifier:\n",
        "  \n",
        "  def __init__(self):\n",
        "    pass\n",
        "  \n",
        "  def train(self, x, y):\n",
        "    self.x = x\n",
        "    self.y = y\n",
        "    \n",
        "  def predict(self, points):\n",
        "      prediction = []\n",
        "      \n",
        "      for point in points:\n",
        "        # broadcasting 이 일어납니다!!!!\n",
        "        l1_distance = np.sum(np.abs(self.x - point), axis=1)\n",
        "        \n",
        "        idx = np.argmin(l1_distance)\n",
        "        \n",
        "        prediction.append(self.y[idx])\n",
        "      \n",
        "      return prediction"
      ],
      "execution_count": 0,
      "outputs": []
    },
    {
      "metadata": {
        "id": "Ry2Z5RusHKWD",
        "colab_type": "text"
      },
      "cell_type": "markdown",
      "source": [
        "클래스가 준비되었으니, 학습과 테스트를 해봅시다."
      ]
    },
    {
      "metadata": {
        "id": "Ngux42S2HJXB",
        "colab_type": "code",
        "colab": {}
      },
      "cell_type": "code",
      "source": [
        "classifier = NearestClassifier()\n",
        "\n",
        "classifier.train(train_dx, train_dy)"
      ],
      "execution_count": 0,
      "outputs": []
    },
    {
      "metadata": {
        "id": "thh1T6_LIdNL",
        "colab_type": "text"
      },
      "cell_type": "markdown",
      "source": [
        "테스트 데이터로 테스트 해봅시다."
      ]
    },
    {
      "metadata": {
        "id": "l8YJFwjJIXFH",
        "colab_type": "code",
        "colab": {}
      },
      "cell_type": "code",
      "source": [
        "predict = classifier.predict(test_dx)\n",
        "\n",
        "plt.figure(figsize=(30, 10))\n",
        "\n",
        "plt.subplot(131)\n",
        "plt.title('Answer')\n",
        "plt.scatter(test_dx[:, 0], test_dx[:, 1], c=test_dy, cmap='viridis')\n",
        "plt.xlim(-3, 6)\n",
        "plt.ylim(-3, 7)\n",
        "\n",
        "\n",
        "plt.subplot(132)\n",
        "plt.title('Prediction')\n",
        "plt.scatter(test_dx[:, 0], test_dx[:, 1], c=predict, cmap='viridis')\n",
        "plt.xlim(-3, 6)\n",
        "plt.ylim(-3, 7)\n",
        "\n",
        "\n",
        "count = len(test_dy)\n",
        "\n",
        "accuracy = (count - np.sum(np.abs(test_dy - predict))) / count\n",
        "print(\"Accuracy\", accuracy)\n",
        "\n",
        "plt.subplot(133)\n",
        "\n",
        "# 점을 무지 많이 찍으면 배경으로 색칠한 효과가 납니다.\n",
        "\n",
        "background_x = np.linspace(-2, 5, 100)\n",
        "background_y = np.linspace(-2, 6, 100)\n",
        "\n",
        "background = []\n",
        "\n",
        "for x in background_x:\n",
        "  for y in background_y:\n",
        "    background.append([x, y])\n",
        "    \n",
        "background = np.array(background)\n",
        "\n",
        "back_predict = classifier.predict(background)\n",
        "\n",
        "plt.title('Decision boundary')\n",
        "plt.scatter(test_dx[:, 0], test_dx[:, 1], c=predict, cmap='viridis')\n",
        "plt.scatter(background[:, 0], background[:, 1], c=back_predict, alpha=0.50, s=25, cmap='viridis')\n",
        "plt.xlim(-3, 6)\n",
        "plt.ylim(-3, 7)"
      ],
      "execution_count": 0,
      "outputs": []
    },
    {
      "metadata": {
        "id": "Uaxu2BN7JS1D",
        "colab_type": "text"
      },
      "cell_type": "markdown",
      "source": [
        "# 해보자 - 1\n",
        "\n",
        "\n",
        "\n",
        "위 코드를 확장하여 k nearest classification을 해봅시다"
      ]
    },
    {
      "metadata": {
        "id": "3PIgvXW5Is9R",
        "colab_type": "code",
        "colab": {}
      },
      "cell_type": "code",
      "source": [
        ""
      ],
      "execution_count": 0,
      "outputs": []
    },
    {
      "metadata": {
        "id": "Xqg0Qde7_Lee",
        "colab_type": "text"
      },
      "cell_type": "markdown",
      "source": [
        "# 해보자 - 2\n",
        "\n",
        "위 코드를 확장하여 다음과 같이 여러개 class 인 경우도 맞춰보자"
      ]
    },
    {
      "metadata": {
        "id": "WaAJooOJ_P4P",
        "colab_type": "code",
        "colab": {}
      },
      "cell_type": "code",
      "source": [
        "from sklearn.datasets import make_blobs\n",
        "\n",
        "dx, dy = make_blobs(600, centers=4, cluster_std=1.0, random_state=0)\n",
        "\n",
        "import matplotlib.pyplot as plt\n",
        "%matplotlib inline \n",
        "\n",
        "fig = plt.figure(figsize=(30, 10))\n",
        "plt.subplot(131)\n",
        "\n",
        "\n",
        "plt.title('All data')\n",
        "plt.scatter(dx[:, 0], dx[:, 1], c=dy, cmap='viridis')\n",
        "plt.xlim(-6, 6)\n",
        "plt.ylim(-3, 12)\n",
        "\n",
        "train_dx = dx[:400]\n",
        "train_dy = dy[:400]\n",
        "\n",
        "test_dx = dx[400:]\n",
        "test_dy = dy[400:]\n",
        "\n",
        "\n",
        "plt.subplot(132)\n",
        "plt.title('Train data')\n",
        "plt.scatter(train_dx[:, 0], train_dx[:, 1], c=train_dy, cmap='viridis')\n",
        "plt.xlim(-6, 6)\n",
        "plt.ylim(-3, 12)\n",
        "\n",
        "plt.subplot(133)\n",
        "\n",
        "plt.title('Test data')\n",
        "plt.scatter(test_dx[:, 0], test_dx[:, 1], c=test_dy, cmap='viridis')\n",
        "plt.xlim(-6, 6)\n",
        "plt.ylim(-3, 12)\n"
      ],
      "execution_count": 0,
      "outputs": []
    },
    {
      "metadata": {
        "id": "xC-0RIAH_SRr",
        "colab_type": "code",
        "colab": {}
      },
      "cell_type": "code",
      "source": [
        ""
      ],
      "execution_count": 0,
      "outputs": []
    }
  ]
}