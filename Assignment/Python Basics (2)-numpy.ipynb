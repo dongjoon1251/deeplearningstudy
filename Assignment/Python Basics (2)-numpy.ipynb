{
 "cells": [
  {
   "cell_type": "markdown",
   "metadata": {},
   "source": [
    "이번에는 파이썬에서 수치를 다룰때 널리쓰이고 있는 패키지인 numpy 에 대해서 배워 보고자 합니다.\n",
    "\n",
    "수치해석에서는 숫자 하나(스칼라) 만을 다루지 않고, \n",
    "\n",
    "벡터나 행렬, 그리고 텐서(n차원 행렬)를 매우 빈번하게 사용합니다.\n",
    "\n",
    "이런 데이터를 다룰때 파이썬 기본 list 형으로는 번거로울 때가 많습니다.\n",
    "\n",
    "\n",
    "단순하게\n",
    "\n",
    "x = \\[1, 2, 3\\]\n",
    "\n",
    "y = \\[4, 5, 6\\]\n",
    "\n",
    "이라는 두개의 벡터가 있을 때,\n",
    "\n",
    "x + y 를 구하는 코드를 짜보겠습니다.\n",
    "\n",
    "\n",
    "파이썬의 x + y로 하면 어떻게 될까요?"
   ]
  },
  {
   "cell_type": "code",
   "execution_count": null,
   "metadata": {},
   "outputs": [],
   "source": [
    "x = [1, 2, 3]\n",
    "y = [4, 5, 6]\n",
    "\n",
    "\n",
    "print(x + y)"
   ]
  },
  {
   "cell_type": "markdown",
   "metadata": {},
   "source": [
    "안타깝게도 파이썬에서의 list 형 데이터의 + 연산은 list 형 데이터의 연결 (concatenation) 입니다.\n",
    "\n",
    "따라서 우리가 원한 값이 나오지 않습니다.\n",
    "\n",
    "파이썬을 써서 구현한다면 다음과 같이 짤 수 있겠네요."
   ]
  },
  {
   "cell_type": "code",
   "execution_count": null,
   "metadata": {},
   "outputs": [],
   "source": [
    "z = []\n",
    "for i in range(3):\n",
    "    z.append(x[i] + y[i])\n",
    "\n",
    "print(z)"
   ]
  },
  {
   "cell_type": "markdown",
   "metadata": {},
   "source": [
    "또는 다음과 같이 zip 함수를 이용할 수도 있습니다. "
   ]
  },
  {
   "cell_type": "code",
   "execution_count": null,
   "metadata": {},
   "outputs": [],
   "source": [
    "w = []\n",
    "\n",
    "for i, j in zip(x, y):\n",
    "    w.append(i + j)\n",
    "    \n",
    "print(w)\n",
    "\n",
    "\n",
    "print(list(zip(x,y)))"
   ]
  },
  {
   "cell_type": "markdown",
   "metadata": {},
   "source": [
    "zip 함수는 마지막에 출력한 것처럼 두 개의 리스트의 각 element를 묶어주는 역할을 합니다.\n",
    "\n",
    "처음 보는 자료형이 나왔는데, () 로 표시된 것은 튜플(tuple)이라고 불리며,\n",
    "\n",
    "list와 비슷하지만 내용을 바꿀수 없는 특성이 있습니다.\n",
    "\n",
    "어찌됐건 for loop을 써서 연산을 해야하기 때문에 번거롭기도 하고 버그가 발생할 확률이 높아집니다.\n",
    "\n",
    "numpy 를 쓰면 좀 더 예쁘고 간단하게 구현할 수 있습니다.\n",
    "\n",
    "numpy를 쓰기 위해서는 import numpy 와 같이 import를 해줘야 합니다."
   ]
  },
  {
   "cell_type": "code",
   "execution_count": null,
   "metadata": {},
   "outputs": [],
   "source": [
    "import numpy\n",
    "\n",
    "x = numpy.array([1, 2, 3])\n",
    "y = numpy.array([4, 5, 6])\n",
    "\n",
    "z = x + y\n",
    "print(z)\n",
    "\n",
    "print(type(z))"
   ]
  },
  {
   "cell_type": "markdown",
   "metadata": {},
   "source": [
    "numpy 의 array 타입의 덧샘은 우리가 예상한대로 됩니다.\n",
    "\n",
    "출력시에 list의 출력과는 조금 다른데, 중간에 , 가 없습니다.\n",
    "\n",
    "코드를 보시면 numpy의 함수를 쓰기 위해서는 numpy.함수이름 을 써야하는데, \n",
    "\n",
    "매번 numpy를 쓰기에는 번거롭기 때문에 별칭을 붙여서 import 할 수도 있습니다."
   ]
  },
  {
   "cell_type": "code",
   "execution_count": null,
   "metadata": {},
   "outputs": [],
   "source": [
    "import numpy as np\n",
    "\n",
    "x = np.array([1, 2, 3]) \n",
    "y = np.array([4, 5, 6])\n",
    "\n",
    "print(x + y)"
   ]
  },
  {
   "cell_type": "markdown",
   "metadata": {},
   "source": [
    "일반적인 경우에 보통 numpy는 np로 줄여씁니다.\n",
    "\n",
    "몇가지 연산을 더 해보도록 하죠"
   ]
  },
  {
   "cell_type": "code",
   "execution_count": null,
   "metadata": {},
   "outputs": [],
   "source": [
    "x = np.array([1, 2, 3])\n",
    "y = np.array([4, 5, 6])\n",
    "\n",
    "print(x * y) # 곱하기!"
   ]
  },
  {
   "cell_type": "markdown",
   "metadata": {},
   "source": [
    "다들 잘 아시다시피 벡터의 곱셈에는 몇가지 종류가 있습니다.\n",
    "\n",
    "내적, 외적, 그리고 Hadamard product(element-wise multiplication)입니다.\n",
    "\n",
    "내적과 외적은 자주 보셨을 것이고\n",
    "\n",
    "Hadamard product 는 단순히 해당 위치의 element를 곱해서 만든 벡터입니다.\n",
    "\n",
    "다음을 세로로 보시면\n",
    "\n",
    "```\n",
    " 1  2  3\n",
    " *  *  *\n",
    " 4  5  6\n",
    " \n",
    "=4 10 18\n",
    "```\n",
    "로 위에서 출력된 것과 결과가 같습니다.\n",
    "\n",
    "\n",
    "다음은 matrix를 다뤄보겠습니다."
   ]
  },
  {
   "cell_type": "code",
   "execution_count": null,
   "metadata": {},
   "outputs": [],
   "source": [
    "m = np.array([[1, 2, 3], [4, 5, 6]])\n",
    "\n",
    "print(m)"
   ]
  },
  {
   "cell_type": "markdown",
   "metadata": {},
   "source": [
    "matrix는 list의 list로 생각할 수 있습니다.\n",
    "\n",
    "그래서 np.array를 list의 list로 초기화 해주면 matrix가 되고,\n",
    "\n",
    "이를 출력해보면 우리가 자주 보는 matrix 배열로 찍어줍니다.\n",
    "\n",
    "매번 1, 2, 3, 4, 5, 6 이걸 쳐주기 번거로우므로,\n",
    "\n",
    "np.arange 함수를 써보겠습니다."
   ]
  },
  {
   "cell_type": "code",
   "execution_count": null,
   "metadata": {},
   "outputs": [],
   "source": [
    "print(np.arange(6))"
   ]
  },
  {
   "cell_type": "markdown",
   "metadata": {},
   "source": [
    "arange(x) 함수를 쓰면 0부터 x-1까지 x개로 이루어진 벡터를 돌려줍니다.\n",
    "\n",
    "위에서는 6을 줬으므로 6차원 벡터가 되었습니다.\n",
    "\n",
    "이를 matrix 형태로 바꾸려면 reshape 함수를 사용할 수 있습니다."
   ]
  },
  {
   "cell_type": "code",
   "execution_count": null,
   "metadata": {},
   "outputs": [],
   "source": [
    "x = np.arange(6)\n",
    "x = x.reshape([2, 3])\n",
    "\n",
    "print(x)"
   ]
  },
  {
   "cell_type": "markdown",
   "metadata": {},
   "source": [
    "reshape에는 인자로 결과로 만들어낼 벡터, 행렬, 텐서의 형태를 적어줍니다.\n",
    "\n",
    "\\[2, 3\\] 을 넣으면 2행 3열의 matrix로 재배치해줍니다.\n",
    "\n",
    "결과의 행의 갯수와 열의 개수가 어떻게 표현되는지 봐두세요.\n"
   ]
  },
  {
   "cell_type": "code",
   "execution_count": null,
   "metadata": {},
   "outputs": [],
   "source": [
    "x = np.arange(12)\n",
    "\n",
    "print(3,4)\n",
    "print(x.reshape([3, 4]), '\\n')\n",
    "\n",
    "print(12)\n",
    "print(x.reshape([12]), '\\n')\n",
    "\n",
    "print(4,3)\n",
    "print(x.reshape([4, 3]), '\\n')"
   ]
  },
  {
   "cell_type": "markdown",
   "metadata": {},
   "source": [
    "자 그러면 행렬의 연산을 해봅시다.\n",
    "\n",
    "코드를 돌리기 전에 어떤 결과가 나올지 생각해보세요."
   ]
  },
  {
   "cell_type": "code",
   "execution_count": null,
   "metadata": {},
   "outputs": [],
   "source": [
    "x = np.arange(4).reshape([2, 2])\n",
    "y = np.arange(4,8).reshape([2, 2])\n",
    "\n",
    "print('x')\n",
    "print(x)\n",
    "print('y')\n",
    "print(y)\n",
    "\n",
    "print('\\nx + y')\n",
    "print(x + y)\n",
    "\n",
    "print('\\nx * y')\n",
    "print(x * y)"
   ]
  },
  {
   "cell_type": "markdown",
   "metadata": {},
   "source": [
    "여기서 곱하기도 Hdadmard product(element-wise multiplication)이 되고 있음을 볼 수 있습니다.\n",
    "\n",
    "저희가 수학시간에 자주 배운 matrix multiplication은\n",
    "\n",
    "np.matmul 이고 이 둘을 잘 구분하는게 중요합니다.\n",
    "\n",
    "딥러닝에서는 matmul 못지않게 Hadamard product도 자주 쓰입니다."
   ]
  },
  {
   "cell_type": "code",
   "execution_count": null,
   "metadata": {},
   "outputs": [],
   "source": [
    "print(np.matmul(x, y))"
   ]
  },
  {
   "cell_type": "markdown",
   "metadata": {},
   "source": [
    "딥러닝 코딩의 어려운 점은 다루는 데이터의 차원이 고차원이라는 점입니다.\n",
    "\n",
    "Convolutional Neural Network의 경우 대부분 4차원의 형태로 데이터를 다룹니다.\n",
    "\n",
    "따라서 고차원 데이터의 shape을 잘 따져보는것이 반드시 필요합니다.\n",
    "\n",
    "일단 3차원 텐서부터 해보겠습니다.\n",
    "\n",
    "\\[3, 5\\]\n",
    "의 행렬을 2개를 이어붙인 텐서는\n",
    "\n",
    "\\[2, 3, 5\\] 의 형태를 갖습니다."
   ]
  },
  {
   "cell_type": "code",
   "execution_count": null,
   "metadata": {},
   "outputs": [],
   "source": [
    "x = np.arange(30).reshape([2,3,5])\n",
    "\n",
    "print(x)"
   ]
  },
  {
   "cell_type": "markdown",
   "metadata": {},
   "source": [
    "다행스럽게도 numpy는 출력을 할 때 줄을 맞춰줘서 shape을 보기 편합니다.\n",
    "\n",
    "3행 5열의 matrix 두개가 있는것을 보실수 있고, 이는 shape이 \\[2, 3, 5\\] 임을 알 수있게 해줍니다.\n",
    "\n",
    "또한 데이터의 출력 맨 앞부분에\n",
    "\n",
    "\\[ 가 3개가 연달아 나오므로 이는 3차원 텐서임을 알수 있습니다.\n",
    "\n",
    "어느 shape이 어떻게 배치가 되었을지 궁금한 경우 np로 찍어보는 것이 좋습니다.\n",
    "\n",
    "\n",
    "연습문제로 다음 데이터의 shape을 맞춰 보세요.\n",
    "\n",
    "\n",
    "```\n",
    "[[[ 0  1]\n",
    "  [ 2  3]\n",
    "  [ 4  5]\n",
    "  [ 6  7]\n",
    "  [ 8  9]]\n",
    "\n",
    " [[10 11]\n",
    "  [12 13]\n",
    "  [14 15]\n",
    "  [16 17]\n",
    "  [18 19]]\n",
    "\n",
    " [[20 21]\n",
    "  [22 23]\n",
    "  [24 25]\n",
    "  [26 27]\n",
    "  [28 29]]]\n",
    "```\n",
    "\n",
    "shape을 따지는 쉬운 방법은 가장 안쪽 element 부터 따지는 것입니다.\n",
    "\n",
    "시작하는 \\[ 가 3개이므로 3차원 텐서임을 가장 먼저 알수있고\n",
    "\n",
    "보시면 가장 안쪽 list는 모두 2개로 이루어져 잇으므로 \n",
    "\n",
    "shape이 [?, ?, 2] 임을 알 수 있습니다.\n",
    "\n",
    "```\n",
    " [[ 0  1]\n",
    "  [ 2  3]\n",
    "  [ 4  5]\n",
    "  [ 6  7]\n",
    "  [ 8  9]]\n",
    "```\n",
    "\n",
    "이 부분만 떼어놓고 봤을때 \n",
    "\n",
    "2개 짜리 vector가 총 5개 들어가므로\n",
    "\n",
    "것은 \\[5, 2\\] matrix이고,\n",
    "\n",
    "\\[5, 2\\] matrix가 총 3개이므로\n",
    "\n",
    "원래의 텐서는 \\[3, 5, 2\\] 의 shape을 가집니다.\n",
    "\n",
    "위 메뉴에서 insert ->  insert cell below 로 셀을 하나 만드시고\n",
    "\n",
    "print(np.arange(30).reshape(3,5,2))\n",
    "\n",
    "로 결과를 확인해보세요"
   ]
  },
  {
   "cell_type": "markdown",
   "metadata": {},
   "source": [
    "이제 다음 코드의 결과의 형태를 돌리지 않고도 따져보실 수 있으실겁니다."
   ]
  },
  {
   "cell_type": "code",
   "execution_count": null,
   "metadata": {},
   "outputs": [],
   "source": [
    "print(2, 3, 5)\n",
    "print(np.arange(30).reshape(2,3,5))\n",
    "print()\n",
    "print(3, 2, 5)\n",
    "print(np.arange(30).reshape(3,2,5))\n",
    "print()\n",
    "print(5, 2, 3)\n",
    "print(np.arange(30).reshape(5,2,3))"
   ]
  },
  {
   "cell_type": "markdown",
   "metadata": {},
   "source": [
    "\\+ 이나 \\* 연산을 할 때 중요한 점은\n",
    "\n",
    "# 0. \\+ 이나 \\* 연산시 두개의 벡터, 행렬, 텐서의 shape</b> 이 같아야합니다!\n",
    "\n",
    "이 사실을 유념해 주세요.\n",
    "\n",
    "\n",
    "\n",
    "자 이제 broadcasting 테크닉만 익히시면 numpy의 기초는 갖춘것입니다.\n",
    "\n",
    "\\[3, 5, 10\\] 이라는 벡터의 모든 항에 1을 더하고 싶다고 하면 어떻게 해야할까요?\n",
    "\n",
    "np.tile은 숫자를 반복시켜 줍니다.\n"
   ]
  },
  {
   "cell_type": "code",
   "execution_count": null,
   "metadata": {},
   "outputs": [],
   "source": [
    "x = np.array([3, 5, 10])\n",
    "y = np.array([1])\n",
    "\n",
    "z = np.tile(y, 3)\n",
    "\n",
    "print(z)\n",
    "\n",
    "print(x + z)"
   ]
  },
  {
   "cell_type": "markdown",
   "metadata": {},
   "source": [
    "벡터의 모든 항에 같은 값을 더해주는 것은 매우 빈번한 연산이기 때문에\n",
    "\n",
    "매번 tile을 쓰기 귀찮으므로, (tile을 쓰려면 더하는 vector, matrix의 shape을 알아내는 과정이 필요합니다) \n",
    "\n",
    "shape이 다른 두 벡터, 행렬, 텐서의 덧셈, 곱셈에는 broadcasting이라는 특별한 규칙을 적용합니다.\n",
    "\n",
    "일단 x + y 의 연산을 해보도록 하죠"
   ]
  },
  {
   "cell_type": "code",
   "execution_count": null,
   "metadata": {},
   "outputs": [],
   "source": [
    "print(x + y)\n",
    "\n",
    "print(np.shape(x))\n",
    "print(np.shape(y))"
   ]
  },
  {
   "cell_type": "markdown",
   "metadata": {},
   "source": [
    "앞에서 분명 \\+ 의 양 항이 shape이 같아야 한다고 했는데\n",
    "\n",
    "x는 3개짜리 벡터,\n",
    "\n",
    "y는 1개짜리 벡터입니다.\n",
    "\n",
    "그럼에도 연산이 됬습니다.\n",
    "\n",
    "이는 라이브러리가 자동으로 shape을 맞추는 tile을 했기 때문입니다.\n",
    "\n",
    "broadcasting은 shape만 보면 됩니다.\n",
    "\n",
    "\n",
    "x : (3, )\n",
    "y : (1, )\n",
    "\n",
    "의 shape을 가질때,\n",
    "\n",
    "1의 shape을 가지는 y의 값을 복사하여 (3, )짜리로 만들어주고 나서 더합니다.\n",
    "\n",
    "그럼 다음 코드의 결과를 예상하실 수 있을겁니다.\n"
   ]
  },
  {
   "cell_type": "code",
   "execution_count": null,
   "metadata": {},
   "outputs": [],
   "source": [
    "x = np.array([2, 4, 6, 8])\n",
    "\n",
    "y = np.array([10])\n",
    "\n",
    "print(x + y)"
   ]
  },
  {
   "cell_type": "markdown",
   "metadata": {},
   "source": [
    "오 그렇다면 다음과 같은 연산도 될까요?\n",
    "\n",
    "\\[1, 2, 3, 4\\] + \\[10, 20\\] \n",
    "\n",
    "앞에껀 (4,) 이고 뒤는 (2,)이니 \n",
    "\n",
    "뒤를 두번 뻥튀기해서 \\[10, 20, 10, 20\\] 으로 만들면 \n",
    "\n",
    "덧샘이 되는 shape이 되는군요?\n",
    "\n"
   ]
  },
  {
   "cell_type": "code",
   "execution_count": null,
   "metadata": {},
   "outputs": [],
   "source": [
    "x = np.array([2, 4, 6, 8])\n",
    "\n",
    "y = np.array([10, 20])\n",
    "\n",
    "print(x + y)"
   ]
  },
  {
   "cell_type": "markdown",
   "metadata": {},
   "source": [
    "하지만 이런 연산은 지원하지 않습니다.\n",
    "\n",
    "왜냐면 이런걸 지원했다가는 정말 수없이 많은 버그를 만들어 낼 것이기 때문입니다.\n",
    "\n",
    "그리고 broadcasting에 의한 버그는 찾아내기도 무진장 어렵기 때문에\n",
    "\n",
    "\n",
    "# 1. broadcasting은 항상 1인 차원 값에서만 일어난다\n",
    "\n",
    "라는 조건을 잘 기억해두세요.\n",
    "\n",
    "다음은 (2, 3) 행렬과 (2, 1) 행렬의 합입니다.\n"
   ]
  },
  {
   "cell_type": "code",
   "execution_count": null,
   "metadata": {},
   "outputs": [],
   "source": [
    "x = np.array([[10, 20, 30], [40, 50, 60]])\n",
    "\n",
    "y = np.array([[1], [2]])\n",
    "\n",
    "print('x')\n",
    "print(x)\n",
    "\n",
    "print('y')\n",
    "print(y)\n",
    "\n",
    "print('x + y')\n",
    "\n",
    "print(x + y)"
   ]
  },
  {
   "cell_type": "markdown",
   "metadata": {},
   "source": [
    "보면 (2, 1)인 y가 \n",
    "\n",
    "가장 안쪽 차원을 따라서(2, 3)의 형태로 복제되고\n",
    "\n",
    "(즉, \n",
    "\n",
    "```\n",
    "[[1 1 1]\n",
    " [2 2 2]]\n",
    "```\n",
    ")\n",
    "\n",
    "그리고 나서 덧셈되었습니다.\n",
    "\n",
    "\n",
    "그러면 이번에는 \n",
    "\n",
    "(2, 3) 행렬의 각각의 행에 (3, ) 차원 벡터를 더하고 싶으면 어떻게 하면 될까요?\n",
    "\n",
    "\n",
    "\n"
   ]
  },
  {
   "cell_type": "code",
   "execution_count": null,
   "metadata": {},
   "outputs": [],
   "source": [
    "x = np.array([[10, 20, 30], [40, 50, 60]])\n",
    "\n",
    "y = np.array([1,2,3])\n",
    "\n",
    "print(np.shape(x))\n",
    "print(np.shape(y))\n",
    "\n",
    "print(x + y)\n",
    "\n"
   ]
  },
  {
   "cell_type": "markdown",
   "metadata": {},
   "source": [
    "벡터와 행렬, 행렬과 3차원 텐서와 같이 \n",
    "\n",
    "차원의 수가 다른 경우에는 \n",
    "\n",
    "# 2. 적은 차원을 가진 데이터 구조의 shape의 앞에 1을 붙여줍니다\n",
    "\n",
    "즉 (3,) 벡터는 (1,3) 행렬로 변환이 되고\n",
    "\n",
    "덧셈을 하게 되는데\n",
    "\n",
    "(2, 3)과 (1, 3)은 shape이 같지 않으므로\n",
    "\n",
    "broadcasting이 한번 더 일어나서 (2, 3)으로 변환됩니다.\n",
    "\n",
    "\n",
    "# 연습문제\n",
    "\n",
    "다음 연산들의 결과를 예측해보고 실행의 결과가 같은지 확인하세요."
   ]
  },
  {
   "cell_type": "code",
   "execution_count": null,
   "metadata": {},
   "outputs": [],
   "source": [
    "x = np.arange(9).reshape(3, 3)\n",
    "y = np.arange(3).reshape(3, 1)\n",
    "\n",
    "print(x + y)\n"
   ]
  },
  {
   "cell_type": "code",
   "execution_count": null,
   "metadata": {},
   "outputs": [],
   "source": [
    "x = np.arange(9).reshape(3, 3)\n",
    "y = np.arange(3).reshape(1, 3)\n",
    "\n",
    "print(x + y)\n"
   ]
  },
  {
   "cell_type": "code",
   "execution_count": null,
   "metadata": {},
   "outputs": [],
   "source": [
    "x = np.arange(18).reshape(2, 3, 3)\n",
    "y = np.arange(3).reshape(3, 1)\n",
    "\n",
    "print(x + y)\n"
   ]
  },
  {
   "cell_type": "code",
   "execution_count": null,
   "metadata": {},
   "outputs": [],
   "source": [
    "x = np.arange(18).reshape(2, 3, 3)\n",
    "y = np.arange(2).reshape(2)\n",
    "\n",
    "print(x + y)"
   ]
  },
  {
   "cell_type": "code",
   "execution_count": null,
   "metadata": {},
   "outputs": [],
   "source": [
    "x = np.arange(18).reshape(2, 3, 3)\n",
    "y = np.arange(9).reshape(3, 3)\n",
    "\n",
    "print(x + y)"
   ]
  }
 ],
 "metadata": {
  "kernelspec": {
   "display_name": "Python 3",
   "language": "python",
   "name": "python3"
  },
  "language_info": {
   "codemirror_mode": {
    "name": "ipython",
    "version": 3
   },
   "file_extension": ".py",
   "mimetype": "text/x-python",
   "name": "python",
   "nbconvert_exporter": "python",
   "pygments_lexer": "ipython3",
   "version": "3.6.5"
  }
 },
 "nbformat": 4,
 "nbformat_minor": 2
}
