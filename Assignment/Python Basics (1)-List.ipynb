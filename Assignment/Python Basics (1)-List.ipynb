{
 "cells": [
  {
   "cell_type": "markdown",
   "metadata": {},
   "source": [
    " # Python의 기초\n",
    "\n",
    "파이썬에 대해 배워 봅시다.\n",
    "\n",
    "<br>\n",
    "<br>\n",
    "실행에 앞서 메뉴에서 view -> Toggle line numbers 를 눌러주세요\n",
    "<br>\n",
    "<br>\n",
    "\n",
    "\n",
    "파이썬은 기본적으로 변수를 선언할 때 타입을 명시하지 않습니다.\n",
    "\n",
    "C에 익숙하다면\n",
    "\n",
    "int a = 3; <br> printf(\"%d\\n\", a);\n",
    "\n",
    "과 동일한 역할을 하는 코드입니다. 세미콜론이 없어도 된다는 것에 유의하세요.\n",
    "\n",
    "다음 셀에 커서를 올리고 클릭한 후 shift + 엔터 혹은 위의 Run 버튼을 눌러보세요\n",
    "\n",
    "혹시 아래의 셀 옆에 있는 In \\[  \\] 이라고 표시된 부분이 In \\[1\\] 과 같이 In \\[숫자\\] 로 되어 있다면,\n",
    "\n",
    "메뉴의 Cell -> All Output -> Clear 를 눌러주시고 실행하세요."
   ]
  },
  {
   "cell_type": "code",
   "execution_count": null,
   "metadata": {},
   "outputs": [],
   "source": [
    "a = 3\n",
    "\n",
    "print(a)"
   ]
  },
  {
   "cell_type": "markdown",
   "metadata": {},
   "source": [
    "C에 비해서 정말 간단하다는 것이 느껴지시나요?\n",
    "\n",
    "Python은 script 언어입니다.\n",
    "\n",
    "지금까지 수행한 결과는 메모리에 유지되는 중입니다.\n",
    "\n",
    "다른 셀을 실행하지 않았다면, \n",
    "\n",
    "a라는 변수에는 3이 저장되어 있습니다. \n",
    "\n",
    "다음 셀을 실행시켜 보세요.\n",
    "\n",
    "혹시 셀의 실행 순서가 설명하는 내용과 다르게 수행했다면, Run 버튼 옆에옆에 있는 Restart kernel 버튼을 누르고 처음부터 실행하시면 됩니다."
   ]
  },
  {
   "cell_type": "code",
   "execution_count": null,
   "metadata": {},
   "outputs": [],
   "source": [
    "print(a)\n",
    "\n",
    "print(type(a))"
   ]
  },
  {
   "cell_type": "markdown",
   "metadata": {},
   "source": [
    "다시 말해,\n",
    "\n",
    "jupyter notebook의 각 셀은 독립적이지 않습니다.\n",
    "\n",
    "셀의 수행에 따라 메모리는 그때그때 변경되고 유지되고 있습니다.\n",
    "\n",
    "여기서 쓰이는 print, type 은 파이썬이 기본적으로 제공하는 built in 함수들입니다.\n",
    "\n",
    "type은 해당 변수의 데이터형을 알려줍니다. 현재는 int 로 표시되니, 정수형임을 알수 있습니다.\n",
    "\n",
    "\n",
    "a의 값을 바꿔볼까요?"
   ]
  },
  {
   "cell_type": "code",
   "execution_count": null,
   "metadata": {},
   "outputs": [],
   "source": [
    "a = 100 - 60\n",
    "\n",
    "print(a)\n",
    "\n",
    "print(type(a))"
   ]
  },
  {
   "cell_type": "markdown",
   "metadata": {},
   "source": [
    "프로그래밍 언어를 아시면 별로 놀라운 일은 아닙니다.\n",
    "\n",
    "100에서 60을 뺀 40이 저장되게 됩니다\n",
    "\n",
    "다음 결과는 c나 java 만을 아는 사람에게는 조금 놀라울 수 있습니다"
   ]
  },
  {
   "cell_type": "code",
   "execution_count": null,
   "metadata": {},
   "outputs": [],
   "source": [
    "a = \"Hello world!\"\n",
    "\n",
    "print(a)\n",
    "\n",
    "print(type(a))"
   ]
  },
  {
   "cell_type": "markdown",
   "metadata": {},
   "source": [
    "Integer 형이였던 a 가 문자열 변수로 변했습니다.\n",
    "\n",
    "c나 java에서는 에러가 나는 상황인데, python에서는 이를 허용합니다.\n",
    "\n",
    "데이터의 타입이 바뀔수 있어서 쉽게 코딩할 수 있는 장점이 있는 반면에, 예상치 못한 버그를 만들어 내기도 합니다.\n",
    "\n",
    "따라서 이를 유념하고 코드를 작성하는 것이 좋습니다.\n",
    "\n",
    "<br>\n",
    "\n",
    "파이썬에서는 문자열 상수를 \"문자열\" 로 나타낼 수도 있고 '문자열' 로도 나타낼 수도 있습니다. 둘의 차이는 없으니 취향대로 쓰시면 됩니다.\n",
    "\n",
    "<br>\n",
    "\n",
    "파이썬에서 기본으로 제공하는 데이터 타입을 몇 가지 살펴보겠습니다.\n",
    "\n",
    "10개의 값을 저장하고 싶을 때, c나 java에서는 array를 사용했었습니다.\n",
    "\n",
    "Python에서는 그 경우 list 를 사용합니다.\n",
    "\n",
    "list는 list() 나 \\[\\] 로 초기화가 됩니다.\n",
    "\n",
    "리스트에 값을 넣고 싶은 경우에는 append 함수를 쓰면 됩니다."
   ]
  },
  {
   "cell_type": "code",
   "execution_count": null,
   "metadata": {},
   "outputs": [],
   "source": [
    "my_array = list()\n",
    "\n",
    "my_array.append(10)\n",
    "my_array.append(5)\n",
    "my_array.append(3)\n",
    "\n",
    "print('my_array:', my_array)\n",
    "print(type(my_array))"
   ]
  },
  {
   "cell_type": "markdown",
   "metadata": {},
   "source": [
    "위의 리스트에 문자열을 넣어도 될까요?\n",
    "\n",
    "뭐 안되면 안물어봤겠죠?\n",
    "\n",
    "심지어 list에는 list도 들어갑니다"
   ]
  },
  {
   "cell_type": "code",
   "execution_count": null,
   "metadata": {},
   "outputs": [],
   "source": [
    "my_array.append(\"Hi There!\")\n",
    "print(my_array)\n",
    "\n",
    "new_array = [10, 3.6]\n",
    "\n",
    "my_array.append(new_array)\n",
    "\n",
    "print(my_array)"
   ]
  },
  {
   "cell_type": "markdown",
   "metadata": {},
   "source": [
    "my_array의 다섯번째 값을 감싸는 \\[ \\] 기호가 있음에 유의하세요.\n",
    "\n",
    "<br>\n",
    "\n",
    "리스트의 값에서 하나만 빼오기 위해서는\n",
    "\n",
    "my_array\\[0\\] 과 같이 접근하면 됩니다.\n",
    "\n",
    "여기서 첫번째 요소를 가리키는 숫자가 0입니다."
   ]
  },
  {
   "cell_type": "code",
   "execution_count": null,
   "metadata": {},
   "outputs": [],
   "source": [
    "print(my_array[0])\n",
    "print(my_array[1])\n",
    "print(my_array[2])\n",
    "print(my_array[3])\n",
    "print(my_array[4])"
   ]
  },
  {
   "cell_type": "markdown",
   "metadata": {},
   "source": [
    "list 내의 값을 바꿀 수도 있습니다."
   ]
  },
  {
   "cell_type": "code",
   "execution_count": null,
   "metadata": {},
   "outputs": [],
   "source": [
    "my_array[2] = \"new value\"\n",
    "print(my_array)"
   ]
  },
  {
   "cell_type": "markdown",
   "metadata": {},
   "source": [
    "순서대로 실행하셨다면 7번 셀의 결과를 얻기 위해서 5줄의 코드를 작성했습니다.\n",
    "\n",
    "좀 더 코드 답게 가볼까요? 반복문을 써봅시다.\n",
    "\n",
    "c에서는 \n",
    "\n",
    "```for( int i = 0; i < 5; i++ ) {\n",
    "    printf(\"%d\\n\", i, my_array[i])\n",
    "}\n",
    "```\n",
    "\n",
    "로 짜면 됬을텐데요.\n",
    "\n",
    "python으로는 어떻게 할 수 있는지 보시죠."
   ]
  },
  {
   "cell_type": "code",
   "execution_count": null,
   "metadata": {},
   "outputs": [],
   "source": [
    "for i in range(5):\n",
    "    print(my_array[i])"
   ]
  },
  {
   "cell_type": "markdown",
   "metadata": {},
   "source": [
    "range(x) 라는 built-in 함수는 0부터 x-1 까지의 값을 돌려줍니다.\n",
    "\n",
    "따라서 위 코드에서는 i가 0에서 4까지 돌게 됩니다.\n",
    "\n",
    "my_array 에 내용이 더 많아지면 개수에 변동이 있어서 range의 인자를 조절해줘야합니다.\n",
    "\n",
    "my_array의 길이가 몇이든 쓸 수 있는 코드는 다음과 같습니다."
   ]
  },
  {
   "cell_type": "code",
   "execution_count": null,
   "metadata": {},
   "outputs": [],
   "source": [
    "my_array.append(1)\n",
    "my_array.append(2)\n",
    "my_array.append(3)\n",
    "\n",
    "for i in range(len(my_array)):\n",
    "    print(my_array[i])"
   ]
  },
  {
   "cell_type": "markdown",
   "metadata": {},
   "source": [
    "음 새롭게 len이란 함수가 등장했는데 list의 길이를 알려주는 함수란 것을 눈치 채셨을 겁니다.\n",
    "\n",
    "하지만 위 코드는 파이썬스럽지 못합니다 (pythonic 하지 않습니다)\n",
    "\n",
    "다음 코드를 보시면 더욱 간단함을 알 수 있으실 겁니다."
   ]
  },
  {
   "cell_type": "code",
   "execution_count": null,
   "metadata": {},
   "outputs": [],
   "source": [
    "for value in my_array:\n",
    "    print(value)"
   ]
  },
  {
   "cell_type": "markdown",
   "metadata": {},
   "source": [
    "위 코드를 다음과 같은 그냥 영어문장으로 생각해보시면 위의 출력결과가 이해되실겁니다.\n",
    "\n",
    "for each value in my_array, print value\n",
    "\n",
    "라는 문장을 보면, my_array에 있는 각각의 값마다 출력해라 라는 의미가 되는데, 이 상황에서는 my_array의 길이가 중요치 않습니다.\n",
    "\n",
    "그 안에 몇개가 있든간에 한번씩 출력하라는 말이니깐요.\n",
    "\n",
    "덕분에 코드가 매우 간단해졌습니다.\n",
    "\n",
    "사실 다른 언어에도 for each 문과 같은 형태로 지원하는 기능입니다만 이런식으로 코드를 이해하기 쉽도록 깔끔하게 쓰는 것을 pythonic 하다고 합니다.\n",
    "\n",
    "리스트에서 마지막 값을 알고 싶으면 어떻게 하면 될까요? len을 배웠기 때문에 다음과 같이 짤 수 있겠죠?\n",
    "\n",
    "인덱스는 0부터 시작한다는 것에 유의해서 작성해보면"
   ]
  },
  {
   "cell_type": "code",
   "execution_count": null,
   "metadata": {},
   "outputs": [],
   "source": [
    "print(my_array[len(my_array) - 1])"
   ]
  },
  {
   "cell_type": "markdown",
   "metadata": {},
   "source": [
    "이를 다음과 같이 간편하게 작성할 수 있습니다."
   ]
  },
  {
   "cell_type": "code",
   "execution_count": null,
   "metadata": {},
   "outputs": [],
   "source": [
    "print(my_array[-1])"
   ]
  },
  {
   "cell_type": "markdown",
   "metadata": {},
   "source": [
    "많은 언어에서 음수 index는 의미를 갖지 않습니다. (뭐 c에서 해킹할때는 쓰일 여지가 있을수도 있겠습니다만...)\n",
    "\n",
    "python에서는 item이 4개인 list라고 한다면\n",
    "\n",
    "```my_list = [ 1, 2, 3, 4 ] \n",
    "             0  1  2  3\n",
    "            -4 -3 -2 -1\n",
    "```\n",
    "\n",
    "my_list\\[2\\]는 my_list\\[-2\\]로도 접근할 수 있고, my_list\\[1\\]은 my_list\\[-3\\]으로 접근할 수 있습니다.\n",
    "\n",
    "생각하실때에는 -3은 뒤에서 세번째값 -5는 뒤에서 다섯번째 값으로 생각하시면 편합니다.\n",
    "\n"
   ]
  },
  {
   "cell_type": "code",
   "execution_count": null,
   "metadata": {},
   "outputs": [],
   "source": []
  }
 ],
 "metadata": {
  "kernelspec": {
   "display_name": "Python 3",
   "language": "python",
   "name": "python3"
  },
  "language_info": {
   "codemirror_mode": {
    "name": "ipython",
    "version": 3
   },
   "file_extension": ".py",
   "mimetype": "text/x-python",
   "name": "python",
   "nbconvert_exporter": "python",
   "pygments_lexer": "ipython3",
   "version": "3.6.5"
  }
 },
 "nbformat": 4,
 "nbformat_minor": 2
}
