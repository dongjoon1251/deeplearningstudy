{
  "nbformat": 4,
  "nbformat_minor": 0,
  "metadata": {
    "colab": {
      "name": "Python Basics (1) - Variables.ipynb",
      "version": "0.3.2",
      "provenance": [],
      "collapsed_sections": [],
      "include_colab_link": true
    },
    "kernelspec": {
      "display_name": "Python 3",
      "language": "python",
      "name": "python3"
    }
  },
  "cells": [
    {
      "cell_type": "markdown",
      "metadata": {
        "id": "view-in-github",
        "colab_type": "text"
      },
      "source": [
        "<a href=\"https://colab.research.google.com/github/paryoja/deeplearningstudy/blob/master/Python_Basics_(1)_Variables.ipynb\" target=\"_parent\"><img src=\"https://colab.research.google.com/assets/colab-badge.svg\" alt=\"Open In Colab\"/></a>"
      ]
    },
    {
      "metadata": {
        "id": "pGoocoVqbQnE",
        "colab_type": "text"
      },
      "cell_type": "markdown",
      "source": [
        "# Python의 기초\n",
        "\n",
        "## 파이썬에 대해 배워 봅시다.\n",
        "\n",
        "<br>\n",
        "먼저, 도구 -> 환경설정 -> 행번호 표시를 체크해 주세요.\n",
        "<br>\n",
        "\n",
        "\n",
        "Python은 https://www.python.org/ 에서 다운 받아 설치 할 수 있습니다.\n",
        "\n",
        "하지만 당분간은 Google에서 제공하는 무료 colab 서버를 이용하여, 다른 설치 없이도 \n",
        "\n",
        "Python과 Tensorflow를 학습하겠습니다.\n",
        "\n",
        "위에 표시되어 있는 \"실습모드에서 열기\"를 눌러주세요.\n",
        "\n",
        "그리고 경고창이 뜨는 경우 모든 런타임 재설정 체크하고 \"무시하고 계속하기\" -> \"예\" 를 누르시면 됩니다.\n"
      ]
    },
    {
      "metadata": {
        "id": "20tJF9UneU_R",
        "colab_type": "code",
        "colab": {
          "base_uri": "https://localhost:8080/",
          "height": 35
        },
        "outputId": "541ab0b0-42cf-4f00-808f-6e3dbd4f04aa"
      },
      "cell_type": "code",
      "source": [
        "print(\"Hello World!\")"
      ],
      "execution_count": 1,
      "outputs": [
        {
          "output_type": "stream",
          "text": [
            "Hello World!\n"
          ],
          "name": "stdout"
        }
      ]
    },
    {
      "metadata": {
        "id": "VRH254eqeUTT",
        "colab_type": "text"
      },
      "cell_type": "markdown",
      "source": [
        "\n",
        "---\n",
        "\"Fun facts\"\n",
        "\n",
        "파이썬의 창시자는 귀도 반 로섬(Guido van Rossum)으로, 1989년 크리스마스가 있는 주에, 연구실이 문이 닫혀있어서 심심한 김에 만들었다.\n",
        "\n",
        "<img src=\"https://encrypted-tbn0.gstatic.com/images?q=tbn:ANd9GcSsLy02V0yFapPxr2iFuJzEAPXkEOjNdqXVNqFRaMczy-qioiIe\">\n",
        "\n",
        "귀도 반 로섬은 구글에서 일하다가 현재는 드랍박스에서 일합니다.\n",
        "\n",
        "---\n",
        "\n",
        "파이썬은 한줄 한줄 실행하는 언어입니다.\n",
        "\n",
        "이러한 언어를 인터프리터 언어라고 합니다.\n",
        "\n",
        "컴퓨터를 모르는 사람도 한번쯤은 들어 봤을 c나 c++, java와는 다르게 컴파일이라는 과정을 명시적으로 거치지 않습니다.\n",
        "\n",
        "<br>\n",
        "\n",
        "아래의 코드 공간을 클릭하고 shift + enter를 치면 그 코드 공간에 있는 코드가 한줄 한줄 실행 됩니다.\n",
        "\n",
        "다음을 실행해 보세요."
      ]
    },
    {
      "metadata": {
        "id": "f25g6T6RbQnI",
        "colab_type": "code",
        "colab": {}
      },
      "cell_type": "code",
      "source": [
        "a = 3\n",
        "\n",
        "print(a)"
      ],
      "execution_count": 0,
      "outputs": []
    },
    {
      "metadata": {
        "id": "Uaq4oFixbQnP",
        "colab_type": "text"
      },
      "cell_type": "markdown",
      "source": [
        "수학시간에 많이 봤음 직한 등식입니다.\n",
        "\n",
        "하지만 수학에서의 등호와는 다른 의미를 가지고 있습니다.\n",
        "\n",
        "1번 라인의 a = 3 에서는 a라는 변수에 숫자 3을 저장하라는 의미입니다.\n",
        "\n",
        "3번 라인에는 변수 a에 저장되어 있는 값을 출력하라는 명령입니다.\n",
        "\n",
        "<br>\n",
        "\n",
        "여기서 사용된 print 는 파이썬에서 미리 정해놓은 약속입니다.\n",
        "\n",
        "이 print 를 쓰고 괄호안에 변수를 쓰면 그 변수에 저장되어 있는 값을 출력해줍니다.\n",
        "\n",
        "이 print() 를 프린트 함수라고 지칭하겠습니다.\n",
        "\n",
        "함수에 대해서는 뒤에서 살펴보겠습니다.\n",
        "\n",
        "\n",
        "<br>\n",
        "\n",
        "\n",
        "출력 값으로 3이 적혀 있는 것을 보실 수 있을 겁니다.\n",
        "\n",
        "컴퓨터는 이미 a가 3임을 알고 있기 때문에 다음 셀에서의 결과도 a이 나옵니다.\n",
        "\n"
      ]
    },
    {
      "metadata": {
        "id": "dp2N3iFwede4",
        "colab_type": "code",
        "colab": {
          "base_uri": "https://localhost:8080/",
          "height": 35
        },
        "outputId": "794db426-b764-48a0-a668-494c2b3c16d0"
      },
      "cell_type": "code",
      "source": [
        "print(a)"
      ],
      "execution_count": 17,
      "outputs": [
        {
          "output_type": "stream",
          "text": [
            "3\n"
          ],
          "name": "stdout"
        }
      ]
    },
    {
      "metadata": {
        "id": "VjEI9msHf_WP",
        "colab_type": "text"
      },
      "cell_type": "markdown",
      "source": [
        "변수의 이름은 문자와 숫자 그리고 \\_ 로 이루어져 있습니다. (단 숫자로 시작하면 안됩니다. 또한 특수문자는 \\_ 만 사용가능합니다.)\n",
        "\n",
        "다음과 같이 변수의 이름을 한글로도 쓸 수 있습니다.\n",
        "\n",
        "하지만 대부분의 경우 변수의 이름은 영문자와 숫자로 합니다.\n",
        "\n"
      ]
    },
    {
      "metadata": {
        "id": "pRzGT9lAf-zF",
        "colab_type": "code",
        "colab": {
          "base_uri": "https://localhost:8080/",
          "height": 35
        },
        "outputId": "d22b89ea-c199-4835-9bce-9aa85187e9a4"
      },
      "cell_type": "code",
      "source": [
        "가 = 300\n",
        "print(가)"
      ],
      "execution_count": 2,
      "outputs": [
        {
          "output_type": "stream",
          "text": [
            "300\n"
          ],
          "name": "stdout"
        }
      ]
    },
    {
      "metadata": {
        "id": "UTczEofmewS0",
        "colab_type": "text"
      },
      "cell_type": "markdown",
      "source": [
        "위에서 변수 'a' 는 3으로 변수 '가' 는 300으로 할당 해줬습니다.\n",
        "\n",
        "하지만 'b'라는 변수는 한번도 본적이 없습니다.\n",
        "\n",
        "따라서 다음 셀의 결과는 에러가 발생합니다."
      ]
    },
    {
      "metadata": {
        "id": "OUY-9PjLfElO",
        "colab_type": "code",
        "colab": {
          "base_uri": "https://localhost:8080/",
          "height": 172
        },
        "outputId": "ede1cb5d-c703-47a5-8751-2b3137711fe3"
      },
      "cell_type": "code",
      "source": [
        "print(b)"
      ],
      "execution_count": 3,
      "outputs": [
        {
          "output_type": "error",
          "ename": "NameError",
          "evalue": "ignored",
          "traceback": [
            "\u001b[0;31m---------------------------------------------------------------------------\u001b[0m",
            "\u001b[0;31mNameError\u001b[0m                                 Traceback (most recent call last)",
            "\u001b[0;32m<ipython-input-3-67e500defa1b>\u001b[0m in \u001b[0;36m<module>\u001b[0;34m()\u001b[0m\n\u001b[0;32m----> 1\u001b[0;31m \u001b[0mprint\u001b[0m\u001b[0;34m(\u001b[0m\u001b[0mb\u001b[0m\u001b[0;34m)\u001b[0m\u001b[0;34m\u001b[0m\u001b[0m\n\u001b[0m",
            "\u001b[0;31mNameError\u001b[0m: name 'b' is not defined"
          ]
        }
      ]
    },
    {
      "metadata": {
        "id": "6NgU8MwZfHuK",
        "colab_type": "text"
      },
      "cell_type": "markdown",
      "source": [
        "```---------------------------------------------------------------------------\n",
        "NameError                                 Traceback (most recent call last)\n",
        "<ipython-input-3-67e500defa1b> in <module>()\n",
        "----> 1 print(b)\n",
        "\n",
        "NameError: name 'b' is not defined\n",
        "```\n",
        "\n",
        "이름 'b'는 정의되어 있지 않다고 친절하게 알려줍니다.\n",
        "\n",
        "프로그래밍을 진행하면서 다양한 에러를 마주하실텐데, 대부분의 경우는 에러메시지를 유심히 보면 힌트가 숨어있습니다.\n",
        "\n",
        "<br>\n",
        "\n",
        "---\n",
        "\n",
        "\n",
        "\n",
        "\n",
        "이미 정의되어 있는 변수 a의 값을 =를 이용하여 바꿔 줄 수도 있습니다.\n",
        "\n",
        "바꾸기 전에 출력하면 바꾸기 전의 값, 바꾸고  난 다음에는 바뀐 값이 출력됩니다.\n",
        "\n",
        "\n",
        "코드에서 # 으로 시작하는 문장은 무시되며,  이를 주석(comment)라 합니다.\n",
        "\n",
        "comment를 자주 남기는 습관은 코딩을 함에 있어서 매우 중요한 습관입니다."
      ]
    },
    {
      "metadata": {
        "id": "WcZ0V9vFfZJZ",
        "colab_type": "code",
        "colab": {
          "base_uri": "https://localhost:8080/",
          "height": 89
        },
        "outputId": "9032a241-f2b6-4c91-b1e5-09ab96d0156c"
      },
      "cell_type": "code",
      "source": [
        "# 바꾸기 전에 출력합니다.\n",
        "print(\"바꾸기 전\")\n",
        "print(a)\n",
        "\n",
        "a = 5\n",
        "\n",
        "# 바꾸고 난 다음 출력합니다.\n",
        "print(\"바뀐 후\")\n",
        "print(a)"
      ],
      "execution_count": 4,
      "outputs": [
        {
          "output_type": "stream",
          "text": [
            "바꾸기 전\n",
            "3\n",
            "바뀐 후\n",
            "5\n"
          ],
          "name": "stdout"
        }
      ]
    },
    {
      "metadata": {
        "id": "88ZirwJgfdRa",
        "colab_type": "text"
      },
      "cell_type": "markdown",
      "source": [
        "더하기 곱하기는 수학시간에 배운 것과 동일하게 작동합니다.\n",
        "\n",
        "곱하기 부터, 그리고 더하기가 연산됩니다.\n",
        "\n",
        "그래서 10 + 5 * 3 은 10 + 15 로 계산된 뒤, 25가 되므로,\n",
        "\n",
        "a 에는 25가 들어가게 됩니다."
      ]
    },
    {
      "metadata": {
        "id": "bEDTfqSsbQnR",
        "colab_type": "code",
        "colab": {
          "base_uri": "https://localhost:8080/",
          "height": 35
        },
        "outputId": "26ea85e0-f82f-45c6-c7af-e16430bc6160"
      },
      "cell_type": "code",
      "source": [
        "a = 10 + 5 * 3\n",
        "\n",
        "print(a)"
      ],
      "execution_count": 5,
      "outputs": [
        {
          "output_type": "stream",
          "text": [
            "25\n"
          ],
          "name": "stdout"
        }
      ]
    },
    {
      "metadata": {
        "id": "uLYzmjwLKjF9",
        "colab_type": "text"
      },
      "cell_type": "markdown",
      "source": [
        "나눗셈 곱셈은 덧셈 뺄셈에 우선합니다.\n",
        "\n",
        "또한 같은 우선순위의 연산은 왼쪽에 있는 것이 우선합니다.\n",
        "<br>\n",
        "\n",
        "곱셈보다 덧셈을 먼저 수행하게 만들고 싶으면 괄호 ()로 연산을 둘러 싸면 됩니다.\n",
        "\n",
        "괄호에 따라 다른 식으로 계산되고, 이러한 에러는 프로그램이 지적해주지 않아 찾기 어려우니 주의하세요."
      ]
    },
    {
      "metadata": {
        "id": "Jr_qrbVXKst4",
        "colab_type": "code",
        "colab": {
          "base_uri": "https://localhost:8080/",
          "height": 53
        },
        "outputId": "e7eec12d-a030-4cef-ed00-d0194365ab10"
      },
      "cell_type": "code",
      "source": [
        "# 30 42 56 의 평균\n",
        "\n",
        "average = (30 + 42 + 56) / 3\n",
        "\n",
        "print(average)\n",
        "\n",
        "\n",
        "average_bug = 30 + 42 + 56 / 3\n",
        "\n",
        "print(average_bug)"
      ],
      "execution_count": 9,
      "outputs": [
        {
          "output_type": "stream",
          "text": [
            "42.666666666666664\n",
            "90.66666666666667\n"
          ],
          "name": "stdout"
        }
      ]
    },
    {
      "metadata": {
        "id": "mJ6lvVhDhPJK",
        "colab_type": "text"
      },
      "cell_type": "markdown",
      "source": [
        "변수에 값을 할당 하기 위해서 다른 변수를 활용할 수도 있습니다."
      ]
    },
    {
      "metadata": {
        "id": "y0633LpWhOov",
        "colab_type": "code",
        "colab": {
          "base_uri": "https://localhost:8080/",
          "height": 35
        },
        "outputId": "fac6e941-2e0f-4f28-adc3-87d2723c28ba"
      },
      "cell_type": "code",
      "source": [
        "b = a * 100\n",
        "\n",
        "print(b)"
      ],
      "execution_count": 6,
      "outputs": [
        {
          "output_type": "stream",
          "text": [
            "2500\n"
          ],
          "name": "stdout"
        }
      ]
    },
    {
      "metadata": {
        "id": "ulYdl554heXB",
        "colab_type": "text"
      },
      "cell_type": "markdown",
      "source": [
        "a에는 25가 들어 있었고, 그곳에 100을 곱하였으니 2500 이 되어,\n",
        "\n",
        "b에는 2500이 들어가게 됩니다.\n",
        "\n",
        "\n",
        "## 해보기\n",
        "\n",
        "\n",
        "다음 셀에 직접 타이핑을 해서 다음을 계산해 보세요.\n",
        "\n",
        "\n",
        "105 \\* 5 + 13 \\* 4 + 1 \\* 9"
      ]
    },
    {
      "metadata": {
        "id": "7NxVfrZzhtCe",
        "colab_type": "code",
        "colab": {}
      },
      "cell_type": "code",
      "source": [
        ""
      ],
      "execution_count": 0,
      "outputs": []
    },
    {
      "metadata": {
        "id": "QUWUDq9ZHhKu",
        "colab_type": "text"
      },
      "cell_type": "markdown",
      "source": [
        "# Coding Convention\n",
        "\n",
        "앞에서는 설명을 위해서 변수의 이름을 간단히 'a' 또는 'b'로 나타냈는데,\n",
        "\n",
        "실제 코딩을 진행하면서는 변수의 이름을 잘 지어줘야 다른 사람과 협업하거나 혹은 본인이 작성한 코드를 오랜만에 봤을때에도 쉽게 이해할 수 있습니다.\n",
        "\n",
        "프로그래밍 언어마다 변수 이름으로 쓰는 규칙이 조금씩 다른데,\n",
        "\n",
        "파이썬에서 변수의 이름은 원칙적으로 소문자여야 하고, 가독성을 위해서 밑줄(\\_)로 단어를 나눌 수 있습니다.\n",
        "\n",
        "이렇게 쓰는 방법을 snake case naming이라고 부릅니다. (snake case naming을 그 방식으로 표현하면 snake_case_naming 이 됩니다)\n",
        "\n",
        "https://en.wikipedia.org/wiki/Snake_case\n",
        "\n",
        "이와 대조적으로\n",
        "\n",
        "첫글자를 대문자로 쓰는 네이밍 방식이 있는데 이 방식은\n",
        "\n",
        "Camel case naming라고 부릅니다. (camel case naming를 그 방식으로 쓰면 CamelCaseNaming 이 됩니다)\n",
        "\n",
        "https://en.wikipedia.org/wiki/Camel_case\n",
        "\n",
        "파이썬의 권장 스타일 가이드는 다음 문서에 정리되어 있습니다.\n",
        "\n",
        "https://www.python.org/dev/peps/pep-0008/\n",
        "\n",
        "널리 쓰이는 IDE(Integrated Development Environment, 통합 개발 환경)에는 기본적으로 이 가이드에 따라 첨삭해주는 기능이 있습니다.\n",
        "\n",
        "또한 변수의 이름이 길어지는 경우에 자동 완성 시켜주는 기능을 기본적으로 탑재하고 있습니다.\n",
        "\n",
        "일단 다음을 실행해보세요.\n"
      ]
    },
    {
      "metadata": {
        "id": "SFzFOff4Hyq-",
        "colab_type": "code",
        "colab": {}
      },
      "cell_type": "code",
      "source": [
        "my_precious_variable = 10"
      ],
      "execution_count": 0,
      "outputs": []
    },
    {
      "metadata": {
        "id": "VrwD6XYYJ0Xt",
        "colab_type": "text"
      },
      "cell_type": "markdown",
      "source": [
        "다음 셀의 _ 뒤에 커서를 두고 ctrl + space를 누르면 my_preciouse_variable 이 뜨는 것을 볼 수 있습니다.\n",
        "\n",
        "대부분의 ide에서 자동 완성 기능은 shift + space를 쓰는데, ide나 os 환경에 따라 달라질 수 있습니다.\n",
        "\n",
        "vim에서는 ctrl + p 를 쓰고, os x의 xcode에서는 control + space 를 사용합니다. \n",
        "\n",
        "(맥의 키보드는 윈도우 ctrl 위치에 option키가 있어서 option + space를 누르게 되는데 mac os에서는 spotlight search가 켜집니다.\n",
        "윈도우와 맥을 번갈아 쓰는 경우에는 상당히 헷갈리는 조합입니다ㅜㅜ)"
      ]
    },
    {
      "metadata": {
        "id": "mZkQj0rMJzLI",
        "colab_type": "code",
        "colab": {}
      },
      "cell_type": "code",
      "source": [
        "my_"
      ],
      "execution_count": 0,
      "outputs": []
    },
    {
      "metadata": {
        "id": "wfRsJJDrKYZN",
        "colab_type": "text"
      },
      "cell_type": "markdown",
      "source": [
        "다음 자료 링크:\n",
        "\n",
        "https://colab.research.google.com/drive/1L__Q_bYfEs4geuDimAkX7Knio8aikobf\n",
        "\n",
        "문제가 있거나 오타가 있는 부분에서는 댓글을 남겨주세요!"
      ]
    },
    {
      "metadata": {
        "id": "bEDcJMStL8gl",
        "colab_type": "code",
        "colab": {}
      },
      "cell_type": "code",
      "source": [
        ""
      ],
      "execution_count": 0,
      "outputs": []
    }
  ]
}