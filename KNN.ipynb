{
  "nbformat": 4,
  "nbformat_minor": 0,
  "metadata": {
    "colab": {
      "name": "KNN.ipynb",
      "version": "0.3.2",
      "provenance": [],
      "private_outputs": true,
      "include_colab_link": true
    },
    "kernelspec": {
      "name": "python3",
      "display_name": "Python 3"
    }
  },
  "cells": [
    {
      "cell_type": "markdown",
      "metadata": {
        "id": "view-in-github",
        "colab_type": "text"
      },
      "source": [
        "<a href=\"https://colab.research.google.com/github/paryoja/deeplearningstudy/blob/master/KNN.ipynb\" target=\"_parent\"><img src=\"https://colab.research.google.com/assets/colab-badge.svg\" alt=\"Open In Colab\"/></a>"
      ]
    },
    {
      "metadata": {
        "id": "jS-jfFrcAKYq",
        "colab_type": "text"
      },
      "cell_type": "markdown",
      "source": [
        "sklearn (http://scikit-learn.org/stable/) 은 scikit learn에서 제공하는 패키지 명입니다.\n",
        "\n",
        "여기에는 다양한 데이터 마이닝용 알고리즘들이 구현되어 있으며,\n",
        "\n",
        "synthetic data 생성용 코드도 들어 있습니다."
      ]
    },
    {
      "metadata": {
        "id": "_S4Xvewe9OGW",
        "colab_type": "code",
        "colab": {}
      },
      "cell_type": "code",
      "source": [
        "from sklearn.datasets import make_moons\n",
        "\n",
        "dx, dy = make_moons(100, noise=0.1)\n",
        "\n",
        "import matplotlib.pyplot as plt\n",
        "%matplotlib inline \n",
        "\n",
        "plt.scatter(dx[:, 0], dx[:, 1], c=dy, cmap='viridis')"
      ],
      "execution_count": 0,
      "outputs": []
    },
    {
      "metadata": {
        "id": "DcgZ-axsBMKX",
        "colab_type": "text"
      },
      "cell_type": "markdown",
      "source": [
        "위 그림을 보면 달모양 데이터를 만들어 줍니다.\n",
        "\n",
        "make_blobs은 동그란 데이터를 만들어줍니다.\n",
        "\n",
        "300개의 point를 만들고 \n",
        "\n",
        "처음 200개는 학습용\n",
        "\n",
        "뒤의 100개는 테스트용으로 쓰겠습니다."
      ]
    },
    {
      "metadata": {
        "id": "oNqwMzuT_4v_",
        "colab_type": "code",
        "colab": {}
      },
      "cell_type": "code",
      "source": [
        "from sklearn.datasets import make_blobs\n",
        "\n",
        "dx, dy = make_blobs(300, centers=2, cluster_std=1.2, random_state=0)\n",
        "\n",
        "import matplotlib.pyplot as plt\n",
        "%matplotlib inline \n",
        "\n",
        "plt.title('All data')\n",
        "plt.scatter(dx[:, 0], dx[:, 1], c=dy, cmap='viridis')\n",
        "plt.xlim(-3, 6)\n",
        "plt.ylim(-3, 7)\n",
        "\n",
        "train_dx = dx[:200]\n",
        "train_dy = dy[:200]\n",
        "\n",
        "test_dx = dx[200:]\n",
        "test_dy = dy[200:]\n",
        "\n",
        "plt.figure()\n",
        "\n",
        "plt.title('Train data')\n",
        "plt.scatter(train_dx[:, 0], train_dx[:, 1], c=train_dy, cmap='viridis')\n",
        "plt.xlim(-3, 6)\n",
        "plt.ylim(-3, 7)\n",
        "\n",
        "plt.figure()\n",
        "\n",
        "plt.title('Test data')\n",
        "plt.scatter(test_dx[:, 0], test_dx[:, 1], c=test_dy, cmap='viridis')\n",
        "plt.xlim(-3, 6)\n",
        "plt.ylim(-3, 7)\n",
        "\n",
        "\n",
        "\n",
        "\n"
      ],
      "execution_count": 0,
      "outputs": []
    },
    {
      "metadata": {
        "id": "QiZdj9YSB2m3",
        "colab_type": "text"
      },
      "cell_type": "markdown",
      "source": [
        "실습은 make_blobs로 진행하지만, make moon 에서도 돌려보세요.\n",
        "\n",
        "먼저 k nearest classification 구현에 앞서 \n",
        "\n",
        "nearest classification 구현을 해보겠습니다."
      ]
    },
    {
      "metadata": {
        "id": "4svJAYYMBeZJ",
        "colab_type": "code",
        "colab": {}
      },
      "cell_type": "code",
      "source": [
        "import numpy as np\n",
        "\n",
        "class NearestClassifier:\n",
        "  \n",
        "  def __init__(self):\n",
        "    pass\n",
        "  \n",
        "  def train(self, x, y):\n",
        "    self.x = x\n",
        "    self.y = y\n",
        "    \n",
        "  def predict(self, points):\n",
        "      prediction = []\n",
        "      \n",
        "      for point in points:\n",
        "        # broadcasting 이 일어납니다!!!!\n",
        "        l1_distance = np.sum(np.abs(self.x - point), axis=1)\n",
        "        \n",
        "        idx = np.argmin(l1_distance)\n",
        "        \n",
        "        prediction.append(self.y[idx])\n",
        "      \n",
        "      return prediction"
      ],
      "execution_count": 0,
      "outputs": []
    },
    {
      "metadata": {
        "id": "Ry2Z5RusHKWD",
        "colab_type": "text"
      },
      "cell_type": "markdown",
      "source": [
        "클래스가 준비되었으니, 학습과 테스트를 해봅시다."
      ]
    },
    {
      "metadata": {
        "id": "Ngux42S2HJXB",
        "colab_type": "code",
        "colab": {}
      },
      "cell_type": "code",
      "source": [
        "classifier = NearestClassifier()\n",
        "\n",
        "classifier.train(train_dx, train_dy)"
      ],
      "execution_count": 0,
      "outputs": []
    },
    {
      "metadata": {
        "id": "thh1T6_LIdNL",
        "colab_type": "text"
      },
      "cell_type": "markdown",
      "source": [
        "테스트 데이터로 테스트 해봅시다."
      ]
    },
    {
      "metadata": {
        "id": "l8YJFwjJIXFH",
        "colab_type": "code",
        "colab": {}
      },
      "cell_type": "code",
      "source": [
        "predict = classifier.predict(test_dx)\n",
        "\n",
        "plt.title('Answer')\n",
        "plt.scatter(test_dx[:, 0], test_dx[:, 1], c=test_dy, cmap='viridis')\n",
        "plt.xlim(-3, 6)\n",
        "plt.ylim(-3, 7)\n",
        "\n",
        "plt.figure()\n",
        "\n",
        "plt.title('Prediction')\n",
        "plt.scatter(test_dx[:, 0], test_dx[:, 1], c=predict, cmap='viridis')\n",
        "plt.xlim(-3, 6)\n",
        "plt.ylim(-3, 7)\n",
        "\n",
        "\n",
        "count = len(test_dy)\n",
        "\n",
        "accuracy = np.sum(count - np.abs(test_dy - predict)) / count\n",
        "print(\"Accuracy\", accuracy)"
      ],
      "execution_count": 0,
      "outputs": []
    },
    {
      "metadata": {
        "id": "Uaxu2BN7JS1D",
        "colab_type": "text"
      },
      "cell_type": "markdown",
      "source": [
        "# 해보자!\n",
        "\n",
        "\n",
        "위 코드를 확장하여 k nearest classification을 해봅시다"
      ]
    },
    {
      "metadata": {
        "id": "3PIgvXW5Is9R",
        "colab_type": "code",
        "colab": {}
      },
      "cell_type": "code",
      "source": [
        ""
      ],
      "execution_count": 0,
      "outputs": []
    }
  ]
}