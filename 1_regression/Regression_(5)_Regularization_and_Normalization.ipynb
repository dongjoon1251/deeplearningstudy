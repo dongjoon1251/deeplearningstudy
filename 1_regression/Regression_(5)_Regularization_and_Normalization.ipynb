{
  "nbformat": 4,
  "nbformat_minor": 0,
  "metadata": {
    "colab": {
      "name": "Regression (5) - Regularization and Normalization.ipynb",
      "version": "0.3.2",
      "provenance": [],
      "private_outputs": true,
      "include_colab_link": true
    },
    "kernelspec": {
      "name": "python3",
      "display_name": "Python 3"
    }
  },
  "cells": [
    {
      "cell_type": "markdown",
      "metadata": {
        "id": "view-in-github",
        "colab_type": "text"
      },
      "source": [
        "<a href=\"https://colab.research.google.com/github/paryoja/deeplearningstudy/blob/master/Regression_(5)_Regularization_and_Normalization.ipynb\" target=\"_parent\"><img src=\"https://colab.research.google.com/assets/colab-badge.svg\" alt=\"Open In Colab\"/></a>"
      ]
    },
    {
      "metadata": {
        "id": "qn-_4pkgNPYW",
        "colab_type": "text"
      },
      "cell_type": "markdown",
      "source": [
        "다음 함수를 linear regression 해봅시다"
      ]
    },
    {
      "metadata": {
        "id": "EotsGKFMM6Wa",
        "colab_type": "code",
        "colab": {}
      },
      "cell_type": "code",
      "source": [
        "import numpy as np\n",
        "\n",
        "dx = np.linspace(0, 2, 100)\n",
        "dy = 5 * dx ** 3 + 100 * np.sin(dx*100) - 8 * np.exp(dx) + np.random.randn(100) / 10 # y = x^3\n",
        "\n",
        "\n",
        "\n",
        "import matplotlib.pyplot as plt\n",
        "%matplotlib inline \n",
        "\n",
        "plt.plot(dx, dy)\n",
        "plt.show()\n"
      ],
      "execution_count": 0,
      "outputs": []
    },
    {
      "metadata": {
        "id": "1sLXdWLRNT7w",
        "colab_type": "text"
      },
      "cell_type": "markdown",
      "source": [
        "basis 함수 아니깐 바로 갑니다"
      ]
    },
    {
      "metadata": {
        "id": "SZWwoaXWNNe8",
        "colab_type": "code",
        "colab": {}
      },
      "cell_type": "code",
      "source": [
        "import tensorflow as tf\n",
        "\n",
        "modified_dx = []\n",
        "\n",
        "for x in dx:\n",
        "  modified_dx.append([x ** 3, np.sin(x * 100), np.exp(x)]) # [100, 3]\n",
        "#print(modified_dx)  \n",
        "  \n",
        "  \n",
        "with tf.variable_scope(\"main\", reuse=tf.AUTO_REUSE):\n",
        "  w = tf.get_variable('w', initializer=tf.random_normal([3, 1]))\n",
        "  b = tf.get_variable('b', initializer=tf.zeros(1))\n",
        "\n",
        "  x = tf.placeholder(tf.float32, shape=[None, 3])\n",
        "  y = tf.placeholder(tf.float32, shape=[None, 1])\n",
        "\n",
        "  # [None, 1]\n",
        "  hypothesis = tf.matmul(x, w) + b\n",
        "\n",
        "  loss = tf.reduce_mean(tf.square(hypothesis - y))\n",
        "\n",
        "  train_op = tf.train.GradientDescentOptimizer(learning_rate=0.01).minimize(loss)\n",
        "\n",
        "  sess = tf.Session()\n",
        "  sess.run(tf.global_variables_initializer())"
      ],
      "execution_count": 0,
      "outputs": []
    },
    {
      "metadata": {
        "id": "jX050SKOPlKX",
        "colab_type": "text"
      },
      "cell_type": "markdown",
      "source": [
        "학습"
      ]
    },
    {
      "metadata": {
        "id": "pj2g3d_pOeHV",
        "colab_type": "code",
        "colab": {}
      },
      "cell_type": "code",
      "source": [
        "for i in range(10000):\n",
        "  _, l = sess.run([train_op, loss], feed_dict = {x: modified_dx, y: np.reshape(dy, [-1, 1])} )\n",
        "  \n",
        "  if i % 1000 == 0:\n",
        "    print(i, l)\n",
        "    \n",
        "print(sess.run(w))\n",
        "print(sess.run(b))"
      ],
      "execution_count": 0,
      "outputs": []
    },
    {
      "metadata": {
        "id": "DmV8q_giPnZw",
        "colab_type": "text"
      },
      "cell_type": "markdown",
      "source": [
        "hypothesis 뽑고 plot"
      ]
    },
    {
      "metadata": {
        "id": "ksKXnm9jOzU3",
        "colab_type": "code",
        "colab": {}
      },
      "cell_type": "code",
      "source": [
        "plt.plot(dx, dy)\n",
        "plt.plot(dx, np.reshape(sess.run(hypothesis, feed_dict={x: modified_dx}), [-1]))"
      ],
      "execution_count": 0,
      "outputs": []
    },
    {
      "metadata": {
        "id": "iqry_uDAQAxB",
        "colab_type": "text"
      },
      "cell_type": "markdown",
      "source": [
        "Sin 함수 맞추기"
      ]
    },
    {
      "metadata": {
        "id": "9T1ii40DP1z3",
        "colab_type": "code",
        "colab": {}
      },
      "cell_type": "code",
      "source": [
        "import numpy as np\n",
        "\n",
        "rng = np.random.RandomState(1)\n",
        "\n",
        "dx = 2 * np.pi * rng.rand(100)\n",
        "dy = 10 * np.sin(dx) + rng.randn(100) / 1  # y = 10 sin (x)\n",
        "\n",
        "\n",
        "\n",
        "import matplotlib.pyplot as plt\n",
        "%matplotlib inline \n",
        "\n",
        "plt.scatter(dx, dy)\n",
        "plt.show()\n"
      ],
      "execution_count": 0,
      "outputs": []
    },
    {
      "metadata": {
        "id": "DJ1zI7UAQDbc",
        "colab_type": "code",
        "colab": {}
      },
      "cell_type": "code",
      "source": [
        "import tensorflow as tf\n",
        "\n",
        "modified_dx = []\n",
        "\n",
        "degree = 3\n",
        "\n",
        "for x in dx:\n",
        "  new_data = []\n",
        "  for d in range(1, degree + 1):\n",
        "    new_data.append(x ** d)\n",
        "  modified_dx.append(new_data) # [100, degree]\n",
        "print(np.shape(modified_dx))\n",
        "  \n",
        "with tf.variable_scope(\"sin_main\", reuse=tf.AUTO_REUSE):\n",
        "  w = tf.get_variable('w', initializer=tf.random_normal([degree, 1]))\n",
        "  b = tf.get_variable('b', initializer=tf.zeros(1))\n",
        "\n",
        "  x = tf.placeholder(tf.float32, shape=[None, degree])\n",
        "  y = tf.placeholder(tf.float32, shape=[None, 1])\n",
        "\n",
        "  # [None, 1]\n",
        "  hypothesis = tf.matmul(x, w) + b\n",
        "\n",
        "  loss = tf.reduce_mean(tf.square(hypothesis - y))\n",
        "\n",
        "  train_op = tf.train.GradientDescentOptimizer(learning_rate=0.0001).minimize(loss)\n",
        "\n",
        "  sess = tf.Session()\n",
        "  sess.run(tf.global_variables_initializer())"
      ],
      "execution_count": 0,
      "outputs": []
    },
    {
      "metadata": {
        "id": "dJmD5m94QbFR",
        "colab_type": "code",
        "colab": {}
      },
      "cell_type": "code",
      "source": [
        "for i in range(100000):\n",
        "  _, l = sess.run([train_op, loss], feed_dict = {x: modified_dx, y: np.reshape(dy, [-1, 1])} )\n",
        "  \n",
        "  if i % 1000 == 0:\n",
        "    print(i, l)\n",
        "    \n",
        "print(sess.run(w))\n",
        "print(sess.run(b))"
      ],
      "execution_count": 0,
      "outputs": []
    },
    {
      "metadata": {
        "id": "v-bRtafhQdAi",
        "colab_type": "code",
        "colab": {}
      },
      "cell_type": "code",
      "source": [
        "plt.scatter(dx, dy)\n",
        "plt.scatter(dx, np.reshape( sess.run(hypothesis, feed_dict={x: modified_dx}) , [-1]))\n",
        "plt.show()"
      ],
      "execution_count": 0,
      "outputs": []
    },
    {
      "metadata": {
        "id": "B4MhUlANQ65e",
        "colab_type": "code",
        "colab": {}
      },
      "cell_type": "code",
      "source": [
        ""
      ],
      "execution_count": 0,
      "outputs": []
    }
  ]
}