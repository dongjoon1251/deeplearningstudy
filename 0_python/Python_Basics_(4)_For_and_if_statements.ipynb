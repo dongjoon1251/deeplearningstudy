{
  "nbformat": 4,
  "nbformat_minor": 0,
  "metadata": {
    "colab": {
      "name": "Python Basics (4) - For and if statements.ipynb",
      "version": "0.3.2",
      "provenance": [],
      "private_outputs": true,
      "collapsed_sections": [],
      "include_colab_link": true
    },
    "kernelspec": {
      "name": "python3",
      "display_name": "Python 3"
    }
  },
  "cells": [
    {
      "cell_type": "markdown",
      "metadata": {
        "id": "view-in-github",
        "colab_type": "text"
      },
      "source": [
        "<a href=\"https://colab.research.google.com/github/paryoja/deeplearningstudy/blob/master/Python_Basics_(4)_For_and_if_statements.ipynb\" target=\"_parent\"><img src=\"https://colab.research.google.com/assets/colab-badge.svg\" alt=\"Open In Colab\"/></a>"
      ]
    },
    {
      "metadata": {
        "id": "yOI5jz6pItup",
        "colab_type": "text"
      },
      "cell_type": "markdown",
      "source": [
        "# For 반복문\n",
        "\n",
        "앞에서 list 안의 내용을 순회하기 위해서 간단한 for loop을 봤습니다.\n",
        "\n",
        "이번에는 for loop의 구조를 조금 더 자세히 설명하도록 하겠습니다.\n",
        "\n",
        "앞에서 봤던 list 에 대한 for loop 입니다."
      ]
    },
    {
      "metadata": {
        "id": "tvqW0m4BIFhB",
        "colab_type": "code",
        "colab": {}
      },
      "cell_type": "code",
      "source": [
        "fruits = [\"apple\", \"banana\", \"cherry\"]\n",
        "\n",
        "for x in fruits:\n",
        "  print(x)"
      ],
      "execution_count": 0,
      "outputs": []
    },
    {
      "metadata": {
        "id": "ddxxddQCLJ0i",
        "colab_type": "text"
      },
      "cell_type": "markdown",
      "source": [
        "파이썬의 range() 함수는 정수 하나를 입력으로 받아서 (그 수를 x라 합시다) 0부터 x-1 까지 반복할수 있게 해줍니다."
      ]
    },
    {
      "metadata": {
        "id": "I2LXxTYKLMcL",
        "colab_type": "code",
        "colab": {}
      },
      "cell_type": "code",
      "source": [
        "for i in range(5): # 0부터 4까지 출력됩니다.\n",
        "  print(i) "
      ],
      "execution_count": 0,
      "outputs": []
    },
    {
      "metadata": {
        "id": "DwTKntwDw_7d",
        "colab_type": "text"
      },
      "cell_type": "markdown",
      "source": [
        "문자열 데이터에 대해서는 각각의 문자에 대해서 순회합니다."
      ]
    },
    {
      "metadata": {
        "id": "xrnGBm6ZxFhT",
        "colab_type": "code",
        "colab": {}
      },
      "cell_type": "code",
      "source": [
        "for char in \"문자열\":\n",
        "  print(char)"
      ],
      "execution_count": 0,
      "outputs": []
    },
    {
      "metadata": {
        "id": "aiMl2K0YJL0p",
        "colab_type": "text"
      },
      "cell_type": "markdown",
      "source": [
        "For loop은 \n",
        "\n",
        "\n",
        "```\n",
        "For [Item 을 지칭할 변수명] in [순회할 수 있는 객체]:\n",
        "     코드 내용\n",
        "```    \n",
        " \n",
        "의 형태를 띄고 있습니다.\n",
        "\n",
        "첫 줄의 마지막에는 반드시 콜론이 있어야합니다.\n",
        "\n",
        "그리고 for loop을 통해 반복할 명령은 반드시 스페이스등으로 들여쓰기를 해야합니다.\n",
        "\n",
        "\n",
        "파이썬 개선 제안 (Python Enhance Proposal, PEP) 8번에 따르면  \n",
        "\n",
        "https://www.python.org/dev/peps/pep-0008/\n",
        "\n",
        "이때는 스페이스 4번을 사용하도록 되어 있습니다.\n",
        "\n",
        "\n",
        "그러나 구글등에서는 스페이스 2번을 사용하는듯합니다. (Colab에서도 기본적으로 2개로 세팅되어 있습니다.)\n",
        "\n",
        "스페이스를 여러번 치기 번거롭기 때문에 대부분의 파이썬 개발 툴에서는 Tab 키를 누르면 스페이스 4개로 변환되는 세팅을 제공합니다.\n",
        "\n",
        "또한 colon을 치면 자동으로 들여쓰기가 됩니다.\n",
        "\n",
        "위 코드를 직접 작성해보시면 알수 있으실 겁니다.\n"
      ]
    },
    {
      "metadata": {
        "id": "ikqx_rY8JLXL",
        "colab_type": "code",
        "colab": {}
      },
      "cell_type": "code",
      "source": [
        "for x in fruits: # 여기서 엔터를 치면\n",
        "  # 이처럼 2개의 space가 자동으로 쳐집니다.\n",
        "  "
      ],
      "execution_count": 0,
      "outputs": []
    },
    {
      "metadata": {
        "id": "4am9qZ03KuOT",
        "colab_type": "text"
      },
      "cell_type": "markdown",
      "source": [
        "이처럼 들여쓰기 된 형태를 보고 for loop이 어디까지 반복하는지 알 수 있습니다."
      ]
    },
    {
      "metadata": {
        "id": "AqVe3kjQJBsf",
        "colab_type": "code",
        "colab": {}
      },
      "cell_type": "code",
      "source": [
        "for i in range(5):\n",
        "  print(\"숫자\")\n",
        "  \n",
        "  print(i)\n",
        "  \n",
        "  print(\"끝\")"
      ],
      "execution_count": 0,
      "outputs": []
    },
    {
      "metadata": {
        "id": "JpaCc1WHLe_3",
        "colab_type": "text"
      },
      "cell_type": "markdown",
      "source": [
        "위 코드와 아래 코드는 다른 출력을 냅니다."
      ]
    },
    {
      "metadata": {
        "id": "SbIUvF6mLF4Q",
        "colab_type": "code",
        "colab": {}
      },
      "cell_type": "code",
      "source": [
        "for i in range(5):\n",
        "  print(\"숫자\")\n",
        "  \n",
        "  print(i)\n",
        "  \n",
        "print(\"끝\")"
      ],
      "execution_count": 0,
      "outputs": []
    },
    {
      "metadata": {
        "id": "LqoJHqh2Li9K",
        "colab_type": "text"
      },
      "cell_type": "markdown",
      "source": [
        "\n",
        "```\n",
        "for i in range(5):\n",
        "  print(\"숫자\")\n",
        "  \n",
        "  print(i)\n",
        "  \n",
        "  print(\"끝\") \n",
        "```\n",
        "print(\"숫자\"), print(i), print(\"끝\")\n",
        "\n",
        "모두가 들여쓰기 되어 있으므로 range(5)의 각 항목에 대해\n",
        "\n",
        "저 3가지 출력결과가 반복됩니다.\n",
        "\n",
        "\n",
        "```\n",
        "for i in range(5):\n",
        "  print(\"숫자\")\n",
        "  \n",
        "  print(i)\n",
        "  \n",
        "print(\"끝\")\n",
        "```\n",
        "\n",
        "여기에서는 들여쓰기가   print(\"숫자\"),  print(i) 에만 되어 있으므로\n",
        "\n",
        "매 숫자 i에 대해 print(\"숫자\"), print(i) 만 수행되고\n",
        "\n",
        "맨 마지막에 for loop의 바깥에서 \"끝\" 이 출력됩니다.\n",
        "\n",
        "\n",
        "들여쓰기는 반드시 : 다음 문장부터이고,\n",
        "\n",
        "같은 수의 space 혹은 tab을 사용해야합니다.\n",
        "\n",
        "https://namu.wiki/w/Python#s-2.1 내용을 참고하세요."
      ]
    },
    {
      "metadata": {
        "id": "-IY-_nU-LdcA",
        "colab_type": "code",
        "colab": {}
      },
      "cell_type": "code",
      "source": [
        "for i in range(5):\n",
        "  print(\"숫자\")\n",
        "  \n",
        "print(i)\n",
        "  \n",
        "  print(\"끝\") # 여기서 에러가 발생합니다."
      ],
      "execution_count": 0,
      "outputs": []
    },
    {
      "metadata": {
        "id": "i9reruMRPYul",
        "colab_type": "code",
        "colab": {}
      },
      "cell_type": "code",
      "source": [
        "for i in range(5):\n",
        "  print(\"숫자\")\n",
        "  \n",
        "   print(i) # 여기서 에러가 발생합니다.\n",
        "  \n",
        "  print(\"끝\") "
      ],
      "execution_count": 0,
      "outputs": []
    },
    {
      "metadata": {
        "id": "M-rDYr8aVMSF",
        "colab_type": "text"
      },
      "cell_type": "markdown",
      "source": [
        "이처럼 같은 레벨의 들여쓰기가 되어 있는 코드들의 묶음을 block 이라고 지칭합니다.\n",
        "\n",
        "block 안에는 다른 block 이 들어 있을 수도 있습니다.\n",
        "\n",
        "다음 코드는 0에서 4사이의 모든 정수쌍을 출력합니다.\n",
        "\n",
        "참고로 print 함수를 호출하기 위한 괄호 () 안에 괄호로 묶인 i, j 가 있습니다.\n",
        "\n",
        "(i, j) 는 튜플이였던것 기억나시나요?!\n",
        "\n",
        "\n",
        "다음 코드는 튜플 (i, j) 를 생성하고 이를 출력합니다."
      ]
    },
    {
      "metadata": {
        "id": "PpOBjHPWVWFX",
        "colab_type": "code",
        "colab": {}
      },
      "cell_type": "code",
      "source": [
        "for i in range(5):\n",
        "  for j in range(5): # 여기는 2번 들여쓰기\n",
        "    print((i, j))    # 여기는 4번 들여쓰기 되어 있습니다."
      ],
      "execution_count": 0,
      "outputs": []
    },
    {
      "metadata": {
        "id": "BOh_gPZzPz_2",
        "colab_type": "text"
      },
      "cell_type": "markdown",
      "source": [
        "가끔은 list 안의 내용을 순회할때 \n",
        "\n",
        "몇번째 element 인지 궁금할때가 있습니다.\n",
        "\n",
        "range, len 등의 함수를 이용하면 다음과 같이 구현할 수 있습니다."
      ]
    },
    {
      "metadata": {
        "id": "1svqgI_UPbdi",
        "colab_type": "code",
        "colab": {}
      },
      "cell_type": "code",
      "source": [
        "fruits = [\"apple\", \"banana\", \"cherry\"]\n",
        "\n",
        "\n",
        "for i in range(len(fruits)):\n",
        "  print(i)\n",
        "  print(\"번째\")\n",
        "  print(fruits[i])\n",
        "  print()"
      ],
      "execution_count": 0,
      "outputs": []
    },
    {
      "metadata": {
        "id": "Etk4szHVQXG-",
        "colab_type": "text"
      },
      "cell_type": "markdown",
      "source": [
        "enumerate 함수를 이용하면 더 간편하게 구현하실 수 있습니다."
      ]
    },
    {
      "metadata": {
        "id": "bKv3nffPP_ij",
        "colab_type": "code",
        "colab": {}
      },
      "cell_type": "code",
      "source": [
        "fruits = [\"apple\", \"banana\", \"cherry\"]\n",
        "\n",
        "\n",
        "for i, x in enumerate(fruits):\n",
        "  print(i)\n",
        "  print(\"번째\")\n",
        "  print(x)\n",
        "  print()"
      ],
      "execution_count": 0,
      "outputs": []
    },
    {
      "metadata": {
        "id": "Brcm5rzkQiSk",
        "colab_type": "text"
      },
      "cell_type": "markdown",
      "source": [
        "파이썬에서의 for loop은 generator 라는 것과 연관이 깊습니다.\n",
        "\n",
        "https://wiki.python.org/moin/Generators 에서 자세한 내용을 참고하세요.\n",
        "\n",
        "\n",
        "# IF 조건문\n",
        "\n",
        "프로그램 실행중에 변수가 특정한 상황일때 실행되는 코드를 만들고 싶을때가 빈번하게 발생합니다.\n",
        "\n",
        "이 경우 if 문을 사용할 수 있습니다."
      ]
    },
    {
      "metadata": {
        "id": "gneAj4l8Qe9z",
        "colab_type": "code",
        "colab": {}
      },
      "cell_type": "code",
      "source": [
        "true_or_false = True\n",
        "\n",
        "if true_or_false:  # : 이 있는 것을 기억하세요!\n",
        "  print(\"First if statement\")\n",
        "  \n",
        "  \n",
        "true_or_false = False\n",
        "\n",
        "if true_or_false:\n",
        "  print(\"Second if statement\")\n",
        "\n"
      ],
      "execution_count": 0,
      "outputs": []
    },
    {
      "metadata": {
        "id": "4zudH5Q6RjAD",
        "colab_type": "text"
      },
      "cell_type": "markdown",
      "source": [
        "if 다음에 오는 변수는 True 값이나 False 값을 가지고 있어야 합니다.\n",
        "\n",
        "True일 때는 \n",
        "\n",
        "비어있는 리스트나 딕셔너리는 False로 판별됩니다.\n",
        "\n",
        "if 다음 내용이 True인 경우에만 해당 block 이 실행됩니다.\n",
        "\n",
        "만약 if 에 해당하는 부분이 False 인 경우에만 실행되는 블록을 만드시고 싶으시면\n",
        "\n",
        "True를 False로,\n",
        "\n",
        "False를 True 로 만들어주는 키워드인 not을 사용하시면 됩니다.\n",
        "\n"
      ]
    },
    {
      "metadata": {
        "id": "wTNTcI-yRhxp",
        "colab_type": "code",
        "colab": {}
      },
      "cell_type": "code",
      "source": [
        "print(true_or_false)\n",
        "\n",
        "if not true_or_false:\n",
        "  print(\"true_or_false is False\")\n",
        "  \n",
        "  \n",
        "  \n",
        "empty_list = []\n",
        "\n",
        "if not empty_list: # 빈 리스트는 False 로 판별되고, not False 이므로, 최종적으로 True가 되어 \n",
        "  print(\"List is empty\") # 여기가 수행됩니다.\n",
        "  \n",
        "\n",
        "if empty_list: # 비어있으므로 False이고 따라서 이 블록은 수행되지 않습니다.\n",
        "  print(\"List is not empty\")"
      ],
      "execution_count": 0,
      "outputs": []
    },
    {
      "metadata": {
        "id": "5kDBLSwzWhhX",
        "colab_type": "text"
      },
      "cell_type": "markdown",
      "source": [
        "가끔은 True 일때는 동작 1, False 일때는 동작 2를 수행시키고 싶은 경우가 있습니다.\n",
        "\n",
        "이때는 else 를 이용하면 됩니다.\n"
      ]
    },
    {
      "metadata": {
        "id": "cTzfGcD5WNAh",
        "colab_type": "code",
        "colab": {}
      },
      "cell_type": "code",
      "source": [
        "if true_or_false:\n",
        "  # True 인 경우 여기가 실행됩니다.\n",
        "  print(\"It's True!\")\n",
        "\n",
        "else:\n",
        "  # False인 경우 여기가 실행됩니다.\n",
        "  print(\"It's False!\")"
      ],
      "execution_count": 0,
      "outputs": []
    },
    {
      "metadata": {
        "id": "h8-60RunYGIj",
        "colab_type": "text"
      },
      "cell_type": "markdown",
      "source": [
        "어느 숫자 x가 짝수인지 판별하는 방법은 x의 2로 나눈 나머지가 0인지를 보면 됩니다.\n",
        "\n",
        "따라서 \n",
        "\n",
        "x % 2  가 (x를 2로 나눈 나머지)\n",
        "\n",
        "0인지 비교하면 됩니다.\n",
        "\n",
        "\n",
        "숫자 두개가 같은지 비교하는 것은 == 연산으로 할 수 있습니다.\n",
        "\n",
        "\n",
        "같지 않음은 != 으로 할 수 있습니다.\n"
      ]
    },
    {
      "metadata": {
        "id": "nduGnNJ3XwwA",
        "colab_type": "code",
        "colab": {}
      },
      "cell_type": "code",
      "source": [
        "x = 4 # 짝수\n",
        "\n",
        "print(x % 2)\n",
        "\n",
        "if x % 2 == 0:\n",
        "  print('x는 짝수입니다.')\n",
        "\n",
        "  \n",
        "if x % 2 != 0:\n",
        "  print('x는 홀수입니다.')\n",
        "  \n",
        "  \n",
        "if x % 2 == 1: # 이렇게 홀수를 판별할 수도 있겠죠?\n",
        "  print('x는 홀수입니다.')"
      ],
      "execution_count": 0,
      "outputs": []
    },
    {
      "metadata": {
        "id": "Yy1shq9_Y6ZR",
        "colab_type": "text"
      },
      "cell_type": "markdown",
      "source": [
        "\n",
        "또 때로는 두가지 조건을 동시에 만족하는 경우에 특정 동작이 수행되길 원할 수 있습니다.\n",
        "\n",
        "이 경우는 and를 사용하시면 됩니다.\n",
        "\n",
        "for loop 도 활용해서\n",
        "\n",
        "0과 20 사이에서 짝수이면서 3의 배수인 숫자를 출력해보겠습니다."
      ]
    },
    {
      "metadata": {
        "id": "UxQ8CFt-Zug3",
        "colab_type": "code",
        "colab": {}
      },
      "cell_type": "code",
      "source": [
        "for i in range(21): # 21을 써야 20까지 수행됩니다.\n",
        "  if (i % 2 == 0) and (i % 3 == 0):\n",
        "    print(i)\n",
        "   \n",
        "  \n",
        "  \n",
        "  "
      ],
      "execution_count": 0,
      "outputs": []
    },
    {
      "metadata": {
        "id": "H1EKCCB-aZTP",
        "colab_type": "text"
      },
      "cell_type": "markdown",
      "source": [
        "이렇게 구현할 수도 있겠죠?\n",
        "\n",
        "블록의 범위를 잘 확인해보세요"
      ]
    },
    {
      "metadata": {
        "id": "YW4FcxFjaU5m",
        "colab_type": "code",
        "colab": {}
      },
      "cell_type": "code",
      "source": [
        "for i in range(21): # 21을 써야 20까지 수행됩니다.\n",
        "  if (i % 2 == 0):\n",
        "    if (i % 3 == 0):\n",
        "      print(i)\n",
        "   \n",
        "  \n",
        "  \n"
      ],
      "execution_count": 0,
      "outputs": []
    },
    {
      "metadata": {
        "id": "tom8sSirePzy",
        "colab_type": "text"
      },
      "cell_type": "markdown",
      "source": [
        "조건 1을 만족하면 명령 1 수행\n",
        "조건 1을 만족하지 않지만 조건 2를 만족하면 명령 2 수행\n",
        "조건 1도 조건 2도 만족하지 않는 경우 명령 3 수행하기를 원하면\n",
        "\n",
        "다음과 같이 작성 할 수 있습니다."
      ]
    },
    {
      "metadata": {
        "id": "CjPw5oTdeeXZ",
        "colab_type": "code",
        "colab": {}
      },
      "cell_type": "code",
      "source": [
        "first_condition = False\n",
        "second_condition = True\n",
        "\n",
        "\n",
        "if first_condition:\n",
        "  print(\"Action 1\")\n",
        "  \n",
        "else:\n",
        "  if second_condition:\n",
        "    print(\"Action 2\")\n",
        "  else:\n",
        "    print(\"Action 3\")"
      ],
      "execution_count": 0,
      "outputs": []
    },
    {
      "metadata": {
        "id": "yLDHCcmje_aT",
        "colab_type": "text"
      },
      "cell_type": "markdown",
      "source": [
        "위 코드의\n",
        "\n",
        "```\n",
        "else:\n",
        "   if second_condition:\n",
        " ``` \n",
        " 합쳐서 elif second_condition:\n",
        " \n",
        " 으로 작성할수 있습니다.\n",
        " \n",
        " 이렇게 작성하는 것이 중첩된 블록이 없기 때문에 조금 더 이해하기 편합니다."
      ]
    },
    {
      "metadata": {
        "id": "bcmELRFmfNFw",
        "colab_type": "code",
        "colab": {}
      },
      "cell_type": "code",
      "source": [
        "if first_condition:\n",
        "  print(\"Action 1\")\n",
        "  \n",
        "elif second_condition:\n",
        "  print(\"Action 2\")\n",
        "  \n",
        "else:\n",
        "  print(\"Action 3\")"
      ],
      "execution_count": 0,
      "outputs": []
    },
    {
      "metadata": {
        "id": "siuELqxlbgpg",
        "colab_type": "text"
      },
      "cell_type": "markdown",
      "source": [
        "# 해보기\n",
        "\n",
        "2와 100 사이의 모든 소수를 출력해보세요,"
      ]
    },
    {
      "metadata": {
        "id": "Ue9IKZ-qaemD",
        "colab_type": "code",
        "colab": {}
      },
      "cell_type": "code",
      "source": [
        ""
      ],
      "execution_count": 0,
      "outputs": []
    },
    {
      "metadata": {
        "id": "AJGdzNtwwudl",
        "colab_type": "text"
      },
      "cell_type": "markdown",
      "source": [
        "다음\n",
        "\n",
        "https://colab.research.google.com/drive/1XqxhQfdhVLbMxU-Q2rGAbqc0jsTrvJoj"
      ]
    },
    {
      "metadata": {
        "id": "nJ_N37dQwvCx",
        "colab_type": "code",
        "colab": {}
      },
      "cell_type": "code",
      "source": [
        ""
      ],
      "execution_count": 0,
      "outputs": []
    }
  ]
}