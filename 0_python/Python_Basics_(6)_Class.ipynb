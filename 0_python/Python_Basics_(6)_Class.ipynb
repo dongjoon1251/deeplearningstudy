{
  "nbformat": 4,
  "nbformat_minor": 0,
  "metadata": {
    "colab": {
      "name": "Python Basics (6) - Class.ipynb",
      "version": "0.3.2",
      "provenance": [],
      "private_outputs": true,
      "collapsed_sections": [],
      "include_colab_link": true
    },
    "kernelspec": {
      "name": "python3",
      "display_name": "Python 3"
    }
  },
  "cells": [
    {
      "cell_type": "markdown",
      "metadata": {
        "id": "view-in-github",
        "colab_type": "text"
      },
      "source": [
        "<a href=\"https://colab.research.google.com/github/paryoja/deeplearningstudy/blob/master/Python_Basics_(6)_Class.ipynb\" target=\"_parent\"><img src=\"https://colab.research.google.com/assets/colab-badge.svg\" alt=\"Open In Colab\"/></a>"
      ]
    },
    {
      "metadata": {
        "id": "18H-lwLr0RGi",
        "colab_type": "text"
      },
      "cell_type": "markdown",
      "source": [
        "# Class 클래스\n",
        "\n",
        "클래스는 사용자 지정 데이터 타입입니다.\n",
        "\n",
        "예를 들어 실수부와 허수부를 가지는 복소수 클래스를 만들어 보겠습니다.\n",
        "\n",
        "class를 만드는 데 쓰이는 키워드는 class 입니다.\n",
        "\n",
        "class 이름은 Camel Case 방식을 짓는게 파이썬의 관습입니다.\n",
        "\n",
        "복소수(Complex number)는 실수부(real part)와 허수부(imaginary part)로 구성되어 있습니다."
      ]
    },
    {
      "metadata": {
        "id": "X8FWQNOFy7fT",
        "colab_type": "code",
        "colab": {}
      },
      "cell_type": "code",
      "source": [
        "class ComplexNumber:\n",
        "  # (나중을 위한 도움말) 이해를 돕기 위해 이렇게 했지만, 사실 이것은 다른 용도로 쓰이는 문법입니다.\n",
        "  # https://docs.python.org/ko/3/tutorial/classes.html#tut-object\n",
        "  re = 1.0\n",
        "  im = 5.0"
      ],
      "execution_count": 0,
      "outputs": []
    },
    {
      "metadata": {
        "id": "K58JZaCP1hLp",
        "colab_type": "text"
      },
      "cell_type": "markdown",
      "source": [
        "list를 만들기 위해 list() 를 호출 했던것 처럼\n",
        "\n",
        "ComplexNumber class의 타입을 가지는 데이터를 만들기 위해서는 ComplexNumber를 마치 함수처럼 호출하면 됩니다.\n",
        "\n",
        "ComplexNumber()를 호출하면 ComplexNumber의 인스턴스 하나가 생성됩니다.\n",
        "\n",
        "\n",
        "용어를 정리하고 넘어가면\n",
        "\n",
        "클래스라 함은 \"구조\"가 어떻게 생겼는지를 정의하는 부분만 있는 것이고\n",
        "\n",
        "실제 그 구조를 가진 데이터는 인스턴스라고 부르면 됩니다.\n",
        "\n",
        "\n",
        "붕어빵 틀은 클래스\n",
        "\n",
        "![대체 텍스트](http://gdimg.gmarket.co.kr/goods_image2/middle_moreimg/635/054/635054306/635054306_00.jpg?ver=1501807204)\n",
        "\n",
        "\n",
        "붕어빵은 인스턴스 라고 보시면 됩니다.\n",
        "\n",
        "![대체 텍스트](http://photo.jtbc.joins.com/news/2014/11/20/201411200348123061.jpg)\n",
        "\n",
        "\n",
        "\n",
        "\n",
        "그리고 그 데이터 구조의 re와 im 변수값을 쓰기 위해서는 인스턴스.re, 인스턴스.im 을 쓰면 됩니다."
      ]
    },
    {
      "metadata": {
        "id": "2mviaCe41cVa",
        "colab_type": "code",
        "colab": {}
      },
      "cell_type": "code",
      "source": [
        "c = ComplexNumber()\n",
        "\n",
        "print('type',type(c))\n",
        "\n",
        "print(c.re)\n",
        "print(c.im)"
      ],
      "execution_count": 0,
      "outputs": []
    },
    {
      "metadata": {
        "id": "pTv5ESWc3ryY",
        "colab_type": "text"
      },
      "cell_type": "markdown",
      "source": [
        "값을 바꾸는데도 인스턴스.변수명 이 사용됩니다."
      ]
    },
    {
      "metadata": {
        "id": "Sauc6Asd2E4R",
        "colab_type": "code",
        "colab": {}
      },
      "cell_type": "code",
      "source": [
        "c.re = -2.0\n",
        "\n",
        "print(c.re)"
      ],
      "execution_count": 0,
      "outputs": []
    },
    {
      "metadata": {
        "id": "dTSMZ_ZC3za7",
        "colab_type": "text"
      },
      "cell_type": "markdown",
      "source": [
        "실제로 복소수 클래스를 사용해봅시다. \n",
        "\n",
        "복소수 1.0 + 1.0 i 와 -3.0 + 4.0 i 를 더해보는 코드를 만들어 보겠습니다."
      ]
    },
    {
      "metadata": {
        "id": "Ztrq9em33w-a",
        "colab_type": "code",
        "colab": {}
      },
      "cell_type": "code",
      "source": [
        "c1 = ComplexNumber()\n",
        "\n",
        "c2 = ComplexNumber()\n",
        "\n",
        "\n",
        "c1.re = 1.0\n",
        "c1.im = 1.0\n",
        "\n",
        "c2.re = -3.0\n",
        "c2.im = 4.0\n",
        "\n",
        "\n",
        "print(c1.re + c2.re, '+', c1.im + c2.im, 'i')\n"
      ],
      "execution_count": 0,
      "outputs": []
    },
    {
      "metadata": {
        "id": "dtPILS7Z4ajL",
        "colab_type": "text"
      },
      "cell_type": "markdown",
      "source": [
        "복소수를 만들때, re와 im 초기화하는 부분이 반복됩니다. \n",
        "\n",
        "인스턴스를 초기화 할때 쓰는 함수를 initializer 라고 부르며\n",
        "\n",
        "```\n",
        "__init__()\n",
        "```\n",
        "함수를 class 선언 안에 정의합니다.\n",
        "\n",
        "클래스 안에 정의하는 함수들은 항상 첫번째 인자가 **self** 입니다!\n",
        "\n",
        "self는 생성된 인스턴스를 가리킵니다."
      ]
    },
    {
      "metadata": {
        "id": "03brwGHc4ZZs",
        "colab_type": "code",
        "colab": {}
      },
      "cell_type": "code",
      "source": [
        "class ComplexNumber:\n",
        "  \n",
        "  def __init__(self, real, imaginary):\n",
        "    print(\"Calling Initializer with\", real, imaginary)\n",
        "    self.re = real\n",
        "    self.im = imaginary  \n",
        "    "
      ],
      "execution_count": 0,
      "outputs": []
    },
    {
      "metadata": {
        "id": "Mw8iX3Cr4woi",
        "colab_type": "text"
      },
      "cell_type": "markdown",
      "source": [
        "이를 이용하면 인스턴스 생성시 초기화도 수행할 수 있습니다."
      ]
    },
    {
      "metadata": {
        "id": "Ou-PENIG4vr1",
        "colab_type": "code",
        "colab": {}
      },
      "cell_type": "code",
      "source": [
        "c1 = ComplexNumber(1.0, 1.0) # initializer의 print 부분이 출력되고 c1.re 는 1.0, c1.im 은 1.0으로 초기화 됩니다.\n",
        "\n",
        "c2 = ComplexNumber(-3.0, 4.0)\n",
        "\n",
        "print(c1) # c1을 그냥 찍으면 어느 클래스의 인스턴스인지가 나옵니다.\n",
        "\n",
        "print('c1', c1.re, '+', c1.im, 'i')\n",
        "print('c2', c2.re, '+', c2.im, 'i')"
      ],
      "execution_count": 0,
      "outputs": []
    },
    {
      "metadata": {
        "id": "CqxHKHSi5Rbx",
        "colab_type": "text"
      },
      "cell_type": "markdown",
      "source": [
        "이번에는 데이터를 출력하는데 쓰이는 코드가 반복되네요. 그냥 print(c1) 을 하면 복소수 형태로 출력이 되면 좋을거 같습니다.\n",
        "\n",
        "이 경우 \n",
        "\n",
        "```\n",
        "__str__()\n",
        "```\n",
        "함수를 쓸 수 있습니다.\n",
        "\n",
        "여기서도 첫번째 인자는 self 입니다. \n",
        "\n",
        "또한 인스턴스의 re와 im 변수는 self.re, self.im으로 접근할 수 있습니다."
      ]
    },
    {
      "metadata": {
        "id": "TeXMMsdi49V4",
        "colab_type": "code",
        "colab": {}
      },
      "cell_type": "code",
      "source": [
        "class ComplexNumber:\n",
        "  \n",
        "  def __init__(self, real, imaginary):\n",
        "    print(\"Calling Initializer with\", real, imaginary)\n",
        "    self.re = real\n",
        "    self.im = imaginary  \n",
        "    \n",
        "  def __str__(self):\n",
        "    return '{} + {} i'.format(self.re, self.im)  # 여기서 format 함수는 문자열 내의 {} 를 순서대로 format 함수의 인자로 교체해 줍니다. \n",
        "                                                    # 첫번째 {} 는 self.re로 두번째 {}는 self.im으로 변경됩니다.\n",
        "  \n",
        "  "
      ],
      "execution_count": 0,
      "outputs": []
    },
    {
      "metadata": {
        "id": "KNPGfEuu6m-e",
        "colab_type": "code",
        "colab": {}
      },
      "cell_type": "code",
      "source": [
        "c1 = ComplexNumber(1.0, 1.0) # initializer의 print 부분이 출력되고 c1.re 는 1.0, c1.im 은 1.0으로 초기화 됩니다.\n",
        "\n",
        "c2 = ComplexNumber(-3.0, 4.0)\n",
        "\n",
        "print('c1', c1) # 정의한 __str__ 함수가 호출됩니다.\n",
        "print('c2', c2)"
      ],
      "execution_count": 0,
      "outputs": []
    },
    {
      "metadata": {
        "id": "yWJF03gi7U1F",
        "colab_type": "text"
      },
      "cell_type": "markdown",
      "source": [
        "자 이제 더하는 함수를 만들어 봅시다.\n",
        "\n",
        "일단 이전에 배운 함수의 형태로 작성한다면 다음과 같이 만들 수 있겠네요.\n"
      ]
    },
    {
      "metadata": {
        "id": "FlArpLO46sUh",
        "colab_type": "code",
        "colab": {}
      },
      "cell_type": "code",
      "source": [
        "def add_complex_number(x, y):\n",
        "  real = x.re + y.re\n",
        "  imaginary = x.im + y.im\n",
        "  \n",
        "  result = ComplexNumber(real, imaginary)\n",
        "  \n",
        "  return result\n",
        "\n",
        "\n",
        "print(add_complex_number(c1, c2))\n"
      ],
      "execution_count": 0,
      "outputs": []
    },
    {
      "metadata": {
        "id": "Dq5ZRmAm7yRo",
        "colab_type": "text"
      },
      "cell_type": "markdown",
      "source": [
        "복소수의 덧셈은 그 기능에 비해 호출하는게 번거롭네요.\n",
        "\n",
        "클래스내에 함수를 정의하고 그걸 호출하면 다음과 같이 쓸 수 있습니다.\n",
        "\n"
      ]
    },
    {
      "metadata": {
        "id": "aimz23hJ7rvA",
        "colab_type": "code",
        "colab": {}
      },
      "cell_type": "code",
      "source": [
        "class ComplexNumber:\n",
        "  \n",
        "  def __init__(self, real, imaginary):\n",
        "    print(\"Calling Initializer with\", real, imaginary)\n",
        "    self.re = real\n",
        "    self.im = imaginary  \n",
        "    \n",
        "  def __str__(self):\n",
        "    return '{} + {} i'.format(self.re, self.im)  # 여기서 format 함수는 문자열 내의 {} 를 순서대로 format 함수의 인자로 교체해 줍니다. \n",
        "                                                    # 첫번째 {} 는 self.re로 두번째 {}는 self.im으로 변경됩니다.\n",
        "  \n",
        "  def add_complex_number(self, y): # 첫번째 인자는 무조건 self 입니다.\n",
        "    return ComplexNumber(self.re + y.re, self.im + y.im)\n",
        "  \n",
        "  "
      ],
      "execution_count": 0,
      "outputs": []
    },
    {
      "metadata": {
        "id": "gtBUlXBe8Sv6",
        "colab_type": "code",
        "colab": {}
      },
      "cell_type": "code",
      "source": [
        "c1 = ComplexNumber(1.0, 1.0) # initializer의 print 부분이 출력되고 c1.re 는 1.0, c1.im 은 1.0으로 초기화 됩니다.\n",
        "\n",
        "c2 = ComplexNumber(-3.0, 4.0)\n",
        "\n",
        "\n",
        "print(c1.add_complex_number(c2))"
      ],
      "execution_count": 0,
      "outputs": []
    },
    {
      "metadata": {
        "id": "LuU3X9_f8ax0",
        "colab_type": "text"
      },
      "cell_type": "markdown",
      "source": [
        "복소수의 덧셈인데\n",
        "\n",
        "c1 + c2 로 계산하면 보기에도 좋고 이해하기 편할거 같습니다.\n",
        "\n",
        "이때는 \n",
        "\n",
        "```\n",
        "__add__()\n",
        "```\n",
        "\n",
        "함수를 정의해서 쓰면 됩니다."
      ]
    },
    {
      "metadata": {
        "id": "BYijZdZ88UmV",
        "colab_type": "code",
        "colab": {}
      },
      "cell_type": "code",
      "source": [
        "class ComplexNumber:\n",
        "  \n",
        "  def __init__(self, real, imaginary):\n",
        "    print(\"Calling Initializer with\", real, imaginary)\n",
        "    self.re = real\n",
        "    self.im = imaginary  \n",
        "    \n",
        "  def __str__(self):\n",
        "    return '{} + {} i'.format(self.re, self.im)  # 여기서 format 함수는 문자열 내의 {} 를 순서대로 format 함수의 인자로 교체해 줍니다. \n",
        "                                                    # 첫번째 {} 는 self.re로 두번째 {}는 self.im으로 변경됩니다.\n",
        "  \n",
        "  def __add__(self, y): # 첫번째 인자는 무조건 self 입니다.\n",
        "    return ComplexNumber(self.re + y.re, self.im + y.im)\n",
        "  \n",
        "  \n",
        "  "
      ],
      "execution_count": 0,
      "outputs": []
    },
    {
      "metadata": {
        "id": "HtTG29Bz8wFE",
        "colab_type": "code",
        "colab": {}
      },
      "cell_type": "code",
      "source": [
        "c1 = ComplexNumber(1.0, 1.0) # initializer의 print 부분이 출력되고 c1.re 는 1.0, c1.im 은 1.0으로 초기화 됩니다.\n",
        "\n",
        "c2 = ComplexNumber(-3.0, 4.0)\n",
        "\n",
        "print(c1 + c2)"
      ],
      "execution_count": 0,
      "outputs": []
    },
    {
      "metadata": {
        "id": "m10Mtq7Q80RB",
        "colab_type": "text"
      },
      "cell_type": "markdown",
      "source": [
        "마찬가지로\n",
        "```\n",
        "__sub__()  # '-'\n",
        "__mul__()  # '*'\n",
        "__truediv__()  # '/'\n",
        "```\n",
        "\n",
        "등등의 연산자를 재정의 할 수 있습니다.\n",
        "\n",
        "모든 연산자의 리스트는 \n",
        "\n",
        "https://docs.python.org/3.6/library/operator.html\n",
        "\n",
        "에 정리되어 있습니다."
      ]
    },
    {
      "metadata": {
        "id": "UrGHsZf-8zWN",
        "colab_type": "code",
        "colab": {}
      },
      "cell_type": "code",
      "source": [
        ""
      ],
      "execution_count": 0,
      "outputs": []
    }
  ]
}