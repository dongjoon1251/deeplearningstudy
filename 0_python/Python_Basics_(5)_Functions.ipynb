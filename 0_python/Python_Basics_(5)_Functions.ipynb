{
  "nbformat": 4,
  "nbformat_minor": 0,
  "metadata": {
    "colab": {
      "name": "Python Basics (5) - Functions.ipynb",
      "version": "0.3.2",
      "provenance": [],
      "private_outputs": true,
      "include_colab_link": true
    },
    "kernelspec": {
      "name": "python3",
      "display_name": "Python 3"
    }
  },
  "cells": [
    {
      "cell_type": "markdown",
      "metadata": {
        "id": "view-in-github",
        "colab_type": "text"
      },
      "source": [
        "<a href=\"https://colab.research.google.com/github/paryoja/deeplearningstudy/blob/master/Python_Basics_(5)_Functions.ipynb\" target=\"_parent\"><img src=\"https://colab.research.google.com/assets/colab-badge.svg\" alt=\"Open In Colab\"/></a>"
      ]
    },
    {
      "metadata": {
        "id": "ASdvkDeUgItx",
        "colab_type": "text"
      },
      "cell_type": "markdown",
      "source": [
        "# Function 함수\n",
        "\n",
        "프로그램을 작성하게 되는 경우 \n",
        "\n",
        "동일한 연산을 반복하게 되는 경우가 많습니다.\n",
        "\n",
        "이런경우 해당 동작을 함수로 만들어 놓고\n",
        "\n",
        "그 함수를 호출함으로써 반복된 코딩을 줄일 수 있습니다.\n",
        "\n",
        "\n",
        "함수 정의는 def 키워드로 시작합니다.\n",
        "\n",
        "\n",
        "먼저 함수없이 tuple의 L1 norm (http://mathworld.wolfram.com/L1-Norm.html)\n",
        "\n",
        "![대체 텍스트](http://mathworld.wolfram.com/images/equations/L1-Norm/NumberedEquation2.gif)\n",
        "\n",
        "을 계산해보도록 하겠습니다.\n",
        "\n",
        "L1 norm은 벡터의 각 값의 절대값의 합입니다."
      ]
    },
    {
      "metadata": {
        "id": "5BCyafD7dEkL",
        "colab_type": "code",
        "colab": {}
      },
      "cell_type": "code",
      "source": [
        "vector = (3.5, -2.5, 1.0, -3.2) # l1_norm = 3.5 + 2.5 + 1.0 + 3.2 = 10.2\n",
        "\n",
        "l1_norm = 0.0 # float 0으로 초기화\n",
        "\n",
        "for value in vector:\n",
        "  \n",
        "  if value > 0:\n",
        "    l1_norm = l1_norm + value  # 양수면 그대로\n",
        "  \n",
        "  else: \n",
        "    l1_norm = l1_norm + (-value) # 음수면 양수로 바꿔서 l1_norm = l1_norm - value 로 작성하는 것도 가능합니다.\n",
        "    \n",
        "print(l1_norm)    "
      ],
      "execution_count": 0,
      "outputs": []
    },
    {
      "metadata": {
        "id": "0pwbQ2Z4hrHJ",
        "colab_type": "text"
      },
      "cell_type": "markdown",
      "source": [
        "여기서 만약 다른 vector = (4.6, -6.2, -2.3, 5.2) 의 L1 norm을 계산하려면 같은 코드를 다시 작성해야합니다."
      ]
    },
    {
      "metadata": {
        "id": "Ct2SuPiOhguc",
        "colab_type": "code",
        "colab": {}
      },
      "cell_type": "code",
      "source": [
        "vector = (4.6, -6.2, -2.3, 5.2) # l1_norm = 4.6 + 6.2 + 2.3 + 5.2 = 18.3\n",
        "\n",
        "l1_norm = 0.0 # float 0으로 초기화\n",
        "\n",
        "for value in vector:\n",
        "  \n",
        "  if value > 0:\n",
        "    l1_norm = l1_norm + value  # 양수면 그대로\n",
        "  \n",
        "  else: \n",
        "    l1_norm = l1_norm + (-value) # 음수면 양수로 바꿔서 l1_norm = l1_norm - value 로 작성하는 것도 가능합니다.\n",
        "    \n",
        "print(l1_norm)    "
      ],
      "execution_count": 0,
      "outputs": []
    },
    {
      "metadata": {
        "id": "j33ZvRWKh4EZ",
        "colab_type": "text"
      },
      "cell_type": "markdown",
      "source": [
        "반복되는 부분을 다음과 같이 함수로 만들 수 있습니다.\n",
        "\n",
        "구조는 나중에 살펴보고 일단은 한 번 이를 사용해보겠습니다."
      ]
    },
    {
      "metadata": {
        "id": "Z91LNxKUh26Q",
        "colab_type": "code",
        "colab": {}
      },
      "cell_type": "code",
      "source": [
        "def compute_l1_norm(input_vector): # 함수의 시작\n",
        "  l1_norm = 0.0 # float 0으로 초기화\n",
        "  \n",
        "  for value in input_vector:\n",
        "  \n",
        "    if value > 0:\n",
        "      l1_norm = l1_norm + value  # 양수면 그대로\n",
        "\n",
        "    else: \n",
        "      l1_norm = l1_norm + (-value) # 음수면 양수로 바꿔서 l1_norm = l1_norm - value 로 작성하는 것도 가능합니다.\n",
        "  \n",
        "  return l1_norm # l1_norm을 돌려줌"
      ],
      "execution_count": 0,
      "outputs": []
    },
    {
      "metadata": {
        "id": "pUNVd3aOiBb_",
        "colab_type": "text"
      },
      "cell_type": "markdown",
      "source": [
        "위 코드에서는 compute_l1_norm 함수는 어떤 일을 할 것인지 정의 한 것이고\n",
        "\n",
        "실제 함수의 내용이 수행되지는 않습니다.\n",
        "\n",
        "다음과 같이 함수를  수행시킬 수 있습니다."
      ]
    },
    {
      "metadata": {
        "id": "KslC2GECiAvw",
        "colab_type": "code",
        "colab": {}
      },
      "cell_type": "code",
      "source": [
        "vector_1 = (3.5, -2.5, 1.0, -3.2)\n",
        "\n",
        "l1_norm_1 = compute_l1_norm(vector_1)\n",
        "\n",
        "print(l1_norm_1)\n",
        "\n",
        "vector_2 = (4.6, -6.2, -2.3, 5.2)\n",
        "\n",
        "l1_norm_2 = compute_l1_norm(vector_2)\n",
        "\n",
        "print(l1_norm_2)"
      ],
      "execution_count": 0,
      "outputs": []
    },
    {
      "metadata": {
        "id": "5IDjXeyai3zj",
        "colab_type": "text"
      },
      "cell_type": "markdown",
      "source": [
        "동일하게 반복되는 부분을 한번만 작성하여 효율을 높이고\n",
        "\n",
        "코드에 문제가 있을 때, 수정하기도 쉽습니다.\n",
        "\n",
        "\n",
        "# 함수의 구조\n",
        "\n",
        "함수는 \n",
        "\n",
        "```\n",
        "def 함수명( 매개변수 ):\n",
        "    함수 본문\n",
        "    \n",
        "    return 변수  # return은 없을 수도 있습니다.\n",
        "``` \n",
        "   \n",
        " 으로  주어집니다.\n",
        " \n",
        " \n",
        " 함수명은 나중에 함수를 호출할때 쓰이고,\n",
        " \n",
        " 매개변수는 함수를 호출할때 함수에게 주어지는 변수들 입니다.\n",
        " \n",
        " ```\n",
        " vector_1 = (3.5, -2.5, 1.0, -3.2)\n",
        " l1_norm_1 = compute_l1_norm(vector_1)\n",
        " ```\n",
        " 이 호출 부분에 vector_1 값이 \n",
        " \n",
        " ```\n",
        " def compute_l1_norm(input_vector):\n",
        " ```\n",
        " 의 input_vector로 들어갑니다.\n",
        " \n",
        " 이때 매개변수로 전달되는 vector_1를 인수라고 지칭합니다.\n",
        " \n",
        " \n",
        " input_vector를 이용하여 block 내용이 수행됩니다.\n",
        " \n",
        " ```\n",
        "   l1_norm = 0.0 # float 0으로 초기화\n",
        "  \n",
        "  for value in input_vector:\n",
        "  \n",
        "    if value > 0:\n",
        "      l1_norm = l1_norm + value  # 양수면 그대로\n",
        "\n",
        "    else: \n",
        "      l1_norm = l1_norm + (-value) # 음수면 양수로 바꿔서 l1_norm = l1_norm - value 로 작성하는 것도 가능합니다.\n",
        "  \n",
        "  return l1_norm # l1_norm을 돌려줌\n",
        " ```\n",
        " 마지막에 return 에서 적어준 변수는 \n",
        " \n",
        " ```\n",
        "  compute_l1_norm(vector_1)\n",
        " ```\n",
        " \n",
        " 의 호출의 결과가 되고\n",
        " \n",
        " ```\n",
        "  l1_norm_1 = compute_l1_norm(vector_1)\n",
        " ```\n",
        " 에서 l1_norm_1 변수에 저장됩니다.\n",
        " \n",
        " \n",
        " 함수에서 return 문이 없는 경우에는 결과는 None 이라는 특수한 데이터 타입이 됩니다."
      ]
    },
    {
      "metadata": {
        "id": "bWO4pTuNiZmA",
        "colab_type": "code",
        "colab": {}
      },
      "cell_type": "code",
      "source": [
        "def print_value(x):\n",
        "  \n",
        "  print(x)\n",
        "  \n",
        "  \n",
        "return_value = print_value(\"Hello World!\")\n",
        "\n",
        "\n",
        "print(return_value)\n",
        "print(type(return_value))"
      ],
      "execution_count": 0,
      "outputs": []
    },
    {
      "metadata": {
        "id": "ktOLBQHgmChd",
        "colab_type": "text"
      },
      "cell_type": "markdown",
      "source": [
        "print_value 함수에 의해\n",
        "Hello World! 가 호출되고\n",
        "\n",
        "9번라인의 print(return_value) 에서 return_value 가 없음을 나타내기 위해 None 이 됩니다.\n",
        "\n",
        "함수에서 return 문을 만나면 그 함수는 바로 종료가 됩니다.\n",
        "\n",
        "다음 함수에서 World는 출력되지 않습니다."
      ]
    },
    {
      "metadata": {
        "id": "2rF7QhkEmBIo",
        "colab_type": "code",
        "colab": {}
      },
      "cell_type": "code",
      "source": [
        "def not_executed(x):\n",
        "  \n",
        "  print(\"Hello\")\n",
        "  \n",
        "  print(x)\n",
        "  \n",
        "  return x\n",
        "\n",
        "  print(\"World\") # 이 부분은 절대 수행되지 않습니다.\n",
        "  \n",
        "return_value = not_executed(10)"
      ],
      "execution_count": 0,
      "outputs": []
    },
    {
      "metadata": {
        "id": "6VKsT8VYm1vQ",
        "colab_type": "text"
      },
      "cell_type": "markdown",
      "source": [
        "if 문을 활용하면 경우에 따라 다른 값을 리턴하도록 할 수 있습니다."
      ]
    },
    {
      "metadata": {
        "id": "ZL3PeOEWmroB",
        "colab_type": "code",
        "colab": {}
      },
      "cell_type": "code",
      "source": [
        "def even_or_odd(x):\n",
        "  if x % 2 == 0:\n",
        "    return 'Even'\n",
        "  else:\n",
        "    return 'Odd'\n",
        "  \n",
        "  \n",
        "print(even_or_odd(5))\n",
        "print(even_or_odd(10))"
      ],
      "execution_count": 0,
      "outputs": []
    },
    {
      "metadata": {
        "id": "LGTKgrYKnMM2",
        "colab_type": "text"
      },
      "cell_type": "markdown",
      "source": [
        "리턴에는 container 타입도 가능합니다.\n",
        "\n",
        "여기서 함수 정의에 매개변수는 a 와 b 두개입니다.\n",
        "\n",
        "따라서 함수를 호출 할 때에도 두개의  값을 가지고 호출해야합니다."
      ]
    },
    {
      "metadata": {
        "id": "E_y6U60onJFz",
        "colab_type": "code",
        "colab": {}
      },
      "cell_type": "code",
      "source": [
        "def make_list(a, b):\n",
        "  \n",
        "  return [a, b]\n",
        "\n",
        "\n",
        "print(make_list('hi', 'there')) # make_list의 a에는 'hi'가 b에는 'there' 가 들어갑니다.\n",
        "print(type(make_list('hi', 'there')))"
      ],
      "execution_count": 0,
      "outputs": []
    },
    {
      "metadata": {
        "id": "xz_yC873nW3Y",
        "colab_type": "text"
      },
      "cell_type": "markdown",
      "source": [
        "튜플을 만들때 단순히 변수 이름을 괄호 없이 , 로 이어도 된다는 게 기억나시나요?\n",
        "\n",
        "다음 함수는 튜플을 리턴합니다."
      ]
    },
    {
      "metadata": {
        "id": "vEKiR4-VnV2m",
        "colab_type": "code",
        "colab": {}
      },
      "cell_type": "code",
      "source": [
        "def make_tuple(a, b):\n",
        "  \n",
        "  return a, b  # 이 부분은 튜플로 리턴됩니다.\n",
        "\n",
        "\n",
        "print(make_tuple('hi', 'there'))\n",
        "print(type(make_tuple('hi', 'there')))"
      ],
      "execution_count": 0,
      "outputs": []
    },
    {
      "metadata": {
        "id": "qMMlB2o2nqFG",
        "colab_type": "text"
      },
      "cell_type": "markdown",
      "source": [
        "튜플이나 리스트로 리턴하는 함수는 받을때 이를  여러개의 변수로 나눠 받을 수도 있습니다.\n",
        "\n",
        "매개변수 리스트가 비어있으면 함수 호출시에도 아무런 값을 전달해주지 않습니다.\n"
      ]
    },
    {
      "metadata": {
        "id": "ZRmq3MFunhdM",
        "colab_type": "code",
        "colab": {}
      },
      "cell_type": "code",
      "source": [
        "def make_sample_list():\n",
        "  return [\"example\", \"list\", \"containing\", \"values\"]\n",
        "\n",
        "return_value = make_sample_list()\n",
        "\n",
        "print(return_value)\n",
        "\n",
        "\n",
        "value_a, value_b, value_c, value_d =  make_sample_list() # 4개의 항목을 포함한 list를 돌려주므로 4개의 변수로 나눠 받을 수 있습니다.\n",
        "\n",
        "print(value_a)\n",
        "print(value_b)\n",
        "print(value_c)\n",
        "print(value_d)"
      ],
      "execution_count": 0,
      "outputs": []
    },
    {
      "metadata": {
        "id": "kjgC1sONoivz",
        "colab_type": "text"
      },
      "cell_type": "markdown",
      "source": [
        "4개의 항목을 포함한 list를 돌려주므로 4개의 변수로 나눠 받을 수 있습니다.\n",
        "\n",
        "만약 3개나 5개로 받으려고 하면 에러가 납니다."
      ]
    },
    {
      "metadata": {
        "id": "CM33elQ8ob15",
        "colab_type": "code",
        "colab": {}
      },
      "cell_type": "code",
      "source": [
        "value_a, value_b, value_c =  make_sample_list()"
      ],
      "execution_count": 0,
      "outputs": []
    },
    {
      "metadata": {
        "id": "kkQattinoni3",
        "colab_type": "code",
        "colab": {}
      },
      "cell_type": "code",
      "source": [
        "value_a, value_b, value_c, value_d, value_e =  make_sample_list()"
      ],
      "execution_count": 0,
      "outputs": []
    },
    {
      "metadata": {
        "id": "OmylTm5ForiU",
        "colab_type": "text"
      },
      "cell_type": "markdown",
      "source": [
        "unpack 관련 에러가 나면 tuple이나 list를 여러개의 변수로 나누는 과정에 개수가 안맞는다고 보시면 됩니다.\n",
        "\n",
        "\n",
        "함수의 매개변수에는 위에서 보셨듯이 없을 수도, 여러개 일수도 있습니다.\n",
        "\n",
        "함수를 정의할 때, 매개변수에 기본값을 지정해줄 수 있습니다.\n",
        "\n",
        "참고로 파이썬 기본 print 함수는 매개변수 여러개를 받으면 space로 구분해서 출력해줍니다. 또한 아무런 인수가 없으면 빈줄을 하나 출력해줍니다."
      ]
    },
    {
      "metadata": {
        "id": "lipOlp9popv7",
        "colab_type": "code",
        "colab": {}
      },
      "cell_type": "code",
      "source": [
        "def print_values(first, second='There', third=\"!\"): # second 매개변수의 기본값은 'There', third는 '!' 입니다.\n",
        "  \n",
        "  print('first', first)\n",
        "  \n",
        "  print('second', second)\n",
        "  \n",
        "  print('third', third)\n",
        "  \n",
        "  print()\n",
        "  \n",
        "print_values(\"Hello\", \"World\", \"?\")\n",
        "\n",
        "print_values(\"Hello\", \"World\") # 세번째 인수를 주지 않았지만 기본값인 '!'로 해석되서 실행됩니다."
      ],
      "execution_count": 0,
      "outputs": []
    },
    {
      "metadata": {
        "id": "Y7kVk4yLqADW",
        "colab_type": "text"
      },
      "cell_type": "markdown",
      "source": [
        "기본값이 없는 매개변수는 인수를 넣어주지 않는 경우 에러가 발생합니다."
      ]
    },
    {
      "metadata": {
        "id": "fiGJ3sgDpqa1",
        "colab_type": "code",
        "colab": {}
      },
      "cell_type": "code",
      "source": [
        "print_values()"
      ],
      "execution_count": 0,
      "outputs": []
    },
    {
      "metadata": {
        "id": "bnlxkxUrqpFC",
        "colab_type": "text"
      },
      "cell_type": "markdown",
      "source": [
        "두번째 매개변수는 기본값을 쓰고, 세번째 변수는 인수를 주고 싶으신 경우 매개변수를 명시해줍니다."
      ]
    },
    {
      "metadata": {
        "id": "qrEfrpD6qoDG",
        "colab_type": "code",
        "colab": {}
      },
      "cell_type": "code",
      "source": [
        "print_values(\"hi\", third=\"?\") \n",
        "\n",
        "\n",
        "print_values(\"hi\", \"?\") # 이 경우는 second가 '?' 로 들어가고 third는 기본값이 사용됩니다."
      ],
      "execution_count": 0,
      "outputs": []
    },
    {
      "metadata": {
        "id": "1ygOLsaNrGEB",
        "colab_type": "text"
      },
      "cell_type": "markdown",
      "source": [
        "매개변수 이름을 명시한다면 매개변수의 순서를 맞추지 않아도 됩니다."
      ]
    },
    {
      "metadata": {
        "id": "1U4o21Cvq6wV",
        "colab_type": "code",
        "colab": {}
      },
      "cell_type": "code",
      "source": [
        "print_values(third=\"...\", first=\"Hi\")"
      ],
      "execution_count": 0,
      "outputs": []
    },
    {
      "metadata": {
        "id": "LviV6WQYrXNE",
        "colab_type": "text"
      },
      "cell_type": "markdown",
      "source": [
        "다만 매개변수를 지정해주는 경우 지정하지 않고 호출하는 인수보다 뒤에 와야합니다."
      ]
    },
    {
      "metadata": {
        "id": "RsZhThZerOJL",
        "colab_type": "code",
        "colab": {}
      },
      "cell_type": "code",
      "source": [
        "print_values(thrid=\"...\", \"Hi\")"
      ],
      "execution_count": 0,
      "outputs": []
    },
    {
      "metadata": {
        "id": "e8dJxUqnrsKv",
        "colab_type": "text"
      },
      "cell_type": "markdown",
      "source": [
        "텐서플로우의 경우 API 를 함수 정의를 보여줍니다.\n",
        "\n",
        "placeholder 함수의 API 문서를 보면 \n",
        "\n",
        "https://www.tensorflow.org/api_docs/python/tf/placeholder\n",
        "\n",
        "```\n",
        "tf.placeholder(\n",
        "    dtype,\n",
        "    shape=None,\n",
        "    name=None\n",
        ")\n",
        "```\n",
        "\n",
        "dtype 매개변수는 기본값이 없으므로 반드시 호출할때 줘야하는 값이고\n",
        "shape이나 name은 주지 않으면 None이라는 데이터로 설정됩니다.\n",
        "\n",
        "\n",
        "실제 함수가 정의된 곳을 보면\n",
        "\n",
        "https://github.com/tensorflow/tensorflow/blob/r1.11/tensorflow/python/ops/array_ops.py#L1704\n",
        "\n",
        "\n",
        "```\n",
        "def placeholder(dtype, shape=None, name=None):\n",
        "```\n",
        "되어 있는걸 보실 수 있습니다.\n",
        "\n",
        "\n",
        "---\n",
        "\n",
        "람다 함수\n",
        "\n",
        "\n",
        "람다 함수는 이름 없는 함수입니다.\n",
        "\n",
        "```\n",
        "lambda 매개변수 리스트 : 리턴 값\n",
        "```\n",
        "\n",
        "두 코드의 동작은 같습니다."
      ]
    },
    {
      "metadata": {
        "id": "rYZRbM7urjpp",
        "colab_type": "code",
        "colab": {}
      },
      "cell_type": "code",
      "source": [
        "def add_value(x, y):\n",
        "  return x + y\n",
        "\n",
        "\n",
        "print(add_value(5, 10))"
      ],
      "execution_count": 0,
      "outputs": []
    },
    {
      "metadata": {
        "id": "kIUYconJtUXJ",
        "colab_type": "code",
        "colab": {}
      },
      "cell_type": "code",
      "source": [
        "add_value = lambda x, y: x + y\n",
        "\n",
        "print(add_value(5, 10))"
      ],
      "execution_count": 0,
      "outputs": []
    },
    {
      "metadata": {
        "id": "4Xn9v_GYtfXT",
        "colab_type": "text"
      },
      "cell_type": "markdown",
      "source": [
        "람다함수는 한번 쓰고 다른 곳에서는 안쓸 함수를 만드는데 쓰입니다.\n",
        "\n",
        "sorted 함수는 주어진 list를 정렬한 새로운 list를 돌려주는 함수입니다.\n",
        "\n",
        "이 때 대문자는 소문자보다 먼저 정렬 해주기 때문에 결과가 의도한 바와 다를수 있습니다."
      ]
    },
    {
      "metadata": {
        "id": "GWphmhhvtYBY",
        "colab_type": "code",
        "colab": {}
      },
      "cell_type": "code",
      "source": [
        "fruits = ['Citron', 'apple', 'banana', 'Berry'] # 저는 이걸 정렬하면 apple banana Berry Citron 순서였으면 좋겠습니다.\n",
        "\n",
        "\n",
        "print(sorted(fruits))\n"
      ],
      "execution_count": 0,
      "outputs": []
    },
    {
      "metadata": {
        "id": "J_VqfTTxxOR5",
        "colab_type": "text"
      },
      "cell_type": "markdown",
      "source": [
        "이러한 경우 sorted의 key 매개 변수로 각각의 항목을 정렬하는데 쓰일 key 값을 지정해 줄 수 있습니다.\n",
        "\n",
        "문자열 변수에 대한 lower 함수는 문자열을 소문자로 변환해 줍니다."
      ]
    },
    {
      "metadata": {
        "id": "XWNInqQgt5iK",
        "colab_type": "code",
        "colab": {}
      },
      "cell_type": "code",
      "source": [
        "print(sorted(fruits, key=lambda x: x.lower()))"
      ],
      "execution_count": 0,
      "outputs": []
    },
    {
      "metadata": {
        "id": "Dtr2gkFryCZ4",
        "colab_type": "text"
      },
      "cell_type": "markdown",
      "source": [
        "즉 apple 과 Citron을 비교하는 경우 \n",
        "\n",
        "\"apple\"에 lower 함수를 호출한  \"apple\"과\n",
        "\n",
        "\"Citron\"에 lower 함수를 호출한 \"citron\"을 비교하기 때문에 \n",
        "\n",
        "\"apple\"이 \"Citron\" 보다 먼저오는 순서로 정렬됩니다.\n",
        "\n",
        "\n",
        "\n",
        "# 해보기\n",
        "\n",
        "fruits 리스트를 마지막 알파벳을 기준으로 정렬하는 코드를 sorted 와 lambda 함수를 이용하여 작성해보세요."
      ]
    },
    {
      "metadata": {
        "id": "8-21oAbHxoOH",
        "colab_type": "code",
        "colab": {}
      },
      "cell_type": "code",
      "source": [
        ""
      ],
      "execution_count": 0,
      "outputs": []
    },
    {
      "metadata": {
        "id": "ZFNK1T1RzNLK",
        "colab_type": "text"
      },
      "cell_type": "markdown",
      "source": [
        "tuple을 비교하는 경우에는 \n",
        "\n",
        "tuple의 첫번째 값끼리 비교한 다음\n",
        "\n",
        "같은 값인 경우 두번째 값을 비교합니다.\n"
      ]
    },
    {
      "metadata": {
        "id": "dod2DlS7zXqm",
        "colab_type": "code",
        "colab": {}
      },
      "cell_type": "code",
      "source": [
        "tuple_list = [ (2, 2), (3, 2), (1, 2),  (1, 1),   (3, 3)  ]\n",
        "\n",
        "print(sorted(tuple_list))"
      ],
      "execution_count": 0,
      "outputs": []
    },
    {
      "metadata": {
        "id": "XGz59e8zzmfU",
        "colab_type": "text"
      },
      "cell_type": "markdown",
      "source": [
        "다음과 같이 첫번째 값을 무시하고 두번째 값을 기준으로 정렬할 수 있습니다."
      ]
    },
    {
      "metadata": {
        "id": "pHd5lhzTzp-5",
        "colab_type": "code",
        "colab": {}
      },
      "cell_type": "code",
      "source": [
        "print(sorted(tuple_list, key=lambda x: x[1])) # x[0] 이 첫번째고 x[1] 이 두번째 값입니다. 첫번째 값은 비교하는데 쓰이지 않습니다."
      ],
      "execution_count": 0,
      "outputs": []
    },
    {
      "metadata": {
        "id": "lE0k_eluz4XO",
        "colab_type": "text"
      },
      "cell_type": "markdown",
      "source": [
        "두번째 값 먼저 첫번째 값은 나중에 비교하려면 다음과 같이 할 수 있습니다."
      ]
    },
    {
      "metadata": {
        "id": "4nhVqH7jz-ZH",
        "colab_type": "code",
        "colab": {}
      },
      "cell_type": "code",
      "source": [
        "print(sorted(tuple_list, key=lambda x: (x[1], x[0]))) # 두번째 값 먼저 비교하고 첫번째 값을 이용해서 비교합니다."
      ],
      "execution_count": 0,
      "outputs": []
    },
    {
      "metadata": {
        "id": "5Em6YHewyode",
        "colab_type": "text"
      },
      "cell_type": "markdown",
      "source": [
        "다음\n",
        "\n",
        "https://colab.research.google.com/drive/10ORBq8s2XkQfUXUzVysHO4Hcs4VPJv81"
      ]
    },
    {
      "metadata": {
        "id": "aDzW-_kJ0KsY",
        "colab_type": "code",
        "colab": {}
      },
      "cell_type": "code",
      "source": [
        ""
      ],
      "execution_count": 0,
      "outputs": []
    }
  ]
}