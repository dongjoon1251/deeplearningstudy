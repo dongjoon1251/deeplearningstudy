{
  "nbformat": 4,
  "nbformat_minor": 0,
  "metadata": {
    "colab": {
      "name": "Python Basics (2) - Primitive Data Type.ipynb",
      "version": "0.3.2",
      "provenance": [],
      "private_outputs": true,
      "collapsed_sections": [],
      "include_colab_link": true
    },
    "kernelspec": {
      "name": "python3",
      "display_name": "Python 3"
    }
  },
  "cells": [
    {
      "cell_type": "markdown",
      "metadata": {
        "id": "view-in-github",
        "colab_type": "text"
      },
      "source": [
        "<a href=\"https://colab.research.google.com/github/paryoja/deeplearningstudy/blob/master/Python_Basics_(2)_Primitive_Data_Type.ipynb\" target=\"_parent\"><img src=\"https://colab.research.google.com/assets/colab-badge.svg\" alt=\"Open In Colab\"/></a>"
      ]
    },
    {
      "metadata": {
        "id": "QFu3r50YOD4I",
        "colab_type": "text"
      },
      "cell_type": "markdown",
      "source": [
        "프로그래밍은 결국 문자와 숫자를 다루는 작업입니다.\n",
        "\n",
        "프로그램에서 문자와 숫자가 어떻게 표현되는지 알아봅시다!\n",
        "\n",
        "\n",
        "# 데이터 타입\n",
        "\n",
        "\n",
        "다들 잘 아시다시피 컴퓨터는 0과 1만을 표현할 수 있습니다.\n",
        "\n",
        "하지만 세상에 존재하는 데이터는 다양한 타입을 가지고 있습니다.\n",
        "\n",
        "지금 보이는 이 \"글자들\" 처럼 글자들의 연속일 수도 있고,\n",
        "\n",
        "5 + 10 에서의 5와 10과 같이 숫자일 수도 있습니다.\n",
        "\n",
        "\n",
        "---\n",
        "\n",
        "\n",
        "컴퓨터는 0과 1의 조합으로 데이터를 저장하기 때문에 같은 0과 1의 수열이라고 하더라도 읽는 방식에 따라 다르게 해석합니다.\n",
        "\n",
        "예를 들어\n",
        "\n",
        "01001110 이라는 데이터를\n",
        "\n",
        "숫자로 읽는다면 78 이라고 해석하고\n",
        "\n",
        "글자로 읽는다면  영어의 대문자 N 입니다.\n",
        "\n",
        "자연수를 저장할 때 쓰는 방식과 소숫점 값을 가지는 실수(Real number)의 저장방식도 다릅니다.\n",
        "\n",
        "# 정수형 (Integer)\n",
        "\n",
        "앞서 보았던 정수 데이터 타입부터 보겠습니다.\n",
        "\n"
      ]
    },
    {
      "metadata": {
        "id": "N79jovlAGrWq",
        "colab_type": "code",
        "colab": {}
      },
      "cell_type": "code",
      "source": [
        "x = 3\n",
        "\n",
        "print(x)\n",
        "\n",
        "print(type(x))"
      ],
      "execution_count": 0,
      "outputs": []
    },
    {
      "metadata": {
        "id": "tLrZebecOBxk",
        "colab_type": "text"
      },
      "cell_type": "markdown",
      "source": [
        "소숫점 자리가 없이 입력한 숫자는 정수로 해석됩니다.\n",
        "\n",
        "앞서 보았던 print 함수외에 type 함수를 썼습니다.\n",
        "\n",
        "type 함수도 파이썬에서 기본으로 제공하는 기능이고,\n",
        "\n",
        "변수에 저장된 데이터 타입을 알려줍니다.\n",
        "\n",
        "(비교-print는 변수에 저장된 값을 알려줍니다.)\n",
        "\n",
        "여기서 x에 저장된 값은 3이고,\n",
        "\n",
        "타입은 int(integer, 정수) 형임을 알 수 있습니다. (여기서 class는 데이터의 저장방식을 의미합니다)\n",
        "\n",
        "# 부동소수점 (Float)\n",
        "\n",
        "일상생활에서는 크게 구분하지 않지만 \n",
        "\n",
        "컴퓨터는 그냥 2와 2.5를 상당히 다른 방식으로 저장합니다.\n",
        "\n",
        "2.5와 같이 소숫점이 있는 숫자는 floating point number (부동 소숫점. 여기서 부동(浮動)은  가만히 있다(不動)라는 뜻이 아니라 둥둥 떠다니다라는 뜻입니다. 그 이유를 알고 싶다면 [클릭!](https://namu.wiki/w/%EC%BB%B4%ED%93%A8%ED%84%B0%EC%97%90%EC%84%9C%EC%9D%98%20%EC%88%98%20%ED%91%9C%ED%98%84?from=%EB%B6%80%EB%8F%99%EC%86%8C%EC%88%98%EC%A0%90#s-3))\n",
        "방식으로 저장합니다.\n",
        "\n",
        "컴퓨터에서는 이를 보통 float 라고 표시합니다.\n"
      ]
    },
    {
      "metadata": {
        "id": "SAOLkOX9Qpst",
        "colab_type": "code",
        "colab": {}
      },
      "cell_type": "code",
      "source": [
        "y = 2.5 \n",
        "\n",
        "print(type(y))"
      ],
      "execution_count": 0,
      "outputs": []
    },
    {
      "metadata": {
        "id": "0S_ECwQhSBNc",
        "colab_type": "text"
      },
      "cell_type": "markdown",
      "source": [
        "정수형과 부동소숫점 타입들에는 사칙연산을 비롯한 다양한 연산을 수행할 수 있습니다.\n",
        "\n",
        "파이썬에서는 x ** y 연산은  x의 y승을 계산해줍니다. (C나 Java에는 없는기능입니다! 파이썬 만세!) \n",
        "\n",
        "x ^ y 가 아님에 유의하세요 (특히나 latex 쓰시는 분들).\n",
        "\n",
        "\n"
      ]
    },
    {
      "metadata": {
        "id": "WhV6uPbqRXcC",
        "colab_type": "code",
        "colab": {}
      },
      "cell_type": "code",
      "source": [
        "print(x + 1) # 3\n",
        "print(x * 2) # 4\n",
        "print(x ** 2) # 3의 제곱: 9\n",
        "\n",
        "print(y + 1) # 3.5\n",
        "print(y * 2) # 5.0\n",
        "print(y ** 2) # 2.5의 제곱: 6.25"
      ],
      "execution_count": 0,
      "outputs": []
    },
    {
      "metadata": {
        "id": "hVkwW691SrDl",
        "colab_type": "text"
      },
      "cell_type": "markdown",
      "source": [
        "숫자 5를 int형으로 저장할 수도, float 형으로 저장할 수도 있습니다.\n",
        "\n",
        "사람에게는 동일한 의미지만, int형으로 저장한 5의 0과 1 배열과\n",
        "\n",
        "float 형으로 저장한 0과 1 배열에는 차이가 있어서 컴퓨터는 이를 구분해야합니다.\n",
        "\n",
        "float 형으로 저장된 5는 출력할 때 5.0 으로 출력되며,\n",
        "\n",
        "int 형으로 저장된 5는 출력할 때 5로 출력됩니다."
      ]
    },
    {
      "metadata": {
        "id": "tHSMqC7USiFe",
        "colab_type": "code",
        "colab": {}
      },
      "cell_type": "code",
      "source": [
        "int_five = 5 # int 형 5 입니다.\n",
        "float_five = 5.0 # float 형 5 입니다.\n",
        "\n",
        "print(int_five) # 5\n",
        "print(float_five) # 5.0"
      ],
      "execution_count": 0,
      "outputs": []
    },
    {
      "metadata": {
        "id": "WdIwV82sTxPb",
        "colab_type": "text"
      },
      "cell_type": "markdown",
      "source": [
        "위의 연산 결과를 보면\n",
        "\n",
        "```\n",
        "print(y * 2) \n",
        "```\n",
        "의 출력 값으로 5.0 으로 찍혀있는 것을 볼 수 있습니다.\n",
        "\n",
        "오해의 여지가 없는 한 float형 변수를 float라고 줄여 표현하도록 하겠습니다. (int도 마찬가지)\n",
        "\n",
        "float에 사칙연산을 수행하면 float이고,\n",
        "\n",
        "int와 int에 덧셈, 뺄셈, 곱셈을 수행하면 인트형이지만\n",
        "\n",
        "int와 int 나눗셈은 float 형 변수로 변환 됩니다.\n",
        "\n",
        "사람 입장에서는 2와 2.0은 차이가 없지만\n",
        "\n",
        "코딩을 하다보면 이 차이로 인해서 버그가 생기기도 하니 주의하세요."
      ]
    },
    {
      "metadata": {
        "id": "ApbGYhGkGfm0",
        "colab_type": "text"
      },
      "cell_type": "markdown",
      "source": [
        "또한 \n",
        "\n",
        "5e10, 1.5e-3\n",
        "\n",
        "이런식으로 e를 넣어서 쓰기도 하는데,\n",
        "\n",
        "의미는\n",
        "\n",
        "5 * 10 ^ 10 (10의 10승) = 50,000,000,000\n",
        "\n",
        "1.5 * 10 ^ -3  (10의 -3승) = 0.0015\n",
        "\n",
        "입니다."
      ]
    },
    {
      "metadata": {
        "id": "JFlUmW0dTbSl",
        "colab_type": "code",
        "colab": {}
      },
      "cell_type": "code",
      "source": [
        "int_multiple_int = 6 * 3\n",
        "\n",
        "print(int_multiple_int)\n",
        "print(type(int_multiple_int))\n",
        "\n",
        "int_divide_int = 6 / 3 \n",
        "\n",
        "print(int_divide_int_1)\n",
        "print(type(int_divide_int_1))\n"
      ],
      "execution_count": 0,
      "outputs": []
    },
    {
      "metadata": {
        "id": "Kmkn0lZNkg9V",
        "colab_type": "text"
      },
      "cell_type": "markdown",
      "source": [
        "혹시 나눗셈의 몫이나 나머지를 알고 싶으시면 // 연산이나 % 연산을 하시면 됩니다."
      ]
    },
    {
      "metadata": {
        "id": "56-k2OYYkngw",
        "colab_type": "code",
        "colab": {}
      },
      "cell_type": "code",
      "source": [
        "x = 351\n",
        "y = 10\n",
        "\n",
        "print(x // y) # 351 나누기 10의 몫: 35\n",
        "print(x % y) # 351 나누기 10의 나머지: 1"
      ],
      "execution_count": 0,
      "outputs": []
    },
    {
      "metadata": {
        "id": "8psh47nQVgQM",
        "colab_type": "text"
      },
      "cell_type": "markdown",
      "source": [
        "---\n",
        "Fun Facts\n",
        "\n",
        "파이썬을 구동하는 프로그램은 C로 구현되어 있는데, 다른 언어로 구현한 것들도 있습니다.\n",
        "\n",
        "이들을 구분하기 위해\n",
        "\n",
        "C로 구현한 것을 CPython\n",
        "\n",
        "Java로 구현한 것을 JPython\n",
        "\n",
        "심지어는 파이썬으로 파이썬을 구현한 것도 있는데, 이를 PyPy 라고 부릅니다.\n",
        "\n",
        "이처럼 어느 프로그래밍 언어를 해석하는 프로그램을 그 언어 자신으로 구현하는 것을 Bootstrapping 이라 부릅니다. \n",
        "\n",
        "각 언어 구현체마다의 특징이 있는데, PyPy는 놀랍게도 CPython 보다 7배까지도 빠릅니다! (Python 2.7.2 기준: http://speed.pypy.org/)\n",
        "\n",
        "JIT 이라는 컴파일 기법때문인데 자세한 내용은 https://en.wikipedia.org/wiki/Just-in-time_compilation 를 참고하세요.\n",
        "\n",
        "\n",
        "\n",
        "---\n",
        "\n",
        "\n",
        "# 논리 자료형 (Boolean)\n",
        "\n",
        "다음으로 다룰 타입은 boolean 타입입니다.\n",
        "\n",
        "이는 참과 거짓을 표시하기 위한 타입입니다.\n",
        "\n",
        "참은 True 거짓은 False로 나타냅니다.\n",
        "\n",
        "대문자로 시작하는 점에 유의하세요.\n",
        "\n",
        "\n",
        "참과 거짓에는 사칙연산을 할 수 없지만 참과 거짓만을 위한 \n",
        "\n",
        "and, or, not 등의 연산이 가능합니다.\n",
        "\n",
        "\n",
        "and 연산은 좌변과 우변이 모두 True 일 때 True이고 나머지 경우는 모두 False 입니다.\n",
        "\n",
        "or 연산은 좌변과 우변이 모두 False 일 때 False이고 나머지 경우는 모두 True 입니다.\n",
        "\n",
        "not 연산은 우변만 있으며, 우변이 True면 False이고, 우변이 False이면 True 입니다.\n",
        "\n",
        "다음은 각 연산을 수행해본 예시입니다."
      ]
    },
    {
      "metadata": {
        "id": "Rzb_70KFTc-d",
        "colab_type": "code",
        "colab": {}
      },
      "cell_type": "code",
      "source": [
        "t = True\n",
        "f = False\n",
        "\n",
        "print(type(t)) # Prints \"<class 'bool'>\"\n",
        "\n",
        "\n",
        "print(t and f) # Logical AND; prints \"False\"\n",
        "print(t or f)  # Logical OR; prints \"True\"\n",
        "print(not t)   # Logical NOT; prints \"False\""
      ],
      "execution_count": 0,
      "outputs": []
    },
    {
      "metadata": {
        "id": "A_0E3oy5Wu0-",
        "colab_type": "text"
      },
      "cell_type": "markdown",
      "source": [
        "# 문자열 (String)\n",
        "\n",
        "파이썬에서는 문자열을 다른 프로그래밍 언어에서보다 쉽게 다룰 수 있습니다.\n",
        "\n",
        "작은 따옴표 혹은 큰 따옴표 사이에 쓴 글자는 모두 string이라고 불리는 데이터 타입으로 저장됩니다."
      ]
    },
    {
      "metadata": {
        "id": "puvUjqjvXCNT",
        "colab_type": "code",
        "colab": {}
      },
      "cell_type": "code",
      "source": [
        "hello_variable = 'hello'    # 작은 따옴표로 표시하거나\n",
        "\n",
        "world_variable = \"world\"    # 큰 따옴표로 표시한 데이터는 문자열 데이터로\n",
        "\n",
        "print(hello_variable)       # 출력시에 입력한 문자열을 보여줍니다.\n",
        "\n",
        "print(world_variable)"
      ],
      "execution_count": 0,
      "outputs": []
    },
    {
      "metadata": {
        "id": "sXyZctkzXdmi",
        "colab_type": "text"
      },
      "cell_type": "markdown",
      "source": [
        "문자열을 큰 따옴표로 시작하고 작은 따옴표로 끝내거나 할 수는 없습니다. (반대도 마찬가지)\n",
        "\n",
        "반드시 시작한 따옴표로 끝내야합니다.\n",
        "\n",
        "string 데이터 타입에도 더하기 연산을 쓸 수 있습니다.\n",
        "\n",
        "이 때 결과는 두 string 을 이어 붙인 결과가 나옵니다."
      ]
    },
    {
      "metadata": {
        "id": "7HwiaAxtXdM4",
        "colab_type": "code",
        "colab": {}
      },
      "cell_type": "code",
      "source": [
        "print(hello_variable + world_variable)"
      ],
      "execution_count": 0,
      "outputs": []
    },
    {
      "metadata": {
        "id": "lM2w5CWrX4OU",
        "colab_type": "text"
      },
      "cell_type": "markdown",
      "source": [
        "문자열 변수에는 다양한 함수가 정의되어 있습니다.\n",
        "\n",
        "이러한 함수는 문자열 \\[변수\\]. \\[함수 이름\\]() 의 형태로 쓸 수 있습니다.\n",
        "\n"
      ]
    },
    {
      "metadata": {
        "id": "ONnYoD6IWuZk",
        "colab_type": "code",
        "colab": {}
      },
      "cell_type": "code",
      "source": [
        "s = \"hello\"\n",
        "\n",
        "print(s)\n",
        "print(s.capitalize()) # captialize 함수는 첫 글자를 대문자로 바꿔줍니다.\n",
        "print(s.upper()) # upper 함수는 모든 글자를 대문자로 만들어줍니다.\n",
        "\n",
        "\n",
        "s_with_space = \"    world    \"  # 따옴표 안에있는 space는 그대로 출력됩니다.\n",
        "print(s_with_space)\n",
        "print(s_with_space.strip())    # strip 함수는 space와 같이 공백 문자들을 제거해줍니다."
      ],
      "execution_count": 0,
      "outputs": []
    },
    {
      "metadata": {
        "id": "BYyCtgeGY9_2",
        "colab_type": "text"
      },
      "cell_type": "markdown",
      "source": [
        "줄바꿈과 같은 특별한 문자를 쓰기 위해 역슬레시(\\)를 사용합니다.\n",
        "\n",
        "\\n은 줄바꿈 문자이고,\n",
        "\n",
        "\\t는 tab문자입니다.\n",
        "\n",
        "\\\" 와 \\' 는 각각 큰 따옴표와 작은 따옴표를 문자로 찍기 위한 글자입니다.\n",
        "\n",
        "\\n \\t 를 문자열로 쓰고 싶으신 경우 역슬레시를 한번만 쓰면 줄바꿈이 되거나 tab이 되기 때문에 역슬레시를 두 번 써서 표시합니다."
      ]
    },
    {
      "metadata": {
        "id": "vdgsE-cyY9dm",
        "colab_type": "code",
        "colab": {}
      },
      "cell_type": "code",
      "source": [
        "print('안녕하세요\\n반갑습니다.')      # 이문장은 중간의 줄바꿈 기호때문에 두줄로 표시됩니다.\n",
        "\n",
        "print(\"큰따옴표 \\\", 작은 따옴표 \\'\")\n",
        "\n",
        "print(\"사실 큰따옴표로 문자열을 시작한 경우 '작은 따옴표'는 역슬레시 없이 작성할 수 있습니다.\")\n",
        "\n",
        "print(\"\\\\n 를 제대로 표시하기위해서는 역슬레시를 두번 써야합니다.\")"
      ],
      "execution_count": 0,
      "outputs": []
    },
    {
      "metadata": {
        "id": "jOMWxSvObl20",
        "colab_type": "text"
      },
      "cell_type": "markdown",
      "source": [
        "문자열 내의 문자를 다른 문자로 바꾸는 함수들도 정의가 되어 있습니다.\n",
        "\n",
        "\n",
        "replace(a, b)\n",
        "\n",
        "함수는 a 부분에 적힌 문자열을 b로 바꿔 줍니다."
      ]
    },
    {
      "metadata": {
        "id": "ga_FDyMWWDI_",
        "colab_type": "code",
        "colab": {}
      },
      "cell_type": "code",
      "source": [
        "s = \"hello\"\n",
        "\n",
        "print(s.replace('l', '(ell)'))  # 모든 l 부분을 (ell) 으로 바꿔줍니다"
      ],
      "execution_count": 0,
      "outputs": []
    },
    {
      "metadata": {
        "id": "aGK3O3Rzv3FX",
        "colab_type": "text"
      },
      "cell_type": "markdown",
      "source": [
        "# None 자료형\n",
        "\n",
        "해당하는 데이터가 없다는 것을 나타내기 위해 특별히 None이라는 자료형이 존재합니다.\n",
        "\n",
        "이 자료형은 출력하면 None 이 출력되고\n",
        "\n",
        "type은 NoneType 입니다.\n",
        "\n",
        "나중에 배울 함수등에서 함수가 특별한 동작을 수행하도록 하거나 특정 결과가 없음을 나타내는데 주로 쓰입니다."
      ]
    },
    {
      "metadata": {
        "id": "TXTsxHHXwCL_",
        "colab_type": "code",
        "colab": {}
      },
      "cell_type": "code",
      "source": [
        "x = None\n",
        "\n",
        "print(x)\n",
        "\n",
        "print(type(x))"
      ],
      "execution_count": 0,
      "outputs": []
    },
    {
      "metadata": {
        "id": "EOs8T6pfQUXq",
        "colab_type": "text"
      },
      "cell_type": "markdown",
      "source": [
        "다음\n",
        "\n",
        "https://colab.research.google.com/drive/1gCqZTdNgZ4CUA57ywbUIw5DZNKW-Kizj"
      ]
    }
  ]
}