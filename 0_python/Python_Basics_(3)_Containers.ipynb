{
  "nbformat": 4,
  "nbformat_minor": 0,
  "metadata": {
    "colab": {
      "name": "Python Basics (3) - Containers.ipynb",
      "version": "0.3.2",
      "provenance": [],
      "private_outputs": true,
      "collapsed_sections": [],
      "include_colab_link": true
    },
    "kernelspec": {
      "name": "python3",
      "display_name": "Python 3"
    }
  },
  "cells": [
    {
      "cell_type": "markdown",
      "metadata": {
        "id": "view-in-github",
        "colab_type": "text"
      },
      "source": [
        "<a href=\"https://colab.research.google.com/github/paryoja/deeplearningstudy/blob/master/Python_Basics_(3)_Containers.ipynb\" target=\"_parent\"><img src=\"https://colab.research.google.com/assets/colab-badge.svg\" alt=\"Open In Colab\"/></a>"
      ]
    },
    {
      "metadata": {
        "id": "vLIppIetNB6m",
        "colab_type": "text"
      },
      "cell_type": "markdown",
      "source": [
        "# Container\n",
        "\n",
        "대부분의 프로그램은 많은 양의 데이터를 다룹니다.\n",
        "\n",
        "만은 양의 데이터 각각에 변수를 부여해서는 다루기 힘들기 때문에\n",
        "\n",
        "container 라는 데이터 타입이 존재합니다.\n",
        "\n",
        "\n",
        "가장 먼저 볼 것은 list 입니다.\n",
        "\n",
        "## List\n",
        "\n",
        "리스트는 말 그대로 데이터를 여러개 가지고 있는 데이터 타입입니다.\n",
        "\n",
        "리스트를 만들기 위해서는 \n",
        "\n",
        "list() 를 호출하거나\n",
        "\n"
      ]
    },
    {
      "metadata": {
        "id": "QdvUtAafM40T",
        "colab_type": "code",
        "colab": {}
      },
      "cell_type": "code",
      "source": [
        "my_list = list()\n",
        "\n",
        "my_list.append('hello')\n",
        "\n",
        "my_list.append('world')\n",
        "\n",
        "print(my_list)"
      ],
      "execution_count": 0,
      "outputs": []
    },
    {
      "metadata": {
        "id": "xBJ_FnHhgdCg",
        "colab_type": "text"
      },
      "cell_type": "markdown",
      "source": [
        "또는 \n",
        "\n",
        "```[]```\n",
        "\n",
        "라고 써주면 됩니다.\n",
        "\n",
        "그리고 list에 데이터를 넣기 위해서는 append 함수를 이용합니다.\n",
        "\n",
        "\n",
        "리스트를 출력하면, 데이터가 \\['hello', 'world'\\] 와 같이 \\[ \\] 로 묶여서 표현됩니다. "
      ]
    },
    {
      "metadata": {
        "id": "XRTRI-0SgVIr",
        "colab_type": "code",
        "colab": {}
      },
      "cell_type": "code",
      "source": [
        "my_list_2 = []\n",
        "\n",
        "my_list_2.append(100)\n",
        "\n",
        "my_list_2.append('hi')\n",
        "\n",
        "my_list_2.append(3.5)\n",
        "\n",
        "print(my_list_2)"
      ],
      "execution_count": 0,
      "outputs": []
    },
    {
      "metadata": {
        "id": "AqqdSsbggtR0",
        "colab_type": "text"
      },
      "cell_type": "markdown",
      "source": [
        "처음부터 데이터가 들어 있는 리스트를 만들 수도 있습니다."
      ]
    },
    {
      "metadata": {
        "id": "RQbKVGcJgot5",
        "colab_type": "code",
        "colab": {}
      },
      "cell_type": "code",
      "source": [
        "my_list_3 = [\"I\", \"am\", \"a\", \"boy\"]\n",
        "\n",
        "my_list_3.append(\"!\")\n",
        "\n",
        "my_list_4 = list((1, 2, 4, my_list_3))\n",
        "\n",
        "print(my_list_3)\n",
        "\n",
        "print(my_list_4)"
      ],
      "execution_count": 0,
      "outputs": []
    },
    {
      "metadata": {
        "id": "_plLlrD3hEaY",
        "colab_type": "text"
      },
      "cell_type": "markdown",
      "source": [
        "리스트에는 앞에서 배운 모든 데이터 타입을 넣을 수 있습니다.\n",
        "\n",
        "심지어 리스트에는 리스트도 들어갑니다!"
      ]
    },
    {
      "metadata": {
        "id": "ssrK93eWg2AO",
        "colab_type": "code",
        "colab": {}
      },
      "cell_type": "code",
      "source": [
        "my_list_3.append(my_list)\n",
        "\n",
        "print(my_list_3)"
      ],
      "execution_count": 0,
      "outputs": []
    },
    {
      "metadata": {
        "id": "NLaIfRIVhN1U",
        "colab_type": "text"
      },
      "cell_type": "markdown",
      "source": [
        "리스트 안에 있는 데이터를 끄집어 내기 위해서는 indexing이라는 연산을 통해야합니다.\n",
        "\n",
        "이때 주의해야할 점은 0이 첫번째 항목을 가리킨다는 것입니다."
      ]
    },
    {
      "metadata": {
        "id": "77vtBvxahMtY",
        "colab_type": "code",
        "colab": {}
      },
      "cell_type": "code",
      "source": [
        "print(my_list) # ['hello', 'world'] 입니다\n",
        "\n",
        "print(my_list[0]) # 'hello' 입니다\n",
        "\n",
        "print(my_list[1]) # 'world' 입니다"
      ],
      "execution_count": 0,
      "outputs": []
    },
    {
      "metadata": {
        "id": "NEywQrSGLi96",
        "colab_type": "text"
      },
      "cell_type": "markdown",
      "source": [
        "리스트 안의 항목을 바꿀 수도 있습니다."
      ]
    },
    {
      "metadata": {
        "id": "rH8EVGi5LlEP",
        "colab_type": "code",
        "colab": {}
      },
      "cell_type": "code",
      "source": [
        "my_list[0] = 'change_this'\n",
        "print(my_list)"
      ],
      "execution_count": 0,
      "outputs": []
    },
    {
      "metadata": {
        "id": "FOjD068yhksE",
        "colab_type": "text"
      },
      "cell_type": "markdown",
      "source": [
        "리스트의 길이는 리스트 안에 들어있는 항목의 갯수와 같습니다.\n",
        "\n",
        "길이는 len() 함수를 호출함으로써 알 수 있습니다."
      ]
    },
    {
      "metadata": {
        "id": "LBHG7uSWhjrT",
        "colab_type": "code",
        "colab": {}
      },
      "cell_type": "code",
      "source": [
        "length_of_my_list = len(my_list)\n",
        "\n",
        "print(length_of_my_list)"
      ],
      "execution_count": 0,
      "outputs": []
    },
    {
      "metadata": {
        "id": "M8q3ILISAhLS",
        "colab_type": "text"
      },
      "cell_type": "markdown",
      "source": [
        "리스트에서 마지막 값을 알고 싶으면 어떻게 하면 될까요? len을 배웠기 때문에 다음과 같이 짤 수 있겠죠?\n",
        "\n",
        "인덱스는 0부터 시작한다는 것에 유의해서 작성해보면"
      ]
    },
    {
      "metadata": {
        "id": "R2WTAYAHArqL",
        "colab_type": "code",
        "colab": {}
      },
      "cell_type": "code",
      "source": [
        "print(my_array[len(my_array) - 1])"
      ],
      "execution_count": 0,
      "outputs": []
    },
    {
      "metadata": {
        "id": "EVH3zwWIAs1e",
        "colab_type": "text"
      },
      "cell_type": "markdown",
      "source": [
        "이를 다음과 같이 간편하게 작성할 수 있습니다."
      ]
    },
    {
      "metadata": {
        "id": "5H9e5msAAt3H",
        "colab_type": "code",
        "colab": {}
      },
      "cell_type": "code",
      "source": [
        "print(my_array[-1])"
      ],
      "execution_count": 0,
      "outputs": []
    },
    {
      "metadata": {
        "id": "hFurjIaYAwPY",
        "colab_type": "text"
      },
      "cell_type": "markdown",
      "source": [
        "많은 언어에서 음수 index는 의미를 갖지 않습니다. (뭐 c언어를 이용해 해킹할때는 쓰이기도 합니다.)\n",
        "\n",
        "python에서는 item이 4개인 list라고 한다면\n",
        "\n",
        "```my_list = [ 1, 2, 3, 4 ] \n",
        "             0  1  2  3\n",
        "            -4 -3 -2 -1\n",
        "```\n",
        "\n",
        "my_list\\[2\\]는 my_list\\[-2\\]로도 접근할 수 있고, my_list\\[1\\]은 my_list\\[-3\\]으로 접근할 수 있습니다.\n",
        "\n",
        "생각하실때에는 -3은 뒤에서 세번째값 -5는 뒤에서 다섯번째 값으로 생각하시면 편합니다.\n"
      ]
    },
    {
      "metadata": {
        "id": "0PVBdjC0h1-H",
        "colab_type": "text"
      },
      "cell_type": "markdown",
      "source": [
        "리스트 안에 있는 모든 항목들을 한번씩 꺼내보고 싶으면 다음과 같이 할 수 있습니다.\n",
        "\n",
        "이렇게 데이터를 순회하는 문법을 for loop이라고 부르는데 이에 대해서는 나중에 다시 살펴보겠습니다."
      ]
    },
    {
      "metadata": {
        "id": "FyLDQZJ5hzvg",
        "colab_type": "code",
        "colab": {}
      },
      "cell_type": "code",
      "source": [
        "for item in my_list_3:\n",
        "  \n",
        "  print(item)"
      ],
      "execution_count": 0,
      "outputs": []
    },
    {
      "metadata": {
        "id": "f36AW8BeO3Al",
        "colab_type": "text"
      },
      "cell_type": "markdown",
      "source": [
        "리스트에 있는 내용을 개별 변수로 빼내고 싶으면 다음과 같이 쓸수 있습니다."
      ]
    },
    {
      "metadata": {
        "id": "xloEFm58O2qD",
        "colab_type": "code",
        "colab": {}
      },
      "cell_type": "code",
      "source": [
        "var_a, var_b, var_c = my_list_2\n",
        "\n",
        "print(my_list_2)\n",
        "print(var_a)\n",
        "print(var_b)\n",
        "print(var_c)"
      ],
      "execution_count": 0,
      "outputs": []
    },
    {
      "metadata": {
        "id": "tslXNLP7_GBd",
        "colab_type": "text"
      },
      "cell_type": "markdown",
      "source": [
        "## 중요: SLICING\n",
        "\n",
        "데이터를 범위로 뽑아낼 수 있습니다.\n",
        "\n",
        "my_list_3 의 2번째 항목 (index 1번) 부터 4번째 항목(index 3번)을 뽑아내려면  \n",
        "\n",
        "my_list_3\\[1: 4\\]  와 같이 index로 범위를 주면 됩니다. 이때 두번째 숫자로 주어지는 수는 포함되지 않습니다.\n",
        "\n",
        "즉 \\[start_index : end_index \\] 로 뽑으면\n",
        "\n",
        "my_list_3\\[start_index\\], my_list_3\\[start_index + 1\\], ..., my_list_3\\[end_index - 1\\] 까지가 뽑힙니다.  "
      ]
    },
    {
      "metadata": {
        "id": "R-TyYQht_RAR",
        "colab_type": "code",
        "colab": {}
      },
      "cell_type": "code",
      "source": [
        "print(my_list_3) # 원본\n",
        "print(my_list_3[1:4]) # 2번 (index 1)부터 4번 (index 4 - 1) 까지 출력"
      ],
      "execution_count": 0,
      "outputs": []
    },
    {
      "metadata": {
        "id": "9JjnKm16BP4x",
        "colab_type": "text"
      },
      "cell_type": "markdown",
      "source": [
        "맨 처음부터 2번 직전까지를 뽑고 싶으면\n",
        "\n",
        "my_list\\[0:2\\] 로 표현할 수 있습니다.\n",
        "\n",
        "0을 쓰기 번거로우므로\n",
        "\n",
        "my_list\\[:2\\] 로 생략할 수 있습니다"
      ]
    },
    {
      "metadata": {
        "id": "fSdK_XyzBRMr",
        "colab_type": "code",
        "colab": {}
      },
      "cell_type": "code",
      "source": [
        "print(my_list_3[0:2])\n",
        "print(my_list_3[:2])"
      ],
      "execution_count": 0,
      "outputs": []
    },
    {
      "metadata": {
        "id": "YAGJfR-CBVqe",
        "colab_type": "text"
      },
      "cell_type": "markdown",
      "source": [
        "마찬가지로 2번 부터 맨 끝까지 뽑고 싶다면\n",
        "\n",
        "my_list[2:len(my_list)] 로 쓰면 됩니다만 (len(my_list) 직전값 까지이므로 -1을 없이 써야합니다)\n",
        "\n",
        "my_list[2:] 으로 2부터 끝까지를 표현합니다.\n",
        "\n",
        "만약 시작 위치가 이미 list의 범위를 벗어난 경우 빈 리스트가 됩니다."
      ]
    },
    {
      "metadata": {
        "id": "OAXR2no6BXo8",
        "colab_type": "code",
        "colab": {}
      },
      "cell_type": "code",
      "source": [
        "print(my_list_3[2:len(my_list_3)])\n",
        "print(my_list_3[2:])\n",
        "\n",
        "print(my_list[2:]) # my_list에는 0번 1번  값이 2개뿐이기 때문에 index 2에  해당하는 값이 없습니다."
      ],
      "execution_count": 0,
      "outputs": []
    },
    {
      "metadata": {
        "id": "U5YRkFUZBWOF",
        "colab_type": "text"
      },
      "cell_type": "markdown",
      "source": [
        "그렇다면\n",
        "\n",
        "my_list\\[:\\] 는 무엇일까요??\n",
        "\n",
        "네 my_list 그 자체입니다. 파이썬 문법에서는 의미가 없지만, numpy에서는 이를 이용해 좀 더 다양한 표현을 합니다.\n",
        "\n",
        "numpy 자료에서 설명드리겠습니다."
      ]
    },
    {
      "metadata": {
        "id": "7OzOQEJOBoug",
        "colab_type": "code",
        "colab": {}
      },
      "cell_type": "code",
      "source": [
        "print(my_list)\n",
        "print(my_list[:])"
      ],
      "execution_count": 0,
      "outputs": []
    },
    {
      "metadata": {
        "id": "9L7e7GlYA6C_",
        "colab_type": "text"
      },
      "cell_type": "markdown",
      "source": [
        "# 해보기\n",
        "\n",
        "my_list_3 의 두번째 항목에서 부터 마지막에서 두번째 항목을 꺼내와보세요\n",
        "\n",
        "힌트: 마지막에서 두번째는 -2로 지칭 할 수 있습니다.\n",
        "\n",
        "범위를 지정할때는 뽑고 싶은 마지막 항목의 index + 1 을 지정하는 것을 잊지 마세요!\n",
        "\n",
        "## + 1을 하고 안하고에 따라 버그가 쉽게 생기는 부분이기 때문에 집중해서 코딩해야하고,\n",
        "\n",
        "## 항상 코드를 테스트 해서 제대로 동작하는지 확인하셔야합니다."
      ]
    },
    {
      "metadata": {
        "id": "dLEnFz8nBAho",
        "colab_type": "code",
        "colab": {}
      },
      "cell_type": "code",
      "source": [
        ""
      ],
      "execution_count": 0,
      "outputs": []
    },
    {
      "metadata": {
        "id": "XfWQJAbkK3Cx",
        "colab_type": "text"
      },
      "cell_type": "markdown",
      "source": [
        "## Tuple\n",
        "\n",
        "튜플은 list와 비슷합니다만, 내용을 고칠수 없다는 것이 특징입니다.\n",
        "\n",
        "생성은 리스트와 비슷하게 \\(\\) 로 묶어서 생성하거나 괄호없이 값을 , 로 연결시키면 됩니다."
      ]
    },
    {
      "metadata": {
        "id": "1b5T1oHaiAyt",
        "colab_type": "code",
        "colab": {}
      },
      "cell_type": "code",
      "source": [
        "my_tuple = (1, 2, 3)\n",
        "\n",
        "my_tuple_2 = \"hi\", \"there\", 1.0, -5\n",
        "\n",
        "print(my_tuple)\n",
        "print(my_tuple_2)"
      ],
      "execution_count": 0,
      "outputs": []
    },
    {
      "metadata": {
        "id": "OrzvpNsaLbmj",
        "colab_type": "text"
      },
      "cell_type": "markdown",
      "source": [
        "List 에서처럼 append 할수 없습니다."
      ]
    },
    {
      "metadata": {
        "id": "vZgEhd-3LLUY",
        "colab_type": "code",
        "colab": {}
      },
      "cell_type": "code",
      "source": [
        "my_tuple.append('add_this')"
      ],
      "execution_count": 0,
      "outputs": []
    },
    {
      "metadata": {
        "id": "BtHKTMDALgpP",
        "colab_type": "text"
      },
      "cell_type": "markdown",
      "source": [
        "또한 한번 정한 내용을 바꿀 수 없습니다."
      ]
    },
    {
      "metadata": {
        "id": "pvCHW2m0LfjQ",
        "colab_type": "code",
        "colab": {}
      },
      "cell_type": "code",
      "source": [
        "my_tuple[1] = 5"
      ],
      "execution_count": 0,
      "outputs": []
    },
    {
      "metadata": {
        "id": "wwMsoHVnLw63",
        "colab_type": "text"
      },
      "cell_type": "markdown",
      "source": [
        "하지만 for loop이나 indexing을 통해 항복값을 꺼내올 수 있습니다."
      ]
    },
    {
      "metadata": {
        "id": "RkldQMtrLwQU",
        "colab_type": "code",
        "colab": {}
      },
      "cell_type": "code",
      "source": [
        "print('by indexing')\n",
        "print(my_tuple[0])\n",
        "\n",
        "print(my_tuple[1])\n",
        "\n",
        "print(my_tuple[2])\n",
        "\n",
        "\n",
        "print('by for loop')\n",
        "for item in my_tuple:\n",
        "  print(item)"
      ],
      "execution_count": 0,
      "outputs": []
    },
    {
      "metadata": {
        "id": "5Lp63ysyPQef",
        "colab_type": "text"
      },
      "cell_type": "markdown",
      "source": [
        "튜플도 여러개의 변수로 분해해낼 수 있습니다."
      ]
    },
    {
      "metadata": {
        "id": "n1VIFBy8Pd7i",
        "colab_type": "code",
        "colab": {}
      },
      "cell_type": "code",
      "source": [
        "var_x, var_y, var_z = my_tuple\n",
        "\n",
        "print(my_tuple)\n",
        "print(var_x)\n",
        "print(var_y)\n",
        "print(var_z)"
      ],
      "execution_count": 0,
      "outputs": []
    },
    {
      "metadata": {
        "id": "S2UdMge4MAWE",
        "colab_type": "text"
      },
      "cell_type": "markdown",
      "source": [
        "마치 list의 하위호환과 같은 느낌이지만,\n",
        "\n",
        "내용을 바꿀 수 없기 때문에 메모리를 list에 비해 적게 사용합니다.\n",
        "\n",
        "또한 hashable해서 dictionary의 key 로 사용 가능합니다 (뒤에서 살펴보겠습니다.)\n",
        "\n",
        "# Dictionary\n",
        "\n",
        "당신의 이름은 무엇입니까? 혹은 당신의 나이는 몇살입니까 물었을 때, 각각 해당하는 값을 가지고 있습니다.\n",
        "\n",
        "이러한 대응관계를 나타내기 위해 사용하는 데이터 타입이 dictionary 입니다.\n",
        "\n",
        "Dictionary는 {} 혹은 dict()를 이용하여 생성합니다."
      ]
    },
    {
      "metadata": {
        "id": "DBV0tsT8L55O",
        "colab_type": "code",
        "colab": {}
      },
      "cell_type": "code",
      "source": [
        "hong = {'나이': 20, '이름': '홍길동'}\n",
        "\n",
        "print(hong)"
      ],
      "execution_count": 0,
      "outputs": []
    },
    {
      "metadata": {
        "id": "Zbc5PkZTNF8Q",
        "colab_type": "text"
      },
      "cell_type": "markdown",
      "source": [
        "주어진 자료형에서 '나이' 혹은 '이름'과 같이 항목명을 나타내는 값을 key\n",
        "\n",
        "실제 저장되어 있는 값을 value 라고 부릅니다.\n",
        "\n",
        "키값 '나이' 에 대한 value는 20 입니다.\n",
        "\n",
        "\n",
        "주어진 dictionary에는 항목을 다음과 같이 추가 할 수 있습니다."
      ]
    },
    {
      "metadata": {
        "id": "V2TYrN6FNbwh",
        "colab_type": "code",
        "colab": {}
      },
      "cell_type": "code",
      "source": [
        "hong['아버지'] = '홍상직'\n",
        "\n",
        "print(hong)"
      ],
      "execution_count": 0,
      "outputs": []
    },
    {
      "metadata": {
        "id": "zv3zW8VMNXef",
        "colab_type": "text"
      },
      "cell_type": "markdown",
      "source": [
        "또한 저장되어 있는 key에 대한 값은 \n",
        "\n",
        "dictionary\\[key\\] 로 알아올 수 있습니다."
      ]
    },
    {
      "metadata": {
        "id": "in6lsPnnNDI5",
        "colab_type": "code",
        "colab": {}
      },
      "cell_type": "code",
      "source": [
        "print(hong['이름'])"
      ],
      "execution_count": 0,
      "outputs": []
    },
    {
      "metadata": {
        "id": "CY5u7o13Ntn0",
        "colab_type": "text"
      },
      "cell_type": "markdown",
      "source": [
        "Dictionary에 들어 있는 모든 key를 보고 싶으면 for loop을 사용할 수 있습니다."
      ]
    },
    {
      "metadata": {
        "id": "xGi-24TPNscf",
        "colab_type": "code",
        "colab": {}
      },
      "cell_type": "code",
      "source": [
        "print('키 값들')\n",
        "for item in hong:\n",
        "  \n",
        "  print(item)\n",
        "  "
      ],
      "execution_count": 0,
      "outputs": []
    },
    {
      "metadata": {
        "id": "jiJyU33ZN7X6",
        "colab_type": "text"
      },
      "cell_type": "markdown",
      "source": [
        "값들의 리스트를 보기 위해서는  dictionary.values() 함수를 통해 얻을 수 있습니다.\n",
        "\n",
        "주의하실 내용은 키나 값의 순서는 dictionary에 추가한 순서와 다를 수 있습니다."
      ]
    },
    {
      "metadata": {
        "id": "rXU_9kMbOLse",
        "colab_type": "code",
        "colab": {}
      },
      "cell_type": "code",
      "source": [
        "print(hong.values())"
      ],
      "execution_count": 0,
      "outputs": []
    },
    {
      "metadata": {
        "id": "q-r_EQGCN7SV",
        "colab_type": "text"
      },
      "cell_type": "markdown",
      "source": [
        "보통은 key 값 단독이나 value 값을 단독으로 알고 싶은 경우는 많지 않고,\n",
        "\n",
        "두 개의 pair를 알아내고 싶은 경우가 많습니다.\n",
        "\n",
        "위에서 배운 내용을 활용하면 다음과 같이 짤 수 있겠네요."
      ]
    },
    {
      "metadata": {
        "id": "aMHNSV-hN3ge",
        "colab_type": "code",
        "colab": {}
      },
      "cell_type": "code",
      "source": [
        "for key in hong:\n",
        "  \n",
        "  print(key)\n",
        "  print(hong[key])\n",
        "  print()"
      ],
      "execution_count": 0,
      "outputs": []
    },
    {
      "metadata": {
        "id": "oSwhM5mEOqKk",
        "colab_type": "text"
      },
      "cell_type": "markdown",
      "source": [
        "이를 조금 간단하게 짜기 위해서 파이썬에서는 items라는 함수를 제공합니다."
      ]
    },
    {
      "metadata": {
        "id": "aa1a5BUsOpWC",
        "colab_type": "code",
        "colab": {}
      },
      "cell_type": "code",
      "source": [
        "for key, value in hong.items():\n",
        "  print(key)\n",
        "  print(value)\n",
        "  print()"
      ],
      "execution_count": 0,
      "outputs": []
    },
    {
      "metadata": {
        "id": "TCCfU1IDPh2V",
        "colab_type": "text"
      },
      "cell_type": "markdown",
      "source": [
        "Dictionary의 key로는 변하지 않는 자료형만 쓸 수 있습니다.\n",
        "\n",
        "다시 말하면 key로는 list나 dictionary 를 쓸 수 없습니다."
      ]
    },
    {
      "metadata": {
        "id": "8BQSjp22Oy0o",
        "colab_type": "code",
        "colab": {}
      },
      "cell_type": "code",
      "source": [
        "hong[('성', '이름')] = ('홍', '길동')\n",
        "\n",
        "print(hong)"
      ],
      "execution_count": 0,
      "outputs": []
    },
    {
      "metadata": {
        "id": "RQsMyKeCP45S",
        "colab_type": "code",
        "colab": {}
      },
      "cell_type": "code",
      "source": [
        "hong[['성', '이름']] = ('홍', '길동')"
      ],
      "execution_count": 0,
      "outputs": []
    },
    {
      "metadata": {
        "id": "fAEIBQe2wi0l",
        "colab_type": "text"
      },
      "cell_type": "markdown",
      "source": [
        "다음 \n",
        "\n",
        "https://colab.research.google.com/drive/1ssHfL9pkvMlIU9Z2b_81DlSpxTnzlc2P"
      ]
    },
    {
      "metadata": {
        "id": "s4cvfGX7QB15",
        "colab_type": "code",
        "colab": {}
      },
      "cell_type": "code",
      "source": [
        ""
      ],
      "execution_count": 0,
      "outputs": []
    }
  ]
}